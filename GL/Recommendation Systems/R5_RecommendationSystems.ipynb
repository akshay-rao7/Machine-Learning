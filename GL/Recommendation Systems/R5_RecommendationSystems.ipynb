{
  "nbformat": 4,
  "nbformat_minor": 0,
  "metadata": {
    "colab": {
      "name": "R5_RecommendationSystems.ipynb",
      "provenance": [],
      "collapsed_sections": [],
      "toc_visible": true
    },
    "kernelspec": {
      "name": "python3",
      "display_name": "Python 3"
    }
  },
  "cells": [
    {
      "cell_type": "markdown",
      "metadata": {
        "id": "yp7vZ3fqcDmU"
      },
      "source": [
        "#1. Popularity Based Recommendation System"
      ]
    },
    {
      "cell_type": "markdown",
      "metadata": {
        "id": "-1aHQkiucWiV"
      },
      "source": [
        "## About the Dataset (jokes.csv)\n",
        "\n",
        "\n",
        "\n",
        " \n",
        "1. Ratings are real values ranging from -10.00 to +10.00 (the value \"99\" corresponds to \"null\" = \"not rated\").\n",
        "  \n",
        "2. One row per user\n",
        "3. The first column gives the number of jokes rated by that user. The next 100 columns give the ratings for jokes 01 - 100.\n",
        "\n"
      ]
    },
    {
      "cell_type": "markdown",
      "metadata": {
        "id": "tQ-vZ1i8dWDj"
      },
      "source": [
        "### Q1. Read the data (jokes.csv)"
      ]
    },
    {
      "cell_type": "code",
      "metadata": {
        "id": "hfJu2nega3q8"
      },
      "source": [
        "import pandas as pd\r\n",
        "import numpy as np\r\n",
        "import os"
      ],
      "execution_count": 6,
      "outputs": []
    },
    {
      "cell_type": "code",
      "metadata": {
        "id": "OG6y52DGUHla"
      },
      "source": [
        "os.chdir('/content/drive/MyDrive/ML/Recommendation System_Internal_Lab_Question (2)')"
      ],
      "execution_count": 7,
      "outputs": []
    },
    {
      "cell_type": "code",
      "metadata": {
        "colab": {
          "base_uri": "https://localhost:8080/"
        },
        "id": "tZCFbeVXUndu",
        "outputId": "b9164000-f01e-45c4-f5db-6a8585b874fb"
      },
      "source": [
        "ls -l"
      ],
      "execution_count": 8,
      "outputs": [
        {
          "output_type": "stream",
          "text": [
            "total 4\n",
            "drwx------ 2 root root 4096 Dec 12 09:07 \u001b[0m\u001b[01;34m'Recommendation System_Internal_Lab_Question'\u001b[0m/\n"
          ],
          "name": "stdout"
        }
      ]
    },
    {
      "cell_type": "code",
      "metadata": {
        "id": "3GqgmUiePw8u"
      },
      "source": [
        "df = pd.read_csv('/content/drive/MyDrive/ML/Recommendation System_Internal_Lab_Question (2)/Recommendation System_Internal_Lab_Question/jokes.csv')"
      ],
      "execution_count": 9,
      "outputs": []
    },
    {
      "cell_type": "code",
      "metadata": {
        "colab": {
          "base_uri": "https://localhost:8080/"
        },
        "id": "w6FXdxfQSI5G",
        "outputId": "c1f07ec1-b781-4522-a68f-62ac7990b426"
      },
      "source": [
        "from google.colab import drive\n",
        "drive.mount('/content/drive', force_remount=True)"
      ],
      "execution_count": 12,
      "outputs": [
        {
          "output_type": "stream",
          "text": [
            "Mounted at /content/drive\n"
          ],
          "name": "stdout"
        }
      ]
    },
    {
      "cell_type": "code",
      "metadata": {
        "colab": {
          "base_uri": "https://localhost:8080/"
        },
        "id": "qsWQ680bag9l",
        "outputId": "65de5f91-4e6a-4e61-da08-84f162851520"
      },
      "source": [
        "df.shape"
      ],
      "execution_count": 12,
      "outputs": [
        {
          "output_type": "execute_result",
          "data": {
            "text/plain": [
              "(24983, 101)"
            ]
          },
          "metadata": {
            "tags": []
          },
          "execution_count": 12
        }
      ]
    },
    {
      "cell_type": "code",
      "metadata": {
        "colab": {
          "base_uri": "https://localhost:8080/",
          "height": 253
        },
        "id": "SSUxapT1ahAs",
        "outputId": "d35c37d0-0612-4e0b-f03c-4ee06a55cc12"
      },
      "source": [
        "df.head()"
      ],
      "execution_count": 16,
      "outputs": [
        {
          "output_type": "execute_result",
          "data": {
            "text/html": [
              "<div>\n",
              "<style scoped>\n",
              "    .dataframe tbody tr th:only-of-type {\n",
              "        vertical-align: middle;\n",
              "    }\n",
              "\n",
              "    .dataframe tbody tr th {\n",
              "        vertical-align: top;\n",
              "    }\n",
              "\n",
              "    .dataframe thead th {\n",
              "        text-align: right;\n",
              "    }\n",
              "</style>\n",
              "<table border=\"1\" class=\"dataframe\">\n",
              "  <thead>\n",
              "    <tr style=\"text-align: right;\">\n",
              "      <th></th>\n",
              "      <th>NumJokes</th>\n",
              "      <th>Joke1</th>\n",
              "      <th>Joke2</th>\n",
              "      <th>Joke3</th>\n",
              "      <th>Joke4</th>\n",
              "      <th>Joke5</th>\n",
              "      <th>Joke6</th>\n",
              "      <th>Joke7</th>\n",
              "      <th>Joke8</th>\n",
              "      <th>Joke9</th>\n",
              "      <th>Joke10</th>\n",
              "      <th>Joke11</th>\n",
              "      <th>Joke12</th>\n",
              "      <th>Joke13</th>\n",
              "      <th>Joke14</th>\n",
              "      <th>Joke15</th>\n",
              "      <th>Joke16</th>\n",
              "      <th>Joke17</th>\n",
              "      <th>Joke18</th>\n",
              "      <th>Joke19</th>\n",
              "      <th>Joke20</th>\n",
              "      <th>Joke21</th>\n",
              "      <th>Joke22</th>\n",
              "      <th>Joke23</th>\n",
              "      <th>Joke24</th>\n",
              "      <th>Joke25</th>\n",
              "      <th>Joke26</th>\n",
              "      <th>Joke27</th>\n",
              "      <th>Joke28</th>\n",
              "      <th>Joke29</th>\n",
              "      <th>Joke30</th>\n",
              "      <th>Joke31</th>\n",
              "      <th>Joke32</th>\n",
              "      <th>Joke33</th>\n",
              "      <th>Joke34</th>\n",
              "      <th>Joke35</th>\n",
              "      <th>Joke36</th>\n",
              "      <th>Joke37</th>\n",
              "      <th>Joke38</th>\n",
              "      <th>Joke39</th>\n",
              "      <th>...</th>\n",
              "      <th>Joke61</th>\n",
              "      <th>Joke62</th>\n",
              "      <th>Joke63</th>\n",
              "      <th>Joke64</th>\n",
              "      <th>Joke65</th>\n",
              "      <th>Joke66</th>\n",
              "      <th>Joke67</th>\n",
              "      <th>Joke68</th>\n",
              "      <th>Joke69</th>\n",
              "      <th>Joke70</th>\n",
              "      <th>Joke71</th>\n",
              "      <th>Joke72</th>\n",
              "      <th>Joke73</th>\n",
              "      <th>Joke74</th>\n",
              "      <th>Joke75</th>\n",
              "      <th>Joke76</th>\n",
              "      <th>Joke77</th>\n",
              "      <th>Joke78</th>\n",
              "      <th>Joke79</th>\n",
              "      <th>Joke80</th>\n",
              "      <th>Joke81</th>\n",
              "      <th>Joke82</th>\n",
              "      <th>Joke83</th>\n",
              "      <th>Joke84</th>\n",
              "      <th>Joke85</th>\n",
              "      <th>Joke86</th>\n",
              "      <th>Joke87</th>\n",
              "      <th>Joke88</th>\n",
              "      <th>Joke89</th>\n",
              "      <th>Joke90</th>\n",
              "      <th>Joke91</th>\n",
              "      <th>Joke92</th>\n",
              "      <th>Joke93</th>\n",
              "      <th>Joke94</th>\n",
              "      <th>Joke95</th>\n",
              "      <th>Joke96</th>\n",
              "      <th>Joke97</th>\n",
              "      <th>Joke98</th>\n",
              "      <th>Joke99</th>\n",
              "      <th>Joke100</th>\n",
              "    </tr>\n",
              "  </thead>\n",
              "  <tbody>\n",
              "    <tr>\n",
              "      <th>0</th>\n",
              "      <td>74</td>\n",
              "      <td>-7.82</td>\n",
              "      <td>8.79</td>\n",
              "      <td>-9.66</td>\n",
              "      <td>-8.16</td>\n",
              "      <td>-7.52</td>\n",
              "      <td>-8.50</td>\n",
              "      <td>-9.85</td>\n",
              "      <td>4.17</td>\n",
              "      <td>-8.98</td>\n",
              "      <td>-4.76</td>\n",
              "      <td>-8.50</td>\n",
              "      <td>-6.75</td>\n",
              "      <td>-7.18</td>\n",
              "      <td>8.45</td>\n",
              "      <td>-7.18</td>\n",
              "      <td>-7.52</td>\n",
              "      <td>-7.43</td>\n",
              "      <td>-9.81</td>\n",
              "      <td>-9.85</td>\n",
              "      <td>-9.85</td>\n",
              "      <td>-9.37</td>\n",
              "      <td>1.50</td>\n",
              "      <td>-4.37</td>\n",
              "      <td>-9.81</td>\n",
              "      <td>-8.50</td>\n",
              "      <td>1.12</td>\n",
              "      <td>7.82</td>\n",
              "      <td>2.86</td>\n",
              "      <td>9.13</td>\n",
              "      <td>-7.43</td>\n",
              "      <td>2.14</td>\n",
              "      <td>-4.08</td>\n",
              "      <td>-9.08</td>\n",
              "      <td>7.82</td>\n",
              "      <td>5.05</td>\n",
              "      <td>4.95</td>\n",
              "      <td>-9.17</td>\n",
              "      <td>-8.40</td>\n",
              "      <td>-8.40</td>\n",
              "      <td>...</td>\n",
              "      <td>8.59</td>\n",
              "      <td>3.59</td>\n",
              "      <td>-6.84</td>\n",
              "      <td>-9.03</td>\n",
              "      <td>2.82</td>\n",
              "      <td>-1.36</td>\n",
              "      <td>-9.08</td>\n",
              "      <td>8.30</td>\n",
              "      <td>5.68</td>\n",
              "      <td>-4.81</td>\n",
              "      <td>99.0</td>\n",
              "      <td>99.00</td>\n",
              "      <td>99.0</td>\n",
              "      <td>99.00</td>\n",
              "      <td>99.00</td>\n",
              "      <td>99.00</td>\n",
              "      <td>99.00</td>\n",
              "      <td>-9.42</td>\n",
              "      <td>99.00</td>\n",
              "      <td>99.00</td>\n",
              "      <td>99.00</td>\n",
              "      <td>-7.72</td>\n",
              "      <td>99.00</td>\n",
              "      <td>99.00</td>\n",
              "      <td>99.00</td>\n",
              "      <td>99.00</td>\n",
              "      <td>99.00</td>\n",
              "      <td>99.00</td>\n",
              "      <td>99.00</td>\n",
              "      <td>99.00</td>\n",
              "      <td>2.82</td>\n",
              "      <td>99.00</td>\n",
              "      <td>99.00</td>\n",
              "      <td>99.00</td>\n",
              "      <td>99.00</td>\n",
              "      <td>99.00</td>\n",
              "      <td>-5.63</td>\n",
              "      <td>99.00</td>\n",
              "      <td>99.00</td>\n",
              "      <td>99.00</td>\n",
              "    </tr>\n",
              "    <tr>\n",
              "      <th>1</th>\n",
              "      <td>100</td>\n",
              "      <td>4.08</td>\n",
              "      <td>-0.29</td>\n",
              "      <td>6.36</td>\n",
              "      <td>4.37</td>\n",
              "      <td>-2.38</td>\n",
              "      <td>-9.66</td>\n",
              "      <td>-0.73</td>\n",
              "      <td>-5.34</td>\n",
              "      <td>8.88</td>\n",
              "      <td>9.22</td>\n",
              "      <td>6.75</td>\n",
              "      <td>8.64</td>\n",
              "      <td>4.42</td>\n",
              "      <td>7.43</td>\n",
              "      <td>4.56</td>\n",
              "      <td>-0.97</td>\n",
              "      <td>4.66</td>\n",
              "      <td>-0.68</td>\n",
              "      <td>3.30</td>\n",
              "      <td>-1.21</td>\n",
              "      <td>0.87</td>\n",
              "      <td>8.64</td>\n",
              "      <td>8.35</td>\n",
              "      <td>9.17</td>\n",
              "      <td>0.05</td>\n",
              "      <td>7.57</td>\n",
              "      <td>4.71</td>\n",
              "      <td>0.87</td>\n",
              "      <td>-0.39</td>\n",
              "      <td>6.99</td>\n",
              "      <td>6.50</td>\n",
              "      <td>-0.92</td>\n",
              "      <td>7.14</td>\n",
              "      <td>9.03</td>\n",
              "      <td>-1.80</td>\n",
              "      <td>0.73</td>\n",
              "      <td>7.09</td>\n",
              "      <td>3.40</td>\n",
              "      <td>-0.87</td>\n",
              "      <td>...</td>\n",
              "      <td>-6.70</td>\n",
              "      <td>-3.35</td>\n",
              "      <td>-9.03</td>\n",
              "      <td>4.47</td>\n",
              "      <td>4.08</td>\n",
              "      <td>-3.83</td>\n",
              "      <td>8.74</td>\n",
              "      <td>1.12</td>\n",
              "      <td>0.78</td>\n",
              "      <td>7.52</td>\n",
              "      <td>-5.0</td>\n",
              "      <td>2.77</td>\n",
              "      <td>8.3</td>\n",
              "      <td>7.77</td>\n",
              "      <td>7.33</td>\n",
              "      <td>6.21</td>\n",
              "      <td>7.72</td>\n",
              "      <td>8.98</td>\n",
              "      <td>8.64</td>\n",
              "      <td>8.20</td>\n",
              "      <td>3.93</td>\n",
              "      <td>4.85</td>\n",
              "      <td>4.85</td>\n",
              "      <td>6.07</td>\n",
              "      <td>8.98</td>\n",
              "      <td>4.51</td>\n",
              "      <td>-0.05</td>\n",
              "      <td>3.69</td>\n",
              "      <td>4.56</td>\n",
              "      <td>0.58</td>\n",
              "      <td>2.82</td>\n",
              "      <td>-4.95</td>\n",
              "      <td>-0.29</td>\n",
              "      <td>7.86</td>\n",
              "      <td>-0.19</td>\n",
              "      <td>-2.14</td>\n",
              "      <td>3.06</td>\n",
              "      <td>0.34</td>\n",
              "      <td>-4.32</td>\n",
              "      <td>1.07</td>\n",
              "    </tr>\n",
              "    <tr>\n",
              "      <th>2</th>\n",
              "      <td>49</td>\n",
              "      <td>99.00</td>\n",
              "      <td>99.00</td>\n",
              "      <td>99.00</td>\n",
              "      <td>99.00</td>\n",
              "      <td>9.03</td>\n",
              "      <td>9.27</td>\n",
              "      <td>9.03</td>\n",
              "      <td>9.27</td>\n",
              "      <td>99.00</td>\n",
              "      <td>99.00</td>\n",
              "      <td>7.33</td>\n",
              "      <td>7.57</td>\n",
              "      <td>9.37</td>\n",
              "      <td>6.17</td>\n",
              "      <td>-6.36</td>\n",
              "      <td>-6.89</td>\n",
              "      <td>-7.86</td>\n",
              "      <td>9.03</td>\n",
              "      <td>9.03</td>\n",
              "      <td>9.03</td>\n",
              "      <td>7.28</td>\n",
              "      <td>99.00</td>\n",
              "      <td>8.25</td>\n",
              "      <td>99.00</td>\n",
              "      <td>99.00</td>\n",
              "      <td>7.48</td>\n",
              "      <td>7.28</td>\n",
              "      <td>7.28</td>\n",
              "      <td>8.93</td>\n",
              "      <td>99.00</td>\n",
              "      <td>6.17</td>\n",
              "      <td>7.28</td>\n",
              "      <td>99.00</td>\n",
              "      <td>99.00</td>\n",
              "      <td>8.98</td>\n",
              "      <td>7.33</td>\n",
              "      <td>99.00</td>\n",
              "      <td>6.17</td>\n",
              "      <td>9.08</td>\n",
              "      <td>...</td>\n",
              "      <td>6.46</td>\n",
              "      <td>7.28</td>\n",
              "      <td>99.00</td>\n",
              "      <td>99.00</td>\n",
              "      <td>7.04</td>\n",
              "      <td>7.28</td>\n",
              "      <td>99.00</td>\n",
              "      <td>7.28</td>\n",
              "      <td>8.25</td>\n",
              "      <td>99.00</td>\n",
              "      <td>99.0</td>\n",
              "      <td>99.00</td>\n",
              "      <td>99.0</td>\n",
              "      <td>99.00</td>\n",
              "      <td>99.00</td>\n",
              "      <td>8.93</td>\n",
              "      <td>99.00</td>\n",
              "      <td>99.00</td>\n",
              "      <td>99.00</td>\n",
              "      <td>9.08</td>\n",
              "      <td>99.00</td>\n",
              "      <td>99.00</td>\n",
              "      <td>99.00</td>\n",
              "      <td>99.00</td>\n",
              "      <td>99.00</td>\n",
              "      <td>99.00</td>\n",
              "      <td>99.00</td>\n",
              "      <td>99.00</td>\n",
              "      <td>99.00</td>\n",
              "      <td>9.03</td>\n",
              "      <td>99.00</td>\n",
              "      <td>99.00</td>\n",
              "      <td>99.00</td>\n",
              "      <td>9.08</td>\n",
              "      <td>99.00</td>\n",
              "      <td>99.00</td>\n",
              "      <td>99.00</td>\n",
              "      <td>99.00</td>\n",
              "      <td>99.00</td>\n",
              "      <td>99.00</td>\n",
              "    </tr>\n",
              "    <tr>\n",
              "      <th>3</th>\n",
              "      <td>48</td>\n",
              "      <td>99.00</td>\n",
              "      <td>8.35</td>\n",
              "      <td>99.00</td>\n",
              "      <td>99.00</td>\n",
              "      <td>1.80</td>\n",
              "      <td>8.16</td>\n",
              "      <td>-2.82</td>\n",
              "      <td>6.21</td>\n",
              "      <td>99.00</td>\n",
              "      <td>1.84</td>\n",
              "      <td>7.33</td>\n",
              "      <td>6.60</td>\n",
              "      <td>6.31</td>\n",
              "      <td>8.11</td>\n",
              "      <td>-7.23</td>\n",
              "      <td>-6.65</td>\n",
              "      <td>1.17</td>\n",
              "      <td>-6.60</td>\n",
              "      <td>-3.64</td>\n",
              "      <td>-2.09</td>\n",
              "      <td>5.34</td>\n",
              "      <td>99.00</td>\n",
              "      <td>99.00</td>\n",
              "      <td>99.00</td>\n",
              "      <td>99.00</td>\n",
              "      <td>2.91</td>\n",
              "      <td>3.93</td>\n",
              "      <td>6.75</td>\n",
              "      <td>6.60</td>\n",
              "      <td>99.00</td>\n",
              "      <td>6.65</td>\n",
              "      <td>-6.12</td>\n",
              "      <td>99.00</td>\n",
              "      <td>7.57</td>\n",
              "      <td>6.21</td>\n",
              "      <td>6.65</td>\n",
              "      <td>99.00</td>\n",
              "      <td>-8.30</td>\n",
              "      <td>7.18</td>\n",
              "      <td>...</td>\n",
              "      <td>0.00</td>\n",
              "      <td>-3.69</td>\n",
              "      <td>99.00</td>\n",
              "      <td>99.00</td>\n",
              "      <td>7.82</td>\n",
              "      <td>0.24</td>\n",
              "      <td>99.00</td>\n",
              "      <td>7.28</td>\n",
              "      <td>-2.33</td>\n",
              "      <td>99.00</td>\n",
              "      <td>99.0</td>\n",
              "      <td>99.00</td>\n",
              "      <td>99.0</td>\n",
              "      <td>99.00</td>\n",
              "      <td>99.00</td>\n",
              "      <td>99.00</td>\n",
              "      <td>99.00</td>\n",
              "      <td>99.00</td>\n",
              "      <td>99.00</td>\n",
              "      <td>99.00</td>\n",
              "      <td>99.00</td>\n",
              "      <td>99.00</td>\n",
              "      <td>99.00</td>\n",
              "      <td>99.00</td>\n",
              "      <td>0.63</td>\n",
              "      <td>99.00</td>\n",
              "      <td>99.00</td>\n",
              "      <td>-2.33</td>\n",
              "      <td>99.00</td>\n",
              "      <td>99.00</td>\n",
              "      <td>99.00</td>\n",
              "      <td>99.00</td>\n",
              "      <td>99.00</td>\n",
              "      <td>0.53</td>\n",
              "      <td>99.00</td>\n",
              "      <td>99.00</td>\n",
              "      <td>99.00</td>\n",
              "      <td>99.00</td>\n",
              "      <td>99.00</td>\n",
              "      <td>99.00</td>\n",
              "    </tr>\n",
              "    <tr>\n",
              "      <th>4</th>\n",
              "      <td>91</td>\n",
              "      <td>8.50</td>\n",
              "      <td>4.61</td>\n",
              "      <td>-4.17</td>\n",
              "      <td>-5.39</td>\n",
              "      <td>1.36</td>\n",
              "      <td>1.60</td>\n",
              "      <td>7.04</td>\n",
              "      <td>4.61</td>\n",
              "      <td>-0.44</td>\n",
              "      <td>5.73</td>\n",
              "      <td>8.25</td>\n",
              "      <td>6.84</td>\n",
              "      <td>-3.93</td>\n",
              "      <td>7.23</td>\n",
              "      <td>-2.33</td>\n",
              "      <td>-9.66</td>\n",
              "      <td>2.72</td>\n",
              "      <td>-1.36</td>\n",
              "      <td>2.57</td>\n",
              "      <td>4.51</td>\n",
              "      <td>8.20</td>\n",
              "      <td>6.12</td>\n",
              "      <td>8.30</td>\n",
              "      <td>-1.26</td>\n",
              "      <td>7.77</td>\n",
              "      <td>1.89</td>\n",
              "      <td>-1.17</td>\n",
              "      <td>5.68</td>\n",
              "      <td>8.45</td>\n",
              "      <td>4.61</td>\n",
              "      <td>8.06</td>\n",
              "      <td>-9.47</td>\n",
              "      <td>7.28</td>\n",
              "      <td>5.68</td>\n",
              "      <td>2.48</td>\n",
              "      <td>3.20</td>\n",
              "      <td>-1.26</td>\n",
              "      <td>6.80</td>\n",
              "      <td>4.51</td>\n",
              "      <td>...</td>\n",
              "      <td>7.38</td>\n",
              "      <td>6.17</td>\n",
              "      <td>4.71</td>\n",
              "      <td>-2.28</td>\n",
              "      <td>7.38</td>\n",
              "      <td>4.56</td>\n",
              "      <td>7.14</td>\n",
              "      <td>4.22</td>\n",
              "      <td>3.01</td>\n",
              "      <td>3.83</td>\n",
              "      <td>99.0</td>\n",
              "      <td>99.00</td>\n",
              "      <td>99.0</td>\n",
              "      <td>99.00</td>\n",
              "      <td>99.00</td>\n",
              "      <td>99.00</td>\n",
              "      <td>4.13</td>\n",
              "      <td>99.00</td>\n",
              "      <td>99.00</td>\n",
              "      <td>99.00</td>\n",
              "      <td>5.24</td>\n",
              "      <td>5.92</td>\n",
              "      <td>0.87</td>\n",
              "      <td>7.28</td>\n",
              "      <td>3.93</td>\n",
              "      <td>-0.63</td>\n",
              "      <td>6.31</td>\n",
              "      <td>4.71</td>\n",
              "      <td>2.82</td>\n",
              "      <td>2.96</td>\n",
              "      <td>5.19</td>\n",
              "      <td>5.58</td>\n",
              "      <td>4.27</td>\n",
              "      <td>5.19</td>\n",
              "      <td>5.73</td>\n",
              "      <td>1.55</td>\n",
              "      <td>3.11</td>\n",
              "      <td>6.55</td>\n",
              "      <td>1.80</td>\n",
              "      <td>1.60</td>\n",
              "    </tr>\n",
              "  </tbody>\n",
              "</table>\n",
              "<p>5 rows × 101 columns</p>\n",
              "</div>"
            ],
            "text/plain": [
              "   NumJokes  Joke1  Joke2  Joke3  ...  Joke97  Joke98  Joke99  Joke100\n",
              "0        74  -7.82   8.79  -9.66  ...   -5.63   99.00   99.00    99.00\n",
              "1       100   4.08  -0.29   6.36  ...    3.06    0.34   -4.32     1.07\n",
              "2        49  99.00  99.00  99.00  ...   99.00   99.00   99.00    99.00\n",
              "3        48  99.00   8.35  99.00  ...   99.00   99.00   99.00    99.00\n",
              "4        91   8.50   4.61  -4.17  ...    3.11    6.55    1.80     1.60\n",
              "\n",
              "[5 rows x 101 columns]"
            ]
          },
          "metadata": {
            "tags": []
          },
          "execution_count": 16
        }
      ]
    },
    {
      "cell_type": "markdown",
      "metadata": {
        "id": "yjXeo2IhPZPU"
      },
      "source": [
        "[link text](https://)"
      ]
    },
    {
      "cell_type": "markdown",
      "metadata": {
        "id": "DgbBAnY8degI"
      },
      "source": [
        "### Q2. Create new Dataframe `ratings` starting from column `joke1` and consider first 200 rows only\n",
        "\n"
      ]
    },
    {
      "cell_type": "code",
      "metadata": {
        "id": "UGcwEfR0bjvj"
      },
      "source": [
        "ratings = df.iloc[:200,1:]"
      ],
      "execution_count": 29,
      "outputs": []
    },
    {
      "cell_type": "code",
      "metadata": {
        "colab": {
          "base_uri": "https://localhost:8080/"
        },
        "id": "ySuAQ1brb-aZ",
        "outputId": "7e732cb6-d7ea-4664-f0d2-bc967027bba2"
      },
      "source": [
        "ratings.isnull().any().sum()"
      ],
      "execution_count": 30,
      "outputs": [
        {
          "output_type": "execute_result",
          "data": {
            "text/plain": [
              "0"
            ]
          },
          "metadata": {
            "tags": []
          },
          "execution_count": 30
        }
      ]
    },
    {
      "cell_type": "code",
      "metadata": {
        "colab": {
          "base_uri": "https://localhost:8080/",
          "height": 253
        },
        "id": "pywwVFfWbwg0",
        "outputId": "cbcfdc07-1fbb-4164-b4d4-913aba828d9b"
      },
      "source": [
        "ratings.head()"
      ],
      "execution_count": 31,
      "outputs": [
        {
          "output_type": "execute_result",
          "data": {
            "text/html": [
              "<div>\n",
              "<style scoped>\n",
              "    .dataframe tbody tr th:only-of-type {\n",
              "        vertical-align: middle;\n",
              "    }\n",
              "\n",
              "    .dataframe tbody tr th {\n",
              "        vertical-align: top;\n",
              "    }\n",
              "\n",
              "    .dataframe thead th {\n",
              "        text-align: right;\n",
              "    }\n",
              "</style>\n",
              "<table border=\"1\" class=\"dataframe\">\n",
              "  <thead>\n",
              "    <tr style=\"text-align: right;\">\n",
              "      <th></th>\n",
              "      <th>Joke1</th>\n",
              "      <th>Joke2</th>\n",
              "      <th>Joke3</th>\n",
              "      <th>Joke4</th>\n",
              "      <th>Joke5</th>\n",
              "      <th>Joke6</th>\n",
              "      <th>Joke7</th>\n",
              "      <th>Joke8</th>\n",
              "      <th>Joke9</th>\n",
              "      <th>Joke10</th>\n",
              "      <th>Joke11</th>\n",
              "      <th>Joke12</th>\n",
              "      <th>Joke13</th>\n",
              "      <th>Joke14</th>\n",
              "      <th>Joke15</th>\n",
              "      <th>Joke16</th>\n",
              "      <th>Joke17</th>\n",
              "      <th>Joke18</th>\n",
              "      <th>Joke19</th>\n",
              "      <th>Joke20</th>\n",
              "      <th>Joke21</th>\n",
              "      <th>Joke22</th>\n",
              "      <th>Joke23</th>\n",
              "      <th>Joke24</th>\n",
              "      <th>Joke25</th>\n",
              "      <th>Joke26</th>\n",
              "      <th>Joke27</th>\n",
              "      <th>Joke28</th>\n",
              "      <th>Joke29</th>\n",
              "      <th>Joke30</th>\n",
              "      <th>Joke31</th>\n",
              "      <th>Joke32</th>\n",
              "      <th>Joke33</th>\n",
              "      <th>Joke34</th>\n",
              "      <th>Joke35</th>\n",
              "      <th>Joke36</th>\n",
              "      <th>Joke37</th>\n",
              "      <th>Joke38</th>\n",
              "      <th>Joke39</th>\n",
              "      <th>Joke40</th>\n",
              "      <th>...</th>\n",
              "      <th>Joke61</th>\n",
              "      <th>Joke62</th>\n",
              "      <th>Joke63</th>\n",
              "      <th>Joke64</th>\n",
              "      <th>Joke65</th>\n",
              "      <th>Joke66</th>\n",
              "      <th>Joke67</th>\n",
              "      <th>Joke68</th>\n",
              "      <th>Joke69</th>\n",
              "      <th>Joke70</th>\n",
              "      <th>Joke71</th>\n",
              "      <th>Joke72</th>\n",
              "      <th>Joke73</th>\n",
              "      <th>Joke74</th>\n",
              "      <th>Joke75</th>\n",
              "      <th>Joke76</th>\n",
              "      <th>Joke77</th>\n",
              "      <th>Joke78</th>\n",
              "      <th>Joke79</th>\n",
              "      <th>Joke80</th>\n",
              "      <th>Joke81</th>\n",
              "      <th>Joke82</th>\n",
              "      <th>Joke83</th>\n",
              "      <th>Joke84</th>\n",
              "      <th>Joke85</th>\n",
              "      <th>Joke86</th>\n",
              "      <th>Joke87</th>\n",
              "      <th>Joke88</th>\n",
              "      <th>Joke89</th>\n",
              "      <th>Joke90</th>\n",
              "      <th>Joke91</th>\n",
              "      <th>Joke92</th>\n",
              "      <th>Joke93</th>\n",
              "      <th>Joke94</th>\n",
              "      <th>Joke95</th>\n",
              "      <th>Joke96</th>\n",
              "      <th>Joke97</th>\n",
              "      <th>Joke98</th>\n",
              "      <th>Joke99</th>\n",
              "      <th>Joke100</th>\n",
              "    </tr>\n",
              "  </thead>\n",
              "  <tbody>\n",
              "    <tr>\n",
              "      <th>0</th>\n",
              "      <td>-7.82</td>\n",
              "      <td>8.79</td>\n",
              "      <td>-9.66</td>\n",
              "      <td>-8.16</td>\n",
              "      <td>-7.52</td>\n",
              "      <td>-8.50</td>\n",
              "      <td>-9.85</td>\n",
              "      <td>4.17</td>\n",
              "      <td>-8.98</td>\n",
              "      <td>-4.76</td>\n",
              "      <td>-8.50</td>\n",
              "      <td>-6.75</td>\n",
              "      <td>-7.18</td>\n",
              "      <td>8.45</td>\n",
              "      <td>-7.18</td>\n",
              "      <td>-7.52</td>\n",
              "      <td>-7.43</td>\n",
              "      <td>-9.81</td>\n",
              "      <td>-9.85</td>\n",
              "      <td>-9.85</td>\n",
              "      <td>-9.37</td>\n",
              "      <td>1.50</td>\n",
              "      <td>-4.37</td>\n",
              "      <td>-9.81</td>\n",
              "      <td>-8.50</td>\n",
              "      <td>1.12</td>\n",
              "      <td>7.82</td>\n",
              "      <td>2.86</td>\n",
              "      <td>9.13</td>\n",
              "      <td>-7.43</td>\n",
              "      <td>2.14</td>\n",
              "      <td>-4.08</td>\n",
              "      <td>-9.08</td>\n",
              "      <td>7.82</td>\n",
              "      <td>5.05</td>\n",
              "      <td>4.95</td>\n",
              "      <td>-9.17</td>\n",
              "      <td>-8.40</td>\n",
              "      <td>-8.40</td>\n",
              "      <td>-8.40</td>\n",
              "      <td>...</td>\n",
              "      <td>8.59</td>\n",
              "      <td>3.59</td>\n",
              "      <td>-6.84</td>\n",
              "      <td>-9.03</td>\n",
              "      <td>2.82</td>\n",
              "      <td>-1.36</td>\n",
              "      <td>-9.08</td>\n",
              "      <td>8.30</td>\n",
              "      <td>5.68</td>\n",
              "      <td>-4.81</td>\n",
              "      <td>99.0</td>\n",
              "      <td>99.00</td>\n",
              "      <td>99.0</td>\n",
              "      <td>99.00</td>\n",
              "      <td>99.00</td>\n",
              "      <td>99.00</td>\n",
              "      <td>99.00</td>\n",
              "      <td>-9.42</td>\n",
              "      <td>99.00</td>\n",
              "      <td>99.00</td>\n",
              "      <td>99.00</td>\n",
              "      <td>-7.72</td>\n",
              "      <td>99.00</td>\n",
              "      <td>99.00</td>\n",
              "      <td>99.00</td>\n",
              "      <td>99.00</td>\n",
              "      <td>99.00</td>\n",
              "      <td>99.00</td>\n",
              "      <td>99.00</td>\n",
              "      <td>99.00</td>\n",
              "      <td>2.82</td>\n",
              "      <td>99.00</td>\n",
              "      <td>99.00</td>\n",
              "      <td>99.00</td>\n",
              "      <td>99.00</td>\n",
              "      <td>99.00</td>\n",
              "      <td>-5.63</td>\n",
              "      <td>99.00</td>\n",
              "      <td>99.00</td>\n",
              "      <td>99.00</td>\n",
              "    </tr>\n",
              "    <tr>\n",
              "      <th>1</th>\n",
              "      <td>4.08</td>\n",
              "      <td>-0.29</td>\n",
              "      <td>6.36</td>\n",
              "      <td>4.37</td>\n",
              "      <td>-2.38</td>\n",
              "      <td>-9.66</td>\n",
              "      <td>-0.73</td>\n",
              "      <td>-5.34</td>\n",
              "      <td>8.88</td>\n",
              "      <td>9.22</td>\n",
              "      <td>6.75</td>\n",
              "      <td>8.64</td>\n",
              "      <td>4.42</td>\n",
              "      <td>7.43</td>\n",
              "      <td>4.56</td>\n",
              "      <td>-0.97</td>\n",
              "      <td>4.66</td>\n",
              "      <td>-0.68</td>\n",
              "      <td>3.30</td>\n",
              "      <td>-1.21</td>\n",
              "      <td>0.87</td>\n",
              "      <td>8.64</td>\n",
              "      <td>8.35</td>\n",
              "      <td>9.17</td>\n",
              "      <td>0.05</td>\n",
              "      <td>7.57</td>\n",
              "      <td>4.71</td>\n",
              "      <td>0.87</td>\n",
              "      <td>-0.39</td>\n",
              "      <td>6.99</td>\n",
              "      <td>6.50</td>\n",
              "      <td>-0.92</td>\n",
              "      <td>7.14</td>\n",
              "      <td>9.03</td>\n",
              "      <td>-1.80</td>\n",
              "      <td>0.73</td>\n",
              "      <td>7.09</td>\n",
              "      <td>3.40</td>\n",
              "      <td>-0.87</td>\n",
              "      <td>7.91</td>\n",
              "      <td>...</td>\n",
              "      <td>-6.70</td>\n",
              "      <td>-3.35</td>\n",
              "      <td>-9.03</td>\n",
              "      <td>4.47</td>\n",
              "      <td>4.08</td>\n",
              "      <td>-3.83</td>\n",
              "      <td>8.74</td>\n",
              "      <td>1.12</td>\n",
              "      <td>0.78</td>\n",
              "      <td>7.52</td>\n",
              "      <td>-5.0</td>\n",
              "      <td>2.77</td>\n",
              "      <td>8.3</td>\n",
              "      <td>7.77</td>\n",
              "      <td>7.33</td>\n",
              "      <td>6.21</td>\n",
              "      <td>7.72</td>\n",
              "      <td>8.98</td>\n",
              "      <td>8.64</td>\n",
              "      <td>8.20</td>\n",
              "      <td>3.93</td>\n",
              "      <td>4.85</td>\n",
              "      <td>4.85</td>\n",
              "      <td>6.07</td>\n",
              "      <td>8.98</td>\n",
              "      <td>4.51</td>\n",
              "      <td>-0.05</td>\n",
              "      <td>3.69</td>\n",
              "      <td>4.56</td>\n",
              "      <td>0.58</td>\n",
              "      <td>2.82</td>\n",
              "      <td>-4.95</td>\n",
              "      <td>-0.29</td>\n",
              "      <td>7.86</td>\n",
              "      <td>-0.19</td>\n",
              "      <td>-2.14</td>\n",
              "      <td>3.06</td>\n",
              "      <td>0.34</td>\n",
              "      <td>-4.32</td>\n",
              "      <td>1.07</td>\n",
              "    </tr>\n",
              "    <tr>\n",
              "      <th>2</th>\n",
              "      <td>99.00</td>\n",
              "      <td>99.00</td>\n",
              "      <td>99.00</td>\n",
              "      <td>99.00</td>\n",
              "      <td>9.03</td>\n",
              "      <td>9.27</td>\n",
              "      <td>9.03</td>\n",
              "      <td>9.27</td>\n",
              "      <td>99.00</td>\n",
              "      <td>99.00</td>\n",
              "      <td>7.33</td>\n",
              "      <td>7.57</td>\n",
              "      <td>9.37</td>\n",
              "      <td>6.17</td>\n",
              "      <td>-6.36</td>\n",
              "      <td>-6.89</td>\n",
              "      <td>-7.86</td>\n",
              "      <td>9.03</td>\n",
              "      <td>9.03</td>\n",
              "      <td>9.03</td>\n",
              "      <td>7.28</td>\n",
              "      <td>99.00</td>\n",
              "      <td>8.25</td>\n",
              "      <td>99.00</td>\n",
              "      <td>99.00</td>\n",
              "      <td>7.48</td>\n",
              "      <td>7.28</td>\n",
              "      <td>7.28</td>\n",
              "      <td>8.93</td>\n",
              "      <td>99.00</td>\n",
              "      <td>6.17</td>\n",
              "      <td>7.28</td>\n",
              "      <td>99.00</td>\n",
              "      <td>99.00</td>\n",
              "      <td>8.98</td>\n",
              "      <td>7.33</td>\n",
              "      <td>99.00</td>\n",
              "      <td>6.17</td>\n",
              "      <td>9.08</td>\n",
              "      <td>7.33</td>\n",
              "      <td>...</td>\n",
              "      <td>6.46</td>\n",
              "      <td>7.28</td>\n",
              "      <td>99.00</td>\n",
              "      <td>99.00</td>\n",
              "      <td>7.04</td>\n",
              "      <td>7.28</td>\n",
              "      <td>99.00</td>\n",
              "      <td>7.28</td>\n",
              "      <td>8.25</td>\n",
              "      <td>99.00</td>\n",
              "      <td>99.0</td>\n",
              "      <td>99.00</td>\n",
              "      <td>99.0</td>\n",
              "      <td>99.00</td>\n",
              "      <td>99.00</td>\n",
              "      <td>8.93</td>\n",
              "      <td>99.00</td>\n",
              "      <td>99.00</td>\n",
              "      <td>99.00</td>\n",
              "      <td>9.08</td>\n",
              "      <td>99.00</td>\n",
              "      <td>99.00</td>\n",
              "      <td>99.00</td>\n",
              "      <td>99.00</td>\n",
              "      <td>99.00</td>\n",
              "      <td>99.00</td>\n",
              "      <td>99.00</td>\n",
              "      <td>99.00</td>\n",
              "      <td>99.00</td>\n",
              "      <td>9.03</td>\n",
              "      <td>99.00</td>\n",
              "      <td>99.00</td>\n",
              "      <td>99.00</td>\n",
              "      <td>9.08</td>\n",
              "      <td>99.00</td>\n",
              "      <td>99.00</td>\n",
              "      <td>99.00</td>\n",
              "      <td>99.00</td>\n",
              "      <td>99.00</td>\n",
              "      <td>99.00</td>\n",
              "    </tr>\n",
              "    <tr>\n",
              "      <th>3</th>\n",
              "      <td>99.00</td>\n",
              "      <td>8.35</td>\n",
              "      <td>99.00</td>\n",
              "      <td>99.00</td>\n",
              "      <td>1.80</td>\n",
              "      <td>8.16</td>\n",
              "      <td>-2.82</td>\n",
              "      <td>6.21</td>\n",
              "      <td>99.00</td>\n",
              "      <td>1.84</td>\n",
              "      <td>7.33</td>\n",
              "      <td>6.60</td>\n",
              "      <td>6.31</td>\n",
              "      <td>8.11</td>\n",
              "      <td>-7.23</td>\n",
              "      <td>-6.65</td>\n",
              "      <td>1.17</td>\n",
              "      <td>-6.60</td>\n",
              "      <td>-3.64</td>\n",
              "      <td>-2.09</td>\n",
              "      <td>5.34</td>\n",
              "      <td>99.00</td>\n",
              "      <td>99.00</td>\n",
              "      <td>99.00</td>\n",
              "      <td>99.00</td>\n",
              "      <td>2.91</td>\n",
              "      <td>3.93</td>\n",
              "      <td>6.75</td>\n",
              "      <td>6.60</td>\n",
              "      <td>99.00</td>\n",
              "      <td>6.65</td>\n",
              "      <td>-6.12</td>\n",
              "      <td>99.00</td>\n",
              "      <td>7.57</td>\n",
              "      <td>6.21</td>\n",
              "      <td>6.65</td>\n",
              "      <td>99.00</td>\n",
              "      <td>-8.30</td>\n",
              "      <td>7.18</td>\n",
              "      <td>2.82</td>\n",
              "      <td>...</td>\n",
              "      <td>0.00</td>\n",
              "      <td>-3.69</td>\n",
              "      <td>99.00</td>\n",
              "      <td>99.00</td>\n",
              "      <td>7.82</td>\n",
              "      <td>0.24</td>\n",
              "      <td>99.00</td>\n",
              "      <td>7.28</td>\n",
              "      <td>-2.33</td>\n",
              "      <td>99.00</td>\n",
              "      <td>99.0</td>\n",
              "      <td>99.00</td>\n",
              "      <td>99.0</td>\n",
              "      <td>99.00</td>\n",
              "      <td>99.00</td>\n",
              "      <td>99.00</td>\n",
              "      <td>99.00</td>\n",
              "      <td>99.00</td>\n",
              "      <td>99.00</td>\n",
              "      <td>99.00</td>\n",
              "      <td>99.00</td>\n",
              "      <td>99.00</td>\n",
              "      <td>99.00</td>\n",
              "      <td>99.00</td>\n",
              "      <td>0.63</td>\n",
              "      <td>99.00</td>\n",
              "      <td>99.00</td>\n",
              "      <td>-2.33</td>\n",
              "      <td>99.00</td>\n",
              "      <td>99.00</td>\n",
              "      <td>99.00</td>\n",
              "      <td>99.00</td>\n",
              "      <td>99.00</td>\n",
              "      <td>0.53</td>\n",
              "      <td>99.00</td>\n",
              "      <td>99.00</td>\n",
              "      <td>99.00</td>\n",
              "      <td>99.00</td>\n",
              "      <td>99.00</td>\n",
              "      <td>99.00</td>\n",
              "    </tr>\n",
              "    <tr>\n",
              "      <th>4</th>\n",
              "      <td>8.50</td>\n",
              "      <td>4.61</td>\n",
              "      <td>-4.17</td>\n",
              "      <td>-5.39</td>\n",
              "      <td>1.36</td>\n",
              "      <td>1.60</td>\n",
              "      <td>7.04</td>\n",
              "      <td>4.61</td>\n",
              "      <td>-0.44</td>\n",
              "      <td>5.73</td>\n",
              "      <td>8.25</td>\n",
              "      <td>6.84</td>\n",
              "      <td>-3.93</td>\n",
              "      <td>7.23</td>\n",
              "      <td>-2.33</td>\n",
              "      <td>-9.66</td>\n",
              "      <td>2.72</td>\n",
              "      <td>-1.36</td>\n",
              "      <td>2.57</td>\n",
              "      <td>4.51</td>\n",
              "      <td>8.20</td>\n",
              "      <td>6.12</td>\n",
              "      <td>8.30</td>\n",
              "      <td>-1.26</td>\n",
              "      <td>7.77</td>\n",
              "      <td>1.89</td>\n",
              "      <td>-1.17</td>\n",
              "      <td>5.68</td>\n",
              "      <td>8.45</td>\n",
              "      <td>4.61</td>\n",
              "      <td>8.06</td>\n",
              "      <td>-9.47</td>\n",
              "      <td>7.28</td>\n",
              "      <td>5.68</td>\n",
              "      <td>2.48</td>\n",
              "      <td>3.20</td>\n",
              "      <td>-1.26</td>\n",
              "      <td>6.80</td>\n",
              "      <td>4.51</td>\n",
              "      <td>2.48</td>\n",
              "      <td>...</td>\n",
              "      <td>7.38</td>\n",
              "      <td>6.17</td>\n",
              "      <td>4.71</td>\n",
              "      <td>-2.28</td>\n",
              "      <td>7.38</td>\n",
              "      <td>4.56</td>\n",
              "      <td>7.14</td>\n",
              "      <td>4.22</td>\n",
              "      <td>3.01</td>\n",
              "      <td>3.83</td>\n",
              "      <td>99.0</td>\n",
              "      <td>99.00</td>\n",
              "      <td>99.0</td>\n",
              "      <td>99.00</td>\n",
              "      <td>99.00</td>\n",
              "      <td>99.00</td>\n",
              "      <td>4.13</td>\n",
              "      <td>99.00</td>\n",
              "      <td>99.00</td>\n",
              "      <td>99.00</td>\n",
              "      <td>5.24</td>\n",
              "      <td>5.92</td>\n",
              "      <td>0.87</td>\n",
              "      <td>7.28</td>\n",
              "      <td>3.93</td>\n",
              "      <td>-0.63</td>\n",
              "      <td>6.31</td>\n",
              "      <td>4.71</td>\n",
              "      <td>2.82</td>\n",
              "      <td>2.96</td>\n",
              "      <td>5.19</td>\n",
              "      <td>5.58</td>\n",
              "      <td>4.27</td>\n",
              "      <td>5.19</td>\n",
              "      <td>5.73</td>\n",
              "      <td>1.55</td>\n",
              "      <td>3.11</td>\n",
              "      <td>6.55</td>\n",
              "      <td>1.80</td>\n",
              "      <td>1.60</td>\n",
              "    </tr>\n",
              "  </tbody>\n",
              "</table>\n",
              "<p>5 rows × 100 columns</p>\n",
              "</div>"
            ],
            "text/plain": [
              "   Joke1  Joke2  Joke3  Joke4  Joke5  ...  Joke96  Joke97  Joke98  Joke99  Joke100\n",
              "0  -7.82   8.79  -9.66  -8.16  -7.52  ...   99.00   -5.63   99.00   99.00    99.00\n",
              "1   4.08  -0.29   6.36   4.37  -2.38  ...   -2.14    3.06    0.34   -4.32     1.07\n",
              "2  99.00  99.00  99.00  99.00   9.03  ...   99.00   99.00   99.00   99.00    99.00\n",
              "3  99.00   8.35  99.00  99.00   1.80  ...   99.00   99.00   99.00   99.00    99.00\n",
              "4   8.50   4.61  -4.17  -5.39   1.36  ...    1.55    3.11    6.55    1.80     1.60\n",
              "\n",
              "[5 rows x 100 columns]"
            ]
          },
          "metadata": {
            "tags": []
          },
          "execution_count": 31
        }
      ]
    },
    {
      "cell_type": "markdown",
      "metadata": {
        "id": "LqVdyB3veB22"
      },
      "source": [
        "### Q3. Preprocess `ratings`\n",
        "\n",
        "\n",
        "*   Verify presence of null values\n",
        "*   Replace null with 0\n",
        "\n"
      ]
    },
    {
      "cell_type": "code",
      "metadata": {
        "id": "HvmYrv2ueiY2",
        "colab": {
          "base_uri": "https://localhost:8080/"
        },
        "outputId": "5a4a039d-8756-475c-f72a-f9afca17eb94"
      },
      "source": [
        "ratings.isnull().any().sum()"
      ],
      "execution_count": 33,
      "outputs": [
        {
          "output_type": "execute_result",
          "data": {
            "text/plain": [
              "0"
            ]
          },
          "metadata": {
            "tags": []
          },
          "execution_count": 33
        }
      ]
    },
    {
      "cell_type": "code",
      "metadata": {
        "id": "NhMzOXUjc2CU"
      },
      "source": [
        "ratings = ratings.replace(99,0)"
      ],
      "execution_count": 34,
      "outputs": []
    },
    {
      "cell_type": "markdown",
      "metadata": {
        "id": "wAATaQB9emb4"
      },
      "source": [
        "### Q4. Find mean for each joke\n",
        "\n",
        "\n",
        "*   Find mean of 100 jokes\n",
        "\n"
      ]
    },
    {
      "cell_type": "code",
      "metadata": {
        "id": "rLyJwXaWfQFB",
        "colab": {
          "base_uri": "https://localhost:8080/"
        },
        "outputId": "97d61fcb-257a-4bbd-f16d-949f4d9dc163"
      },
      "source": [
        "mean_ratings = ratings.mean(axis=0)\r\n",
        "print(mean_ratings)\r\n",
        "mean_ratings.head()"
      ],
      "execution_count": 37,
      "outputs": [
        {
          "output_type": "stream",
          "text": [
            "Joke1      0.53005\n",
            "Joke2      0.59390\n",
            "Joke3      0.23765\n",
            "Joke4     -0.70100\n",
            "Joke5     -0.03790\n",
            "            ...   \n",
            "Joke96     0.41755\n",
            "Joke97     0.75500\n",
            "Joke98     0.09370\n",
            "Joke99     0.13500\n",
            "Joke100    0.52440\n",
            "Length: 100, dtype: float64\n"
          ],
          "name": "stdout"
        },
        {
          "output_type": "execute_result",
          "data": {
            "text/plain": [
              "Joke1    0.53005\n",
              "Joke2    0.59390\n",
              "Joke3    0.23765\n",
              "Joke4   -0.70100\n",
              "Joke5   -0.03790\n",
              "dtype: float64"
            ]
          },
          "metadata": {
            "tags": []
          },
          "execution_count": 37
        }
      ]
    },
    {
      "cell_type": "markdown",
      "metadata": {
        "id": "rGF8KBZ_fQiQ"
      },
      "source": [
        "### Q5. List most popular 10 jokes"
      ]
    },
    {
      "cell_type": "code",
      "metadata": {
        "id": "MjQiJAfJflHF",
        "colab": {
          "base_uri": "https://localhost:8080/"
        },
        "outputId": "b435ff4c-92c7-41c3-9b1f-e11695c7ac96"
      },
      "source": [
        "mean_ratings.sort_values(axis=0, ascending = False).head(10)"
      ],
      "execution_count": 40,
      "outputs": [
        {
          "output_type": "execute_result",
          "data": {
            "text/plain": [
              "Joke50    4.05540\n",
              "Joke36    3.61150\n",
              "Joke53    3.57150\n",
              "Joke35    3.22315\n",
              "Joke29    3.18995\n",
              "Joke27    3.05240\n",
              "Joke62    2.86185\n",
              "Joke49    2.85000\n",
              "Joke32    2.77955\n",
              "Joke31    2.65710\n",
              "dtype: float64"
            ]
          },
          "metadata": {
            "tags": []
          },
          "execution_count": 40
        }
      ]
    },
    {
      "cell_type": "markdown",
      "metadata": {
        "id": "3GQ7F8wTfwiR"
      },
      "source": [
        "#2. Collaborative Filtering based Recommendation System"
      ]
    },
    {
      "cell_type": "markdown",
      "metadata": {
        "id": "iiThH0G6gEzy"
      },
      "source": [
        "## About the Dataset\n",
        "\n",
        "This dataset has been compiled by Cai-Nicolas Ziegler in 2004, and it comprises of three tables for users, books and ratings. Explicit ratings are expressed on a scale from 1-10 (higher values denoting higher appreciation) and implicit rating is expressed by 0.\n",
        "\n",
        "Reference: http://www2.informatik.uni-freiburg.de/~cziegler/BX/"
      ]
    },
    {
      "cell_type": "markdown",
      "metadata": {
        "id": "69LQ5MYBgmL-"
      },
      "source": [
        "#### Execute below cells to read the datasets"
      ]
    },
    {
      "cell_type": "code",
      "metadata": {
        "id": "RYlXngM9grZ0",
        "colab": {
          "base_uri": "https://localhost:8080/"
        },
        "outputId": "c1cdb25f-8b97-4e56-f2b2-920cbdec5c48"
      },
      "source": [
        "books = pd.read_csv(\"/content/drive/MyDrive/ML/Recommendation System_Internal_Lab_Question (2)/Recommendation System_Internal_Lab_Question/books.csv\", sep=\";\", error_bad_lines=False, encoding=\"latin-1\")\n",
        "books.columns = ['ISBN', 'bookTitle', 'bookAuthor', 'yearOfPublication', 'publisher', 'imageUrlS', 'imageUrlM', 'imageUrlL']\n",
        "\n",
        "\n",
        "users = pd.read_csv('/content/drive/MyDrive/ML/Recommendation System_Internal_Lab_Question (2)/Recommendation System_Internal_Lab_Question/users.csv', sep=';', error_bad_lines=False, encoding=\"latin-1\")\n",
        "users.columns = ['userID', 'Location', 'Age']\n",
        "\n",
        "ratings = pd.read_csv('/content/drive/MyDrive/ML/Recommendation System_Internal_Lab_Question (2)/Recommendation System_Internal_Lab_Question/ratings.csv', sep=';', error_bad_lines=False, encoding=\"latin-1\")\n",
        "ratings.columns = ['userID', 'ISBN', 'bookRating']"
      ],
      "execution_count": 211,
      "outputs": [
        {
          "output_type": "stream",
          "text": [
            "b'Skipping line 6452: expected 8 fields, saw 9\\nSkipping line 43667: expected 8 fields, saw 10\\nSkipping line 51751: expected 8 fields, saw 9\\n'\n",
            "b'Skipping line 92038: expected 8 fields, saw 9\\nSkipping line 104319: expected 8 fields, saw 9\\nSkipping line 121768: expected 8 fields, saw 9\\n'\n",
            "b'Skipping line 144058: expected 8 fields, saw 9\\nSkipping line 150789: expected 8 fields, saw 9\\nSkipping line 157128: expected 8 fields, saw 9\\nSkipping line 180189: expected 8 fields, saw 9\\nSkipping line 185738: expected 8 fields, saw 9\\n'\n",
            "b'Skipping line 209388: expected 8 fields, saw 9\\nSkipping line 220626: expected 8 fields, saw 9\\nSkipping line 227933: expected 8 fields, saw 11\\nSkipping line 228957: expected 8 fields, saw 10\\nSkipping line 245933: expected 8 fields, saw 9\\nSkipping line 251296: expected 8 fields, saw 9\\nSkipping line 259941: expected 8 fields, saw 9\\nSkipping line 261529: expected 8 fields, saw 9\\n'\n",
            "/usr/local/lib/python3.6/dist-packages/IPython/core/interactiveshell.py:2718: DtypeWarning: Columns (3) have mixed types.Specify dtype option on import or set low_memory=False.\n",
            "  interactivity=interactivity, compiler=compiler, result=result)\n"
          ],
          "name": "stderr"
        }
      ]
    },
    {
      "cell_type": "markdown",
      "metadata": {
        "id": "Ip_SwM7Yg0kC"
      },
      "source": [
        "# Q1. Explore the Dataset\n",
        "\n",
        "1.   Check shape of all the datasets\n",
        "2.   Print Columns in all the datasets\n",
        "3.   Remove last 3 columns of `books` ('imageUrlS', 'imageUrlM', 'imageUrlL')and verify\n",
        "\n"
      ]
    },
    {
      "cell_type": "code",
      "metadata": {
        "id": "zvs5CVRRhsBz",
        "colab": {
          "base_uri": "https://localhost:8080/"
        },
        "outputId": "b27193ff-a99d-4592-aa48-fc31b8932346"
      },
      "source": [
        "print(\"books counts = \" + str(books.shape))\r\n",
        "print(\"users counts = \" + str(users.shape))\r\n",
        "print(\"ratings counts = \" + str(ratings.shape))\r\n",
        "print(\"books columns = \" + str(books.columns))\r\n",
        "print(\"user columns = \" + str(users.columns))\r\n",
        "print(\"ratings columns = \" + str(ratings.columns))"
      ],
      "execution_count": 58,
      "outputs": [
        {
          "output_type": "stream",
          "text": [
            "books counts = (271360, 5)\n",
            "users counts = (278858, 3)\n",
            "ratings counts = (1149780, 3)\n",
            "books columns = Index(['ISBN', 'bookTitle', 'bookAuthor', 'yearOfPublication', 'publisher'], dtype='object')\n",
            "user columns = Index(['userID', 'Location', 'Age'], dtype='object')\n",
            "ratings columns = Index(['userID', 'ISBN', 'bookRating'], dtype='object')\n"
          ],
          "name": "stdout"
        }
      ]
    },
    {
      "cell_type": "code",
      "metadata": {
        "id": "tjFLg5eIgdMI"
      },
      "source": [
        "books.drop(columns=['imageUrlS', 'imageUrlM', 'imageUrlL'],inplace=True)"
      ],
      "execution_count": 212,
      "outputs": []
    },
    {
      "cell_type": "code",
      "metadata": {
        "colab": {
          "base_uri": "https://localhost:8080/",
          "height": 255
        },
        "id": "aGGm73EgicA2",
        "outputId": "6b089207-2336-4737-ce24-2d08359941b6"
      },
      "source": [
        "books.head()"
      ],
      "execution_count": 63,
      "outputs": [
        {
          "output_type": "execute_result",
          "data": {
            "text/html": [
              "<div>\n",
              "<style scoped>\n",
              "    .dataframe tbody tr th:only-of-type {\n",
              "        vertical-align: middle;\n",
              "    }\n",
              "\n",
              "    .dataframe tbody tr th {\n",
              "        vertical-align: top;\n",
              "    }\n",
              "\n",
              "    .dataframe thead th {\n",
              "        text-align: right;\n",
              "    }\n",
              "</style>\n",
              "<table border=\"1\" class=\"dataframe\">\n",
              "  <thead>\n",
              "    <tr style=\"text-align: right;\">\n",
              "      <th></th>\n",
              "      <th>ISBN</th>\n",
              "      <th>bookTitle</th>\n",
              "      <th>bookAuthor</th>\n",
              "      <th>yearOfPublication</th>\n",
              "      <th>publisher</th>\n",
              "    </tr>\n",
              "  </thead>\n",
              "  <tbody>\n",
              "    <tr>\n",
              "      <th>0</th>\n",
              "      <td>0195153448</td>\n",
              "      <td>Classical Mythology</td>\n",
              "      <td>Mark P. O. Morford</td>\n",
              "      <td>2002</td>\n",
              "      <td>Oxford University Press</td>\n",
              "    </tr>\n",
              "    <tr>\n",
              "      <th>1</th>\n",
              "      <td>0002005018</td>\n",
              "      <td>Clara Callan</td>\n",
              "      <td>Richard Bruce Wright</td>\n",
              "      <td>2001</td>\n",
              "      <td>HarperFlamingo Canada</td>\n",
              "    </tr>\n",
              "    <tr>\n",
              "      <th>2</th>\n",
              "      <td>0060973129</td>\n",
              "      <td>Decision in Normandy</td>\n",
              "      <td>Carlo D'Este</td>\n",
              "      <td>1991</td>\n",
              "      <td>HarperPerennial</td>\n",
              "    </tr>\n",
              "    <tr>\n",
              "      <th>3</th>\n",
              "      <td>0374157065</td>\n",
              "      <td>Flu: The Story of the Great Influenza Pandemic...</td>\n",
              "      <td>Gina Bari Kolata</td>\n",
              "      <td>1999</td>\n",
              "      <td>Farrar Straus Giroux</td>\n",
              "    </tr>\n",
              "    <tr>\n",
              "      <th>4</th>\n",
              "      <td>0393045218</td>\n",
              "      <td>The Mummies of Urumchi</td>\n",
              "      <td>E. J. W. Barber</td>\n",
              "      <td>1999</td>\n",
              "      <td>W. W. Norton &amp;amp; Company</td>\n",
              "    </tr>\n",
              "  </tbody>\n",
              "</table>\n",
              "</div>"
            ],
            "text/plain": [
              "         ISBN  ...                   publisher\n",
              "0  0195153448  ...     Oxford University Press\n",
              "1  0002005018  ...       HarperFlamingo Canada\n",
              "2  0060973129  ...             HarperPerennial\n",
              "3  0374157065  ...        Farrar Straus Giroux\n",
              "4  0393045218  ...  W. W. Norton &amp; Company\n",
              "\n",
              "[5 rows x 5 columns]"
            ]
          },
          "metadata": {
            "tags": []
          },
          "execution_count": 63
        }
      ]
    },
    {
      "cell_type": "code",
      "metadata": {
        "colab": {
          "base_uri": "https://localhost:8080/"
        },
        "id": "Tx_lUJhLiiSe",
        "outputId": "9e7c3d20-6d37-4407-be0a-883cbdb59632"
      },
      "source": [
        "books.columns"
      ],
      "execution_count": 163,
      "outputs": [
        {
          "output_type": "execute_result",
          "data": {
            "text/plain": [
              "Index(['ISBN', 'bookTitle', 'bookAuthor', 'yearOfPublication', 'publisher'], dtype='object')"
            ]
          },
          "metadata": {
            "tags": []
          },
          "execution_count": 163
        }
      ]
    },
    {
      "cell_type": "markdown",
      "metadata": {
        "id": "o64XqiBCiBWJ"
      },
      "source": [
        "# Q2. Data Preprocessing\n",
        "\n",
        "### Create new DataFrame `ratings_new` with:\n",
        "1.   Books from `ratings` Dataset, which exists in `books` Dataset (Intersect on ISBN)\n",
        "2.   Ratings from `ratings` Dataset, which exists in `users` Dataset (Intersect on userID)\n"
      ]
    },
    {
      "cell_type": "code",
      "metadata": {
        "colab": {
          "base_uri": "https://localhost:8080/",
          "height": 204
        },
        "id": "5upG1jxfmnhL",
        "outputId": "a448cca3-3cbf-49b9-d175-8535d7ae29dc"
      },
      "source": [
        "ratings.head()"
      ],
      "execution_count": 164,
      "outputs": [
        {
          "output_type": "execute_result",
          "data": {
            "text/html": [
              "<div>\n",
              "<style scoped>\n",
              "    .dataframe tbody tr th:only-of-type {\n",
              "        vertical-align: middle;\n",
              "    }\n",
              "\n",
              "    .dataframe tbody tr th {\n",
              "        vertical-align: top;\n",
              "    }\n",
              "\n",
              "    .dataframe thead th {\n",
              "        text-align: right;\n",
              "    }\n",
              "</style>\n",
              "<table border=\"1\" class=\"dataframe\">\n",
              "  <thead>\n",
              "    <tr style=\"text-align: right;\">\n",
              "      <th></th>\n",
              "      <th>userID</th>\n",
              "      <th>ISBN</th>\n",
              "      <th>bookRating</th>\n",
              "    </tr>\n",
              "  </thead>\n",
              "  <tbody>\n",
              "    <tr>\n",
              "      <th>0</th>\n",
              "      <td>276725</td>\n",
              "      <td>034545104X</td>\n",
              "      <td>0</td>\n",
              "    </tr>\n",
              "    <tr>\n",
              "      <th>1</th>\n",
              "      <td>276726</td>\n",
              "      <td>0155061224</td>\n",
              "      <td>5</td>\n",
              "    </tr>\n",
              "    <tr>\n",
              "      <th>2</th>\n",
              "      <td>276727</td>\n",
              "      <td>0446520802</td>\n",
              "      <td>0</td>\n",
              "    </tr>\n",
              "    <tr>\n",
              "      <th>3</th>\n",
              "      <td>276729</td>\n",
              "      <td>052165615X</td>\n",
              "      <td>3</td>\n",
              "    </tr>\n",
              "    <tr>\n",
              "      <th>4</th>\n",
              "      <td>276729</td>\n",
              "      <td>0521795028</td>\n",
              "      <td>6</td>\n",
              "    </tr>\n",
              "  </tbody>\n",
              "</table>\n",
              "</div>"
            ],
            "text/plain": [
              "   userID        ISBN  bookRating\n",
              "0  276725  034545104X           0\n",
              "1  276726  0155061224           5\n",
              "2  276727  0446520802           0\n",
              "3  276729  052165615X           3\n",
              "4  276729  0521795028           6"
            ]
          },
          "metadata": {
            "tags": []
          },
          "execution_count": 164
        }
      ]
    },
    {
      "cell_type": "markdown",
      "metadata": {
        "id": "QoOnmvaImyvr"
      },
      "source": [
        ""
      ]
    },
    {
      "cell_type": "code",
      "metadata": {
        "colab": {
          "base_uri": "https://localhost:8080/",
          "height": 204
        },
        "id": "BZ03YkDJmrdp",
        "outputId": "37fc79c1-39c0-4692-ae91-d8effab62a31"
      },
      "source": [
        "users.head()"
      ],
      "execution_count": 165,
      "outputs": [
        {
          "output_type": "execute_result",
          "data": {
            "text/html": [
              "<div>\n",
              "<style scoped>\n",
              "    .dataframe tbody tr th:only-of-type {\n",
              "        vertical-align: middle;\n",
              "    }\n",
              "\n",
              "    .dataframe tbody tr th {\n",
              "        vertical-align: top;\n",
              "    }\n",
              "\n",
              "    .dataframe thead th {\n",
              "        text-align: right;\n",
              "    }\n",
              "</style>\n",
              "<table border=\"1\" class=\"dataframe\">\n",
              "  <thead>\n",
              "    <tr style=\"text-align: right;\">\n",
              "      <th></th>\n",
              "      <th>userID</th>\n",
              "      <th>Location</th>\n",
              "      <th>Age</th>\n",
              "    </tr>\n",
              "  </thead>\n",
              "  <tbody>\n",
              "    <tr>\n",
              "      <th>0</th>\n",
              "      <td>1</td>\n",
              "      <td>nyc, new york, usa</td>\n",
              "      <td>NaN</td>\n",
              "    </tr>\n",
              "    <tr>\n",
              "      <th>1</th>\n",
              "      <td>2</td>\n",
              "      <td>stockton, california, usa</td>\n",
              "      <td>18.0</td>\n",
              "    </tr>\n",
              "    <tr>\n",
              "      <th>2</th>\n",
              "      <td>3</td>\n",
              "      <td>moscow, yukon territory, russia</td>\n",
              "      <td>NaN</td>\n",
              "    </tr>\n",
              "    <tr>\n",
              "      <th>3</th>\n",
              "      <td>4</td>\n",
              "      <td>porto, v.n.gaia, portugal</td>\n",
              "      <td>17.0</td>\n",
              "    </tr>\n",
              "    <tr>\n",
              "      <th>4</th>\n",
              "      <td>5</td>\n",
              "      <td>farnborough, hants, united kingdom</td>\n",
              "      <td>NaN</td>\n",
              "    </tr>\n",
              "  </tbody>\n",
              "</table>\n",
              "</div>"
            ],
            "text/plain": [
              "   userID                            Location   Age\n",
              "0       1                  nyc, new york, usa   NaN\n",
              "1       2           stockton, california, usa  18.0\n",
              "2       3     moscow, yukon territory, russia   NaN\n",
              "3       4           porto, v.n.gaia, portugal  17.0\n",
              "4       5  farnborough, hants, united kingdom   NaN"
            ]
          },
          "metadata": {
            "tags": []
          },
          "execution_count": 165
        }
      ]
    },
    {
      "cell_type": "code",
      "metadata": {
        "id": "81Cnk5YWlCyN"
      },
      "source": [
        "ratings_new = ratings[ratings.ISBN.isin(books.ISBN)]"
      ],
      "execution_count": 213,
      "outputs": []
    },
    {
      "cell_type": "code",
      "metadata": {
        "colab": {
          "base_uri": "https://localhost:8080/"
        },
        "id": "7smI46X0n2bc",
        "outputId": "2fa5d65a-8161-48c4-9650-dfda7a85f29b"
      },
      "source": [
        "ratings_new = ratings_new[ratings.userID.isin(users.userID)]"
      ],
      "execution_count": 214,
      "outputs": [
        {
          "output_type": "stream",
          "text": [
            "/usr/local/lib/python3.6/dist-packages/ipykernel_launcher.py:1: UserWarning: Boolean Series key will be reindexed to match DataFrame index.\n",
            "  \"\"\"Entry point for launching an IPython kernel.\n"
          ],
          "name": "stderr"
        }
      ]
    },
    {
      "cell_type": "code",
      "metadata": {
        "colab": {
          "base_uri": "https://localhost:8080/",
          "height": 204
        },
        "id": "05qnlp8Un2dv",
        "outputId": "6255248c-feff-439e-972f-eeed532fad57"
      },
      "source": [
        "ratings_new.head()"
      ],
      "execution_count": 168,
      "outputs": [
        {
          "output_type": "execute_result",
          "data": {
            "text/html": [
              "<div>\n",
              "<style scoped>\n",
              "    .dataframe tbody tr th:only-of-type {\n",
              "        vertical-align: middle;\n",
              "    }\n",
              "\n",
              "    .dataframe tbody tr th {\n",
              "        vertical-align: top;\n",
              "    }\n",
              "\n",
              "    .dataframe thead th {\n",
              "        text-align: right;\n",
              "    }\n",
              "</style>\n",
              "<table border=\"1\" class=\"dataframe\">\n",
              "  <thead>\n",
              "    <tr style=\"text-align: right;\">\n",
              "      <th></th>\n",
              "      <th>userID</th>\n",
              "      <th>ISBN</th>\n",
              "      <th>bookRating</th>\n",
              "    </tr>\n",
              "  </thead>\n",
              "  <tbody>\n",
              "    <tr>\n",
              "      <th>0</th>\n",
              "      <td>276725</td>\n",
              "      <td>034545104X</td>\n",
              "      <td>0</td>\n",
              "    </tr>\n",
              "    <tr>\n",
              "      <th>1</th>\n",
              "      <td>276726</td>\n",
              "      <td>0155061224</td>\n",
              "      <td>5</td>\n",
              "    </tr>\n",
              "    <tr>\n",
              "      <th>2</th>\n",
              "      <td>276727</td>\n",
              "      <td>0446520802</td>\n",
              "      <td>0</td>\n",
              "    </tr>\n",
              "    <tr>\n",
              "      <th>3</th>\n",
              "      <td>276729</td>\n",
              "      <td>052165615X</td>\n",
              "      <td>3</td>\n",
              "    </tr>\n",
              "    <tr>\n",
              "      <th>4</th>\n",
              "      <td>276729</td>\n",
              "      <td>0521795028</td>\n",
              "      <td>6</td>\n",
              "    </tr>\n",
              "  </tbody>\n",
              "</table>\n",
              "</div>"
            ],
            "text/plain": [
              "   userID        ISBN  bookRating\n",
              "0  276725  034545104X           0\n",
              "1  276726  0155061224           5\n",
              "2  276727  0446520802           0\n",
              "3  276729  052165615X           3\n",
              "4  276729  0521795028           6"
            ]
          },
          "metadata": {
            "tags": []
          },
          "execution_count": 168
        }
      ]
    },
    {
      "cell_type": "code",
      "metadata": {
        "colab": {
          "base_uri": "https://localhost:8080/"
        },
        "id": "cY3NpaMCn2hC",
        "outputId": "207e6ff7-ae6e-476d-c8ab-042cbe7c340b"
      },
      "source": [
        "ratings_new.shape"
      ],
      "execution_count": 169,
      "outputs": [
        {
          "output_type": "execute_result",
          "data": {
            "text/plain": [
              "(1031136, 3)"
            ]
          },
          "metadata": {
            "tags": []
          },
          "execution_count": 169
        }
      ]
    },
    {
      "cell_type": "markdown",
      "metadata": {
        "id": "bmmPfSH-nT7t"
      },
      "source": [
        "# Q3. Data Preprocessing\n",
        "\n",
        "### In new Dataframe, drop rows with 0 `bookRating`, since 0 is mentioned as 'Implicit Rating'.\n",
        "#### (Check shape of new Dataframe before and after dropping 0s)\n"
      ]
    },
    {
      "cell_type": "code",
      "metadata": {
        "colab": {
          "base_uri": "https://localhost:8080/"
        },
        "id": "C2o-vgQin13J",
        "outputId": "6362d875-7c2d-4369-e4f4-87d2a715505d"
      },
      "source": [
        "ratings_new[\"bookRating\"].unique()"
      ],
      "execution_count": 215,
      "outputs": [
        {
          "output_type": "execute_result",
          "data": {
            "text/plain": [
              "array([ 0,  5,  3,  6,  7,  9,  8, 10,  1,  4,  2])"
            ]
          },
          "metadata": {
            "tags": []
          },
          "execution_count": 215
        }
      ]
    },
    {
      "cell_type": "code",
      "metadata": {
        "id": "QHnFbxh9n6XT"
      },
      "source": [
        "ratings_new = ratings_new[ratings_new[\"bookRating\"] != 0]"
      ],
      "execution_count": 216,
      "outputs": []
    },
    {
      "cell_type": "code",
      "metadata": {
        "colab": {
          "base_uri": "https://localhost:8080/"
        },
        "id": "nOJVNz06s9m3",
        "outputId": "2710e462-11c3-47e3-dbb8-1ab4e92e83ed"
      },
      "source": [
        "ratings_new.shape"
      ],
      "execution_count": 172,
      "outputs": [
        {
          "output_type": "execute_result",
          "data": {
            "text/plain": [
              "(383842, 3)"
            ]
          },
          "metadata": {
            "tags": []
          },
          "execution_count": 172
        }
      ]
    },
    {
      "cell_type": "markdown",
      "metadata": {
        "id": "zHfr8zlSoLzW"
      },
      "source": [
        "# Q4. Check rating's distribution\n",
        "### Plot a visual to identify highest occuring rating "
      ]
    },
    {
      "cell_type": "code",
      "metadata": {
        "id": "10PFwecTpMyZ",
        "colab": {
          "base_uri": "https://localhost:8080/",
          "height": 350
        },
        "outputId": "d2de273a-a284-452a-ddb5-b5d526e7a212"
      },
      "source": [
        "from matplotlib import pyplot as plt\r\n",
        "import seaborn as sns\r\n",
        "sns.countplot(ratings_new['bookRating'])"
      ],
      "execution_count": 173,
      "outputs": [
        {
          "output_type": "stream",
          "text": [
            "/usr/local/lib/python3.6/dist-packages/seaborn/_decorators.py:43: FutureWarning: Pass the following variable as a keyword arg: x. From version 0.12, the only valid positional argument will be `data`, and passing other arguments without an explicit keyword will result in an error or misinterpretation.\n",
            "  FutureWarning\n"
          ],
          "name": "stderr"
        },
        {
          "output_type": "execute_result",
          "data": {
            "text/plain": [
              "<matplotlib.axes._subplots.AxesSubplot at 0x7fe42e98e828>"
            ]
          },
          "metadata": {
            "tags": []
          },
          "execution_count": 173
        },
        {
          "output_type": "display_data",
          "data": {
            "image/png": "[encoded data removed]",
            "text/plain": [
              "<Figure size 432x288 with 1 Axes>"
            ]
          },
          "metadata": {
            "tags": [],
            "needs_background": "light"
          }
        }
      ]
    },
    {
      "cell_type": "code",
      "metadata": {
        "colab": {
          "base_uri": "https://localhost:8080/"
        },
        "id": "DVw-n1FGtt7T",
        "outputId": "6254275e-2a1e-4c7a-c6b5-5d333c92bb33"
      },
      "source": [
        "ratings_new['bookRating'].value_counts()"
      ],
      "execution_count": 174,
      "outputs": [
        {
          "output_type": "execute_result",
          "data": {
            "text/plain": [
              "8     91804\n",
              "10    71225\n",
              "7     66402\n",
              "9     60778\n",
              "5     45355\n",
              "6     31687\n",
              "4      7617\n",
              "3      5118\n",
              "2      2375\n",
              "1      1481\n",
              "Name: bookRating, dtype: int64"
            ]
          },
          "metadata": {
            "tags": []
          },
          "execution_count": 174
        }
      ]
    },
    {
      "cell_type": "markdown",
      "metadata": {
        "id": "TVFbUn6MpOWQ"
      },
      "source": [
        "# Q5. Build a User-Based Collaborative Filtering model\n",
        "\n",
        "\n",
        "\n",
        "1.   Consider users who have rated atleast 100 books\n",
        "2.   Transform data to surprise format\n",
        "3.   Assure that only user, book and rating columns are present in the new dataset in surprise format\n",
        "\n"
      ]
    },
    {
      "cell_type": "code",
      "metadata": {
        "id": "dZUsmzgA5WPI"
      },
      "source": [
        "counts1 = pd.value_counts(ratings_new['userID'])\r\n",
        "ratings_new = ratings_new[ratings_new['userID'].isin(counts1[counts1 >= 100].index)]\r\n"
      ],
      "execution_count": 217,
      "outputs": []
    },
    {
      "cell_type": "code",
      "metadata": {
        "colab": {
          "base_uri": "https://localhost:8080/"
        },
        "id": "0q2-k02p5WUN",
        "outputId": "1d23815c-1eaa-4aa3-b9a1-c2d3330f7aa3"
      },
      "source": [
        "ratings_new.shape"
      ],
      "execution_count": 218,
      "outputs": [
        {
          "output_type": "execute_result",
          "data": {
            "text/plain": [
              "(103271, 3)"
            ]
          },
          "metadata": {
            "tags": []
          },
          "execution_count": 218
        }
      ]
    },
    {
      "cell_type": "code",
      "metadata": {
        "id": "9YqjiClZ5qdn"
      },
      "source": [
        ""
      ],
      "execution_count": null,
      "outputs": []
    },
    {
      "cell_type": "code",
      "metadata": {
        "id": "wwdPsPX65qgz"
      },
      "source": [
        ""
      ],
      "execution_count": null,
      "outputs": []
    },
    {
      "cell_type": "code",
      "metadata": {
        "id": "G8gHvkPz5qkQ"
      },
      "source": [
        ""
      ],
      "execution_count": null,
      "outputs": []
    },
    {
      "cell_type": "code",
      "metadata": {
        "id": "FHweDate5qnh"
      },
      "source": [
        ""
      ],
      "execution_count": null,
      "outputs": []
    },
    {
      "cell_type": "code",
      "metadata": {
        "id": "etToFVo05qqg"
      },
      "source": [
        ""
      ],
      "execution_count": null,
      "outputs": []
    },
    {
      "cell_type": "code",
      "metadata": {
        "id": "ofEGdwfG5qtq"
      },
      "source": [
        ""
      ],
      "execution_count": null,
      "outputs": []
    },
    {
      "cell_type": "code",
      "metadata": {
        "id": "vfYozui25qw0"
      },
      "source": [
        ""
      ],
      "execution_count": null,
      "outputs": []
    },
    {
      "cell_type": "code",
      "metadata": {
        "colab": {
          "base_uri": "https://localhost:8080/"
        },
        "id": "rJCQjMe25q1s",
        "outputId": "f3899f4f-befd-46be-c8c3-215301772dfb"
      },
      "source": [
        "!pip install scikit-surprise"
      ],
      "execution_count": 219,
      "outputs": [
        {
          "output_type": "stream",
          "text": [
            "Collecting scikit-surprise\n",
            "\u001b[?25l  Downloading https://files.pythonhosted.org/packages/97/37/5d334adaf5ddd65da99fc65f6507e0e4599d092ba048f4302fe8775619e8/scikit-surprise-1.1.1.tar.gz (11.8MB)\n",
            "\u001b[K     |████████████████████████████████| 11.8MB 11.1MB/s \n",
            "\u001b[?25hRequirement already satisfied: joblib>=0.11 in /usr/local/lib/python3.6/dist-packages (from scikit-surprise) (0.17.0)\n",
            "Requirement already satisfied: numpy>=1.11.2 in /usr/local/lib/python3.6/dist-packages (from scikit-surprise) (1.18.5)\n",
            "Requirement already satisfied: scipy>=1.0.0 in /usr/local/lib/python3.6/dist-packages (from scikit-surprise) (1.4.1)\n",
            "Requirement already satisfied: six>=1.10.0 in /usr/local/lib/python3.6/dist-packages (from scikit-surprise) (1.15.0)\n",
            "Building wheels for collected packages: scikit-surprise\n",
            "  Building wheel for scikit-surprise (setup.py) ... \u001b[?25l\u001b[?25hdone\n",
            "  Created wheel for scikit-surprise: filename=scikit_surprise-1.1.1-cp36-cp36m-linux_x86_64.whl size=1670954 sha256=26dc6eb6b7c4705e77c3147b468b99f59460d6cc62bfb9eb4bb48e9ebb62e09f\n",
            "  Stored in directory: /root/.cache/pip/wheels/78/9c/3d/41b419c9d2aff5b6e2b4c0fc8d25c538202834058f9ed110d0\n",
            "Successfully built scikit-surprise\n",
            "Installing collected packages: scikit-surprise\n",
            "Successfully installed scikit-surprise-1.1.1\n"
          ],
          "name": "stdout"
        }
      ]
    },
    {
      "cell_type": "code",
      "metadata": {
        "id": "15UyHGWYqdR3"
      },
      "source": [
        "#2 Transform data to surprise format\n",
        "from surprise import Dataset,Reader\n",
        "from surprise.model_selection import cross_validate\n",
        "from surprise import NormalPredictor\n",
        "\n",
        "\n",
        "reader = Reader(rating_scale=(1, 10))"
      ],
      "execution_count": 221,
      "outputs": []
    },
    {
      "cell_type": "code",
      "metadata": {
        "colab": {
          "base_uri": "https://localhost:8080/",
          "height": 111
        },
        "id": "8LqfRgQb5pgt",
        "outputId": "e7bdc4c6-fd3a-4752-eaa4-6758bbd8cfa8"
      },
      "source": [
        "data = Dataset.load_from_df(ratings_new[['userID', 'ISBN', 'bookRating']], reader)\r\n",
        "data.df.head(2)\r\n"
      ],
      "execution_count": 222,
      "outputs": [
        {
          "output_type": "execute_result",
          "data": {
            "text/html": [
              "<div>\n",
              "<style scoped>\n",
              "    .dataframe tbody tr th:only-of-type {\n",
              "        vertical-align: middle;\n",
              "    }\n",
              "\n",
              "    .dataframe tbody tr th {\n",
              "        vertical-align: top;\n",
              "    }\n",
              "\n",
              "    .dataframe thead th {\n",
              "        text-align: right;\n",
              "    }\n",
              "</style>\n",
              "<table border=\"1\" class=\"dataframe\">\n",
              "  <thead>\n",
              "    <tr style=\"text-align: right;\">\n",
              "      <th></th>\n",
              "      <th>userID</th>\n",
              "      <th>ISBN</th>\n",
              "      <th>bookRating</th>\n",
              "    </tr>\n",
              "  </thead>\n",
              "  <tbody>\n",
              "    <tr>\n",
              "      <th>1456</th>\n",
              "      <td>277427</td>\n",
              "      <td>002542730X</td>\n",
              "      <td>10</td>\n",
              "    </tr>\n",
              "    <tr>\n",
              "      <th>1458</th>\n",
              "      <td>277427</td>\n",
              "      <td>003008685X</td>\n",
              "      <td>8</td>\n",
              "    </tr>\n",
              "  </tbody>\n",
              "</table>\n",
              "</div>"
            ],
            "text/plain": [
              "      userID        ISBN  bookRating\n",
              "1456  277427  002542730X          10\n",
              "1458  277427  003008685X           8"
            ]
          },
          "metadata": {
            "tags": []
          },
          "execution_count": 222
        }
      ]
    },
    {
      "cell_type": "markdown",
      "metadata": {
        "id": "HvA-Zc_AsRv0"
      },
      "source": [
        "# Q6. Apply SVD for user based filtering\n",
        "\n",
        "\n",
        "1.   Split the data into train and test\n",
        "2.   Train model on SVD\n",
        "3.   Test Accuracy of the model\n",
        "\n",
        "\n"
      ]
    },
    {
      "cell_type": "code",
      "metadata": {
        "id": "QbOzx2Vysbhu"
      },
      "source": [
        "from surprise.model_selection import train_test_split"
      ],
      "execution_count": 226,
      "outputs": []
    },
    {
      "cell_type": "code",
      "metadata": {
        "id": "f1RADIgG8sT3"
      },
      "source": [
        "trainset,testset = train_test_split(data, test_size = .25, random_state= 12)"
      ],
      "execution_count": 227,
      "outputs": []
    },
    {
      "cell_type": "code",
      "metadata": {
        "id": "xHI5Q-Hs8sXR"
      },
      "source": [
        "from surprise import  SVD\r\n",
        "from surprise import accuracy"
      ],
      "execution_count": 230,
      "outputs": []
    },
    {
      "cell_type": "code",
      "metadata": {
        "colab": {
          "base_uri": "https://localhost:8080/"
        },
        "id": "LeBxSGJ-8saN",
        "outputId": "9b4cc17b-19d0-40d5-f8a4-fb387104d721"
      },
      "source": [
        "svd_model = SVD(n_factors=50, biased= False)\r\n",
        "svd_model.fit(trainset)"
      ],
      "execution_count": 231,
      "outputs": [
        {
          "output_type": "execute_result",
          "data": {
            "text/plain": [
              "<surprise.prediction_algorithms.matrix_factorization.SVD at 0x7fe44b2accc0>"
            ]
          },
          "metadata": {
            "tags": []
          },
          "execution_count": 231
        }
      ]
    },
    {
      "cell_type": "code",
      "metadata": {
        "colab": {
          "base_uri": "https://localhost:8080/"
        },
        "id": "WB-EqYqX8sdJ",
        "outputId": "8d1d4eb4-b268-4936-c15c-ec168c151eeb"
      },
      "source": [
        "test_pred = svd_model.test(testset)\r\n",
        "accuracy.rmse(test_pred)"
      ],
      "execution_count": 232,
      "outputs": [
        {
          "output_type": "stream",
          "text": [
            "RMSE: 3.1923\n"
          ],
          "name": "stdout"
        },
        {
          "output_type": "execute_result",
          "data": {
            "text/plain": [
              "3.1923159985806726"
            ]
          },
          "metadata": {
            "tags": []
          },
          "execution_count": 232
        }
      ]
    },
    {
      "cell_type": "code",
      "metadata": {
        "colab": {
          "base_uri": "https://localhost:8080/"
        },
        "id": "iaXL5wdp8sgT",
        "outputId": "2bcdb879-6d7f-4766-8de9-4aa497e3fd70"
      },
      "source": [
        "test_pred"
      ],
      "execution_count": 233,
      "outputs": [
        {
          "output_type": "execute_result",
          "data": {
            "text/plain": [
              "[Prediction(uid=251844, iid='0380704587', r_ui=8.0, est=4.450116160612141, details={'was_impossible': False}),\n",
              " Prediction(uid=38023, iid='1879639815', r_ui=1.0, est=7.826049346055027, details={'was_impossible': True, 'reason': 'User and item are unknown.'}),\n",
              " Prediction(uid=98391, iid='0446530298', r_ui=10.0, est=7.826049346055027, details={'was_impossible': True, 'reason': 'User and item are unknown.'}),\n",
              " Prediction(uid=7346, iid='0553284789', r_ui=6.0, est=6.084947735862195, details={'was_impossible': False}),\n",
              " Prediction(uid=4017, iid='006251184X', r_ui=10.0, est=7.826049346055027, details={'was_impossible': True, 'reason': 'User and item are unknown.'}),\n",
              " Prediction(uid=140000, iid='0439451930', r_ui=9.0, est=7.826049346055027, details={'was_impossible': True, 'reason': 'User and item are unknown.'}),\n",
              " Prediction(uid=166596, iid='0312313004', r_ui=8.0, est=1, details={'was_impossible': False}),\n",
              " Prediction(uid=158226, iid='0312986319', r_ui=6.0, est=3.5062915033476956, details={'was_impossible': False}),\n",
              " Prediction(uid=11676, iid='0786014245', r_ui=4.0, est=5.641880695120723, details={'was_impossible': False}),\n",
              " Prediction(uid=11676, iid='0505523493', r_ui=9.0, est=4.209576556425736, details={'was_impossible': False}),\n",
              " Prediction(uid=94951, iid='0061092177', r_ui=10.0, est=5.7401969238698065, details={'was_impossible': False}),\n",
              " Prediction(uid=76499, iid='0140088296', r_ui=10.0, est=7.826049346055027, details={'was_impossible': True, 'reason': 'User and item are unknown.'}),\n",
              " Prediction(uid=177432, iid='0446973521', r_ui=7.0, est=7.826049346055027, details={'was_impossible': True, 'reason': 'User and item are unknown.'}),\n",
              " Prediction(uid=43910, iid='0399148027', r_ui=8.0, est=7.822055763614393, details={'was_impossible': False}),\n",
              " Prediction(uid=112001, iid='0449238148', r_ui=10.0, est=7.826049346055027, details={'was_impossible': True, 'reason': 'User and item are unknown.'}),\n",
              " Prediction(uid=68555, iid='0380756293', r_ui=6.0, est=8.190184556972829, details={'was_impossible': False}),\n",
              " Prediction(uid=98391, iid='0399147322', r_ui=9.0, est=2.450388128973243, details={'was_impossible': False}),\n",
              " Prediction(uid=4385, iid='0373201427', r_ui=10.0, est=7.826049346055027, details={'was_impossible': True, 'reason': 'User and item are unknown.'}),\n",
              " Prediction(uid=208671, iid='0060248025', r_ui=8.0, est=4.967303063444621, details={'was_impossible': False}),\n",
              " Prediction(uid=135149, iid='1551668114', r_ui=8.0, est=6.066298863175872, details={'was_impossible': False}),\n",
              " Prediction(uid=146113, iid='0812534867', r_ui=5.0, est=4.328197444117809, details={'was_impossible': False}),\n",
              " Prediction(uid=37950, iid='0684841185', r_ui=10.0, est=4.613662928589756, details={'was_impossible': False}),\n",
              " Prediction(uid=254899, iid='0679448896', r_ui=10.0, est=7.826049346055027, details={'was_impossible': True, 'reason': 'User and item are unknown.'}),\n",
              " Prediction(uid=23902, iid='0595132642', r_ui=9.0, est=7.826049346055027, details={'was_impossible': True, 'reason': 'User and item are unknown.'}),\n",
              " Prediction(uid=94951, iid='0553560719', r_ui=4.0, est=4.9083163064939335, details={'was_impossible': False}),\n",
              " Prediction(uid=254206, iid='0425122123', r_ui=9.0, est=6.611148216887968, details={'was_impossible': False}),\n",
              " Prediction(uid=245410, iid='0671001795', r_ui=7.0, est=5.5327823145723585, details={'was_impossible': False}),\n",
              " Prediction(uid=158295, iid='0671676016', r_ui=5.0, est=7.826049346055027, details={'was_impossible': True, 'reason': 'User and item are unknown.'}),\n",
              " Prediction(uid=114368, iid='1551662914', r_ui=5.0, est=4.868541899452855, details={'was_impossible': False}),\n",
              " Prediction(uid=264031, iid='0688177743', r_ui=10.0, est=7.7587436520588735, details={'was_impossible': False}),\n",
              " Prediction(uid=56399, iid='1851168036', r_ui=10.0, est=7.826049346055027, details={'was_impossible': True, 'reason': 'User and item are unknown.'}),\n",
              " Prediction(uid=210485, iid='0743471393', r_ui=8.0, est=2.9346017366272776, details={'was_impossible': False}),\n",
              " Prediction(uid=16634, iid='1578591201', r_ui=10.0, est=3.1069444576630496, details={'was_impossible': False}),\n",
              " Prediction(uid=52917, iid='0316558400', r_ui=7.0, est=1, details={'was_impossible': False}),\n",
              " Prediction(uid=232945, iid='0425133540', r_ui=9.0, est=8.015681713621156, details={'was_impossible': False}),\n",
              " Prediction(uid=240568, iid='0316734837', r_ui=10.0, est=3.947374107320717, details={'was_impossible': False}),\n",
              " Prediction(uid=98391, iid='193169673X', r_ui=9.0, est=7.826049346055027, details={'was_impossible': True, 'reason': 'User and item are unknown.'}),\n",
              " Prediction(uid=94347, iid='091658321X', r_ui=7.0, est=7.826049346055027, details={'was_impossible': True, 'reason': 'User and item are unknown.'}),\n",
              " Prediction(uid=68555, iid='0380721783', r_ui=8.0, est=4.284900168861541, details={'was_impossible': False}),\n",
              " Prediction(uid=11676, iid='350507585x', r_ui=7.0, est=7.826049346055027, details={'was_impossible': True, 'reason': 'User and item are unknown.'}),\n",
              " Prediction(uid=257204, iid='0880384549', r_ui=10.0, est=2.241360194853043, details={'was_impossible': False}),\n",
              " Prediction(uid=178522, iid='0385486804', r_ui=9.0, est=8.464709984323576, details={'was_impossible': False}),\n",
              " Prediction(uid=177458, iid='0192815326', r_ui=8.0, est=1.8736121381142739, details={'was_impossible': False}),\n",
              " Prediction(uid=101851, iid='0804832889', r_ui=9.0, est=7.826049346055027, details={'was_impossible': True, 'reason': 'User and item are unknown.'}),\n",
              " Prediction(uid=98391, iid='1931095515', r_ui=10.0, est=7.826049346055027, details={'was_impossible': True, 'reason': 'User and item are unknown.'}),\n",
              " Prediction(uid=265889, iid='0441004326', r_ui=10.0, est=3.2313322774311497, details={'was_impossible': False}),\n",
              " Prediction(uid=107951, iid='3518375768', r_ui=9.0, est=7.826049346055027, details={'was_impossible': True, 'reason': 'User and item are unknown.'}),\n",
              " Prediction(uid=226965, iid='0684837870', r_ui=10.0, est=7.826049346055027, details={'was_impossible': True, 'reason': 'User and item are unknown.'}),\n",
              " Prediction(uid=40943, iid='0671504061', r_ui=10.0, est=7.826049346055027, details={'was_impossible': True, 'reason': 'User and item are unknown.'}),\n",
              " Prediction(uid=255489, iid='0553582143', r_ui=7.0, est=5.24770691624383, details={'was_impossible': False}),\n",
              " Prediction(uid=148199, iid='1896757022', r_ui=8.0, est=7.826049346055027, details={'was_impossible': True, 'reason': 'User and item are unknown.'}),\n",
              " Prediction(uid=92652, iid='0028624491', r_ui=5.0, est=7.826049346055027, details={'was_impossible': True, 'reason': 'User and item are unknown.'}),\n",
              " Prediction(uid=236757, iid='0786700718', r_ui=5.0, est=7.826049346055027, details={'was_impossible': True, 'reason': 'User and item are unknown.'}),\n",
              " Prediction(uid=236757, iid='0670852295', r_ui=5.0, est=7.826049346055027, details={'was_impossible': True, 'reason': 'User and item are unknown.'}),\n",
              " Prediction(uid=78783, iid='0553273922', r_ui=7.0, est=7.826049346055027, details={'was_impossible': True, 'reason': 'User and item are unknown.'}),\n",
              " Prediction(uid=166596, iid='0060972823', r_ui=9.0, est=7.826049346055027, details={'was_impossible': True, 'reason': 'User and item are unknown.'}),\n",
              " Prediction(uid=163973, iid='1575660369', r_ui=7.0, est=7.826049346055027, details={'was_impossible': True, 'reason': 'User and item are unknown.'}),\n",
              " Prediction(uid=182086, iid='044661114X', r_ui=10.0, est=7.826049346055027, details={'was_impossible': True, 'reason': 'User and item are unknown.'}),\n",
              " Prediction(uid=189973, iid='0553580132', r_ui=3.0, est=7.826049346055027, details={'was_impossible': True, 'reason': 'User and item are unknown.'}),\n",
              " Prediction(uid=269566, iid='086020085X', r_ui=8.0, est=7.826049346055027, details={'was_impossible': True, 'reason': 'User and item are unknown.'}),\n",
              " Prediction(uid=11676, iid='193148418X', r_ui=9.0, est=7.826049346055027, details={'was_impossible': True, 'reason': 'User and item are unknown.'}),\n",
              " Prediction(uid=254899, iid='0670829994', r_ui=9.0, est=7.826049346055027, details={'was_impossible': True, 'reason': 'User and item are unknown.'}),\n",
              " Prediction(uid=88283, iid='0395927218', r_ui=10.0, est=3.6817980890230895, details={'was_impossible': False}),\n",
              " Prediction(uid=23872, iid='1558745157', r_ui=10.0, est=3.4664379734795703, details={'was_impossible': False}),\n",
              " Prediction(uid=125519, iid='1880461021', r_ui=10.0, est=7.826049346055027, details={'was_impossible': True, 'reason': 'User and item are unknown.'}),\n",
              " Prediction(uid=153662, iid='0451146360', r_ui=10.0, est=7.826049346055027, details={'was_impossible': True, 'reason': 'User and item are unknown.'}),\n",
              " Prediction(uid=187256, iid='0553280945', r_ui=9.0, est=6.840896469853819, details={'was_impossible': False}),\n",
              " Prediction(uid=156150, iid='0515090654', r_ui=5.0, est=5.190846209710862, details={'was_impossible': False}),\n",
              " Prediction(uid=235105, iid='0440150167', r_ui=7.0, est=7.826049346055027, details={'was_impossible': True, 'reason': 'User and item are unknown.'}),\n",
              " Prediction(uid=60244, iid='006052202X', r_ui=7.0, est=7.826049346055027, details={'was_impossible': True, 'reason': 'User and item are unknown.'}),\n",
              " Prediction(uid=6575, iid='0618127046', r_ui=2.0, est=7.826049346055027, details={'was_impossible': True, 'reason': 'User and item are unknown.'}),\n",
              " Prediction(uid=217740, iid='0385416342', r_ui=5.0, est=2.6725221142292925, details={'was_impossible': False}),\n",
              " Prediction(uid=6543, iid='1563898586', r_ui=8.0, est=3.4457449879716857, details={'was_impossible': False}),\n",
              " Prediction(uid=35859, iid='0590406124', r_ui=7.0, est=7.826049346055027, details={'was_impossible': True, 'reason': 'User and item are unknown.'}),\n",
              " Prediction(uid=87141, iid='0312034725', r_ui=9.0, est=7.826049346055027, details={'was_impossible': True, 'reason': 'User and item are unknown.'}),\n",
              " Prediction(uid=112001, iid='0743457358', r_ui=9.0, est=5.5137626900089, details={'was_impossible': False}),\n",
              " Prediction(uid=227447, iid='0449004201', r_ui=8.0, est=5.6060523980147146, details={'was_impossible': False}),\n",
              " Prediction(uid=156269, iid='0140291768', r_ui=9.0, est=7.826049346055027, details={'was_impossible': True, 'reason': 'User and item are unknown.'}),\n",
              " Prediction(uid=197659, iid='1572930772', r_ui=9.0, est=7.826049346055027, details={'was_impossible': True, 'reason': 'User and item are unknown.'}),\n",
              " Prediction(uid=11676, iid='0385721129', r_ui=3.0, est=7.826049346055027, details={'was_impossible': True, 'reason': 'User and item are unknown.'}),\n",
              " Prediction(uid=16634, iid='0916856011', r_ui=8.0, est=5.726517222874191, details={'was_impossible': False}),\n",
              " Prediction(uid=46398, iid='0804819882', r_ui=9.0, est=7.826049346055027, details={'was_impossible': True, 'reason': 'User and item are unknown.'}),\n",
              " Prediction(uid=7346, iid='0345297709', r_ui=7.0, est=3.9083955026284682, details={'was_impossible': False}),\n",
              " Prediction(uid=219683, iid='0345322231', r_ui=6.0, est=6.742623990020089, details={'was_impossible': False}),\n",
              " Prediction(uid=51883, iid='0373441517', r_ui=10.0, est=1, details={'was_impossible': False}),\n",
              " Prediction(uid=114368, iid='0064400085', r_ui=5.0, est=5.490836543843978, details={'was_impossible': False}),\n",
              " Prediction(uid=248718, iid='0395677262', r_ui=9.0, est=7.826049346055027, details={'was_impossible': True, 'reason': 'User and item are unknown.'}),\n",
              " Prediction(uid=11676, iid='033036197X', r_ui=7.0, est=7.826049346055027, details={'was_impossible': True, 'reason': 'User and item are unknown.'}),\n",
              " Prediction(uid=98391, iid='0312311087', r_ui=8.0, est=7.826049346055027, details={'was_impossible': True, 'reason': 'User and item are unknown.'}),\n",
              " Prediction(uid=268110, iid='1585673137', r_ui=3.0, est=7.826049346055027, details={'was_impossible': True, 'reason': 'User and item are unknown.'}),\n",
              " Prediction(uid=70594, iid='0805070966', r_ui=10.0, est=7.826049346055027, details={'was_impossible': True, 'reason': 'User and item are unknown.'}),\n",
              " Prediction(uid=93047, iid='0425097722', r_ui=7.0, est=5.326329029660132, details={'was_impossible': False}),\n",
              " Prediction(uid=36606, iid='0152020683', r_ui=5.0, est=7.826049346055027, details={'was_impossible': True, 'reason': 'User and item are unknown.'}),\n",
              " Prediction(uid=4385, iid='0373169175', r_ui=10.0, est=7.826049346055027, details={'was_impossible': True, 'reason': 'User and item are unknown.'}),\n",
              " Prediction(uid=257204, iid='1560766808', r_ui=10.0, est=7.826049346055027, details={'was_impossible': True, 'reason': 'User and item are unknown.'}),\n",
              " Prediction(uid=6251, iid='0380706725', r_ui=9.0, est=7.826049346055027, details={'was_impossible': True, 'reason': 'User and item are unknown.'}),\n",
              " Prediction(uid=143253, iid='0380793725', r_ui=8.0, est=7.826049346055027, details={'was_impossible': True, 'reason': 'User and item are unknown.'}),\n",
              " Prediction(uid=69697, iid='0425157628', r_ui=10.0, est=5.159209002765831, details={'was_impossible': False}),\n",
              " Prediction(uid=248718, iid='0345355245', r_ui=10.0, est=1, details={'was_impossible': False}),\n",
              " Prediction(uid=123094, iid='0316107417', r_ui=10.0, est=2.377686022269603, details={'was_impossible': False}),\n",
              " Prediction(uid=205943, iid='0738700967', r_ui=7.0, est=7.826049346055027, details={'was_impossible': True, 'reason': 'User and item are unknown.'}),\n",
              " Prediction(uid=69697, iid='0373484798', r_ui=8.0, est=7.826049346055027, details={'was_impossible': True, 'reason': 'User and item are unknown.'}),\n",
              " Prediction(uid=110483, iid='0441002935', r_ui=8.0, est=5.598606450011735, details={'was_impossible': False}),\n",
              " Prediction(uid=98391, iid='0399148493', r_ui=7.0, est=7.826049346055027, details={'was_impossible': True, 'reason': 'User and item are unknown.'}),\n",
              " Prediction(uid=49889, iid='0915391058', r_ui=6.0, est=7.826049346055027, details={'was_impossible': True, 'reason': 'User and item are unknown.'}),\n",
              " Prediction(uid=222204, iid='0812923138', r_ui=10.0, est=7.826049346055027, details={'was_impossible': True, 'reason': 'User and item are unknown.'}),\n",
              " Prediction(uid=81492, iid='0451205987', r_ui=9.0, est=3.0386239293133923, details={'was_impossible': False}),\n",
              " Prediction(uid=153662, iid='0451411129', r_ui=9.0, est=5.322621954533748, details={'was_impossible': False}),\n",
              " Prediction(uid=210485, iid='038550120X', r_ui=7.0, est=7.1072149847885795, details={'was_impossible': False}),\n",
              " Prediction(uid=162639, iid='0804108749', r_ui=9.0, est=7.210167202744971, details={'was_impossible': False}),\n",
              " Prediction(uid=78834, iid='0688119522', r_ui=10.0, est=7.826049346055027, details={'was_impossible': True, 'reason': 'User and item are unknown.'}),\n",
              " Prediction(uid=109574, iid='0020198906', r_ui=8.0, est=2.5411913735315577, details={'was_impossible': False}),\n",
              " Prediction(uid=110912, iid='0312995423', r_ui=7.0, est=6.8553296809628765, details={'was_impossible': False}),\n",
              " Prediction(uid=247447, iid='0553296981', r_ui=10.0, est=9.2366682524339, details={'was_impossible': False}),\n",
              " Prediction(uid=56271, iid='0752816306', r_ui=6.0, est=7.826049346055027, details={'was_impossible': True, 'reason': 'User and item are unknown.'}),\n",
              " Prediction(uid=156269, iid='0380820870', r_ui=8.0, est=7.826049346055027, details={'was_impossible': True, 'reason': 'User and item are unknown.'}),\n",
              " Prediction(uid=102359, iid='0385182449', r_ui=10.0, est=5.040886980210961, details={'was_impossible': False}),\n",
              " Prediction(uid=189139, iid='0590852949', r_ui=9.0, est=7.826049346055027, details={'was_impossible': True, 'reason': 'User and item are unknown.'}),\n",
              " Prediction(uid=207782, iid='0671042858', r_ui=8.0, est=3.8669501476631876, details={'was_impossible': False}),\n",
              " Prediction(uid=189334, iid='157027021X', r_ui=9.0, est=7.826049346055027, details={'was_impossible': True, 'reason': 'User and item are unknown.'}),\n",
              " Prediction(uid=225763, iid='014028009X', r_ui=5.0, est=4.489643283517237, details={'was_impossible': False}),\n",
              " Prediction(uid=150979, iid='0873416031', r_ui=8.0, est=7.826049346055027, details={'was_impossible': True, 'reason': 'User and item are unknown.'}),\n",
              " Prediction(uid=30276, iid='0743442717', r_ui=8.0, est=3.5055279116551796, details={'was_impossible': False}),\n",
              " Prediction(uid=235105, iid='0399151745', r_ui=6.0, est=8.804863154990661, details={'was_impossible': False}),\n",
              " Prediction(uid=60244, iid='0156012197', r_ui=10.0, est=3.5540710554273818, details={'was_impossible': False}),\n",
              " Prediction(uid=100906, iid='081181503X', r_ui=8.0, est=7.826049346055027, details={'was_impossible': True, 'reason': 'User and item are unknown.'}),\n",
              " Prediction(uid=255489, iid='067976402X', r_ui=7.0, est=5.243069786615575, details={'was_impossible': False}),\n",
              " Prediction(uid=225087, iid='055326253X', r_ui=10.0, est=7.826049346055027, details={'was_impossible': True, 'reason': 'User and item are unknown.'}),\n",
              " Prediction(uid=251843, iid='0688163165', r_ui=10.0, est=6.598152205840062, details={'was_impossible': False}),\n",
              " Prediction(uid=36299, iid='0425171493', r_ui=9.0, est=3.478191474277314, details={'was_impossible': False}),\n",
              " Prediction(uid=98391, iid='0786246960', r_ui=9.0, est=7.826049346055027, details={'was_impossible': True, 'reason': 'User and item are unknown.'}),\n",
              " Prediction(uid=240568, iid='1558177353', r_ui=6.0, est=7.826049346055027, details={'was_impossible': True, 'reason': 'User and item are unknown.'}),\n",
              " Prediction(uid=236757, iid='1564742652', r_ui=9.0, est=7.826049346055027, details={'was_impossible': True, 'reason': 'User and item are unknown.'}),\n",
              " Prediction(uid=8067, iid='0373834853', r_ui=9.0, est=7.826049346055027, details={'was_impossible': True, 'reason': 'User and item are unknown.'}),\n",
              " Prediction(uid=274061, iid='0505523752', r_ui=10.0, est=6.058892546860529, details={'was_impossible': False}),\n",
              " Prediction(uid=245410, iid='0345435249', r_ui=9.0, est=5.718706162854702, details={'was_impossible': False}),\n",
              " Prediction(uid=189835, iid='0446530190', r_ui=6.0, est=7.826049346055027, details={'was_impossible': True, 'reason': 'User and item are unknown.'}),\n",
              " Prediction(uid=112001, iid='0553290789', r_ui=10.0, est=3.647011408327905, details={'was_impossible': False}),\n",
              " Prediction(uid=31556, iid='0316706310', r_ui=5.0, est=7.826049346055027, details={'was_impossible': True, 'reason': 'User and item are unknown.'}),\n",
              " Prediction(uid=114868, iid='0385337116', r_ui=9.0, est=4.115958065300704, details={'was_impossible': False}),\n",
              " Prediction(uid=145449, iid='0385474016', r_ui=8.0, est=8.049973128181259, details={'was_impossible': False}),\n",
              " Prediction(uid=28591, iid='0553584901', r_ui=8.0, est=3.5058013259525334, details={'was_impossible': False}),\n",
              " Prediction(uid=98391, iid='0399152008', r_ui=10.0, est=8.816512489983992, details={'was_impossible': False}),\n",
              " Prediction(uid=98391, iid='0312315848', r_ui=10.0, est=7.826049346055027, details={'was_impossible': True, 'reason': 'User and item are unknown.'}),\n",
              " Prediction(uid=123883, iid='0671008145', r_ui=5.0, est=7.826049346055027, details={'was_impossible': True, 'reason': 'User and item are unknown.'}),\n",
              " Prediction(uid=102702, iid='0758203594', r_ui=10.0, est=9.983648395123081, details={'was_impossible': False}),\n",
              " Prediction(uid=241198, iid='3463401282', r_ui=5.0, est=7.826049346055027, details={'was_impossible': True, 'reason': 'User and item are unknown.'}),\n",
              " Prediction(uid=11676, iid='0439096987', r_ui=3.0, est=7.826049346055027, details={'was_impossible': True, 'reason': 'User and item are unknown.'}),\n",
              " Prediction(uid=275970, iid='0618074678', r_ui=8.0, est=7.826049346055027, details={'was_impossible': True, 'reason': 'User and item are unknown.'}),\n",
              " Prediction(uid=38273, iid='0061065609', r_ui=10.0, est=7.826049346055027, details={'was_impossible': True, 'reason': 'User and item are unknown.'}),\n",
              " Prediction(uid=117384, iid='0553374338', r_ui=10.0, est=7.826049346055027, details={'was_impossible': True, 'reason': 'User and item are unknown.'}),\n",
              " Prediction(uid=190708, iid='0451076982', r_ui=10.0, est=7.826049346055027, details={'was_impossible': True, 'reason': 'User and item are unknown.'}),\n",
              " Prediction(uid=148258, iid='0877796033', r_ui=10.0, est=7.826049346055027, details={'was_impossible': True, 'reason': 'User and item are unknown.'}),\n",
              " Prediction(uid=193458, iid='1570715610', r_ui=8.0, est=7.826049346055027, details={'was_impossible': True, 'reason': 'User and item are unknown.'}),\n",
              " Prediction(uid=185233, iid='0307262049', r_ui=5.0, est=7.826049346055027, details={'was_impossible': True, 'reason': 'User and item are unknown.'}),\n",
              " Prediction(uid=268300, iid='0786706406', r_ui=10.0, est=7.826049346055027, details={'was_impossible': True, 'reason': 'User and item are unknown.'}),\n",
              " Prediction(uid=235105, iid='0446607746', r_ui=9.0, est=7.826049346055027, details={'was_impossible': True, 'reason': 'User and item are unknown.'}),\n",
              " Prediction(uid=26535, iid='0373286171', r_ui=5.0, est=1.7371378704063476, details={'was_impossible': False}),\n",
              " Prediction(uid=248718, iid='0876545827', r_ui=8.0, est=7.826049346055027, details={'was_impossible': True, 'reason': 'User and item are unknown.'}),\n",
              " Prediction(uid=55490, iid='0375708111', r_ui=10.0, est=2.529317679022916, details={'was_impossible': False}),\n",
              " Prediction(uid=6543, iid='0312267568', r_ui=9.0, est=4.786186655572316, details={'was_impossible': False}),\n",
              " Prediction(uid=174304, iid='0345392825', r_ui=8.0, est=6.4288432245631775, details={'was_impossible': False}),\n",
              " Prediction(uid=123981, iid='0440202043', r_ui=8.0, est=4.495327064930741, details={'was_impossible': False}),\n",
              " Prediction(uid=98391, iid='0974363944', r_ui=5.0, est=7.826049346055027, details={'was_impossible': True, 'reason': 'User and item are unknown.'}),\n",
              " Prediction(uid=98391, iid='0380813750', r_ui=9.0, est=7.826049346055027, details={'was_impossible': True, 'reason': 'User and item are unknown.'}),\n",
              " Prediction(uid=218552, iid='0140869115', r_ui=6.0, est=7.826049346055027, details={'was_impossible': True, 'reason': 'User and item are unknown.'}),\n",
              " Prediction(uid=75591, iid='0425060772', r_ui=6.0, est=1.8689285440136583, details={'was_impossible': False}),\n",
              " Prediction(uid=78553, iid='0553296981', r_ui=10.0, est=5.802819708641998, details={'was_impossible': False}),\n",
              " Prediction(uid=204864, iid='031286583X', r_ui=7.0, est=3.793595462499008, details={'was_impossible': False}),\n",
              " Prediction(uid=88677, iid='0821732315', r_ui=5.0, est=7.826049346055027, details={'was_impossible': True, 'reason': 'User and item are unknown.'}),\n",
              " Prediction(uid=162639, iid='1575662612', r_ui=5.0, est=1.6810445803982754, details={'was_impossible': False}),\n",
              " Prediction(uid=143175, iid='0060535520', r_ui=4.0, est=7.826049346055027, details={'was_impossible': True, 'reason': 'User and item are unknown.'}),\n",
              " Prediction(uid=11676, iid='0751500844', r_ui=7.0, est=7.826049346055027, details={'was_impossible': True, 'reason': 'User and item are unknown.'}),\n",
              " Prediction(uid=102359, iid='0671689738', r_ui=5.0, est=2.429471638510638, details={'was_impossible': False}),\n",
              " Prediction(uid=56959, iid='0440187664', r_ui=5.0, est=7.826049346055027, details={'was_impossible': True, 'reason': 'User and item are unknown.'}),\n",
              " Prediction(uid=94242, iid='0833544721', r_ui=8.0, est=7.826049346055027, details={'was_impossible': True, 'reason': 'User and item are unknown.'}),\n",
              " Prediction(uid=153662, iid='0399135995', r_ui=10.0, est=3.3445284415542273, details={'was_impossible': False}),\n",
              " Prediction(uid=224764, iid='034538475X', r_ui=8.0, est=4.615186094021372, details={'was_impossible': False}),\n",
              " Prediction(uid=78783, iid='0449223604', r_ui=9.0, est=5.172304994781855, details={'was_impossible': False}),\n",
              " Prediction(uid=126492, iid='034538475X', r_ui=7.0, est=6.735619025699057, details={'was_impossible': False}),\n",
              " Prediction(uid=165308, iid='0060554185', r_ui=8.0, est=7.826049346055027, details={'was_impossible': True, 'reason': 'User and item are unknown.'}),\n",
              " Prediction(uid=11676, iid='0440226449', r_ui=8.0, est=4.87940810703537, details={'was_impossible': False}),\n",
              " Prediction(uid=197659, iid='0801001188', r_ui=8.0, est=7.826049346055027, details={'was_impossible': True, 'reason': 'User and item are unknown.'}),\n",
              " Prediction(uid=158295, iid='068810553X', r_ui=6.0, est=7.826049346055027, details={'was_impossible': True, 'reason': 'User and item are unknown.'}),\n",
              " Prediction(uid=23902, iid='0749915609', r_ui=9.0, est=7.826049346055027, details={'was_impossible': True, 'reason': 'User and item are unknown.'}),\n",
              " Prediction(uid=136382, iid='0425143570', r_ui=5.0, est=7.826049346055027, details={'was_impossible': True, 'reason': 'User and item are unknown.'}),\n",
              " Prediction(uid=185233, iid='0590332872', r_ui=5.0, est=7.826049346055027, details={'was_impossible': True, 'reason': 'User and item are unknown.'}),\n",
              " Prediction(uid=268932, iid='0307231445', r_ui=5.0, est=7.826049346055027, details={'was_impossible': True, 'reason': 'User and item are unknown.'}),\n",
              " Prediction(uid=16795, iid='0310205573', r_ui=7.0, est=7.826049346055027, details={'was_impossible': True, 'reason': 'User and item are unknown.'}),\n",
              " Prediction(uid=252695, iid='0445409134', r_ui=8.0, est=4.995476190688892, details={'was_impossible': False}),\n",
              " Prediction(uid=163761, iid='0373079834', r_ui=6.0, est=7.826049346055027, details={'was_impossible': True, 'reason': 'User and item are unknown.'}),\n",
              " Prediction(uid=177432, iid='0452279607', r_ui=8.0, est=2.83043970424886, details={'was_impossible': False}),\n",
              " Prediction(uid=49144, iid='8420633380', r_ui=5.0, est=7.826049346055027, details={'was_impossible': True, 'reason': 'User and item are unknown.'}),\n",
              " Prediction(uid=248718, iid='0553561189', r_ui=10.0, est=1.34761628900849, details={'was_impossible': False}),\n",
              " Prediction(uid=53220, iid='0515131156', r_ui=8.0, est=7.826049346055027, details={'was_impossible': True, 'reason': 'User and item are unknown.'}),\n",
              " Prediction(uid=63956, iid='0380729679', r_ui=5.0, est=7.826049346055027, details={'was_impossible': True, 'reason': 'User and item are unknown.'}),\n",
              " Prediction(uid=56959, iid='0891450688', r_ui=10.0, est=7.826049346055027, details={'was_impossible': True, 'reason': 'User and item are unknown.'}),\n",
              " Prediction(uid=25409, iid='1852427159', r_ui=8.0, est=7.826049346055027, details={'was_impossible': True, 'reason': 'User and item are unknown.'}),\n",
              " Prediction(uid=100459, iid='1871512417', r_ui=10.0, est=7.826049346055027, details={'was_impossible': True, 'reason': 'User and item are unknown.'}),\n",
              " Prediction(uid=241666, iid='0425147622', r_ui=8.0, est=6.679561440773489, details={'was_impossible': False}),\n",
              " Prediction(uid=264321, iid='034539724X', r_ui=7.0, est=7.826049346055027, details={'was_impossible': True, 'reason': 'User and item are unknown.'}),\n",
              " Prediction(uid=235105, iid='0425146391', r_ui=7.0, est=7.826049346055027, details={'was_impossible': True, 'reason': 'User and item are unknown.'}),\n",
              " Prediction(uid=56447, iid='0140481346', r_ui=4.0, est=3.2863822801466593, details={'was_impossible': False}),\n",
              " Prediction(uid=6575, iid='0671254308', r_ui=9.0, est=7.826049346055027, details={'was_impossible': True, 'reason': 'User and item are unknown.'}),\n",
              " Prediction(uid=217106, iid='0878053603', r_ui=9.0, est=7.826049346055027, details={'was_impossible': True, 'reason': 'User and item are unknown.'}),\n",
              " Prediction(uid=36609, iid='0385335830', r_ui=8.0, est=6.528288261097491, details={'was_impossible': False}),\n",
              " Prediction(uid=177432, iid='0553212478', r_ui=9.0, est=6.3027835948737465, details={'was_impossible': False}),\n",
              " Prediction(uid=25981, iid='0886778085', r_ui=5.0, est=7.826049346055027, details={'was_impossible': True, 'reason': 'User and item are unknown.'}),\n",
              " Prediction(uid=210485, iid='044173118X', r_ui=7.0, est=7.826049346055027, details={'was_impossible': True, 'reason': 'User and item are unknown.'}),\n",
              " Prediction(uid=227250, iid='0373790511', r_ui=10.0, est=7.826049346055027, details={'was_impossible': True, 'reason': 'User and item are unknown.'}),\n",
              " Prediction(uid=98391, iid='0373691912', r_ui=10.0, est=7.826049346055027, details={'was_impossible': True, 'reason': 'User and item are unknown.'}),\n",
              " Prediction(uid=249894, iid='0553382179', r_ui=8.0, est=5.845960814879504, details={'was_impossible': False}),\n",
              " Prediction(uid=30735, iid='0312098812', r_ui=8.0, est=7.826049346055027, details={'was_impossible': True, 'reason': 'User and item are unknown.'}),\n",
              " Prediction(uid=30711, iid='034531378X', r_ui=4.0, est=7.826049346055027, details={'was_impossible': True, 'reason': 'User and item are unknown.'}),\n",
              " Prediction(uid=174892, iid='0553582135', r_ui=5.0, est=7.299694501863146, details={'was_impossible': False}),\n",
              " Prediction(uid=43910, iid='0449003981', r_ui=8.0, est=6.71982267081499, details={'was_impossible': False}),\n",
              " Prediction(uid=11676, iid='0812544420', r_ui=5.0, est=7.826049346055027, details={'was_impossible': True, 'reason': 'User and item are unknown.'}),\n",
              " Prediction(uid=113519, iid='0394557433', r_ui=9.0, est=7.826049346055027, details={'was_impossible': True, 'reason': 'User and item are unknown.'}),\n",
              " Prediction(uid=69078, iid='039592720X', r_ui=9.0, est=6.511178804560196, details={'was_impossible': False}),\n",
              " Prediction(uid=209516, iid='0552998001', r_ui=10.0, est=5.508696546808618, details={'was_impossible': False}),\n",
              " Prediction(uid=33145, iid='2290047414', r_ui=8.0, est=1, details={'was_impossible': False}),\n",
              " Prediction(uid=107784, iid='0553571869', r_ui=7.0, est=7.826049346055027, details={'was_impossible': True, 'reason': 'User and item are unknown.'}),\n",
              " Prediction(uid=182086, iid='1551667916', r_ui=10.0, est=3.943150523205998, details={'was_impossible': False}),\n",
              " Prediction(uid=102967, iid='0440213290', r_ui=6.0, est=5.573226605996363, details={'was_impossible': False}),\n",
              " Prediction(uid=142524, iid='0743436679', r_ui=9.0, est=1.293739730583938, details={'was_impossible': False}),\n",
              " Prediction(uid=94347, iid='1853260495', r_ui=7.0, est=7.826049346055027, details={'was_impossible': True, 'reason': 'User and item are unknown.'}),\n",
              " Prediction(uid=204864, iid='0399522387', r_ui=9.0, est=7.826049346055027, details={'was_impossible': True, 'reason': 'User and item are unknown.'}),\n",
              " Prediction(uid=165308, iid='0670880728', r_ui=10.0, est=7.251322508623874, details={'was_impossible': False}),\n",
              " Prediction(uid=101851, iid='0804819459', r_ui=10.0, est=7.826049346055027, details={'was_impossible': True, 'reason': 'User and item are unknown.'}),\n",
              " Prediction(uid=110912, iid='0385503822', r_ui=10.0, est=7.928682758976768, details={'was_impossible': False}),\n",
              " Prediction(uid=229011, iid='0553581236', r_ui=8.0, est=2.5006317371710973, details={'was_impossible': False}),\n",
              " Prediction(uid=56271, iid='0140350179', r_ui=5.0, est=7.826049346055027, details={'was_impossible': True, 'reason': 'User and item are unknown.'}),\n",
              " Prediction(uid=51883, iid='0449133931', r_ui=1.0, est=7.826049346055027, details={'was_impossible': True, 'reason': 'User and item are unknown.'}),\n",
              " Prediction(uid=234359, iid='0062502182', r_ui=6.0, est=5.615214015545783, details={'was_impossible': False}),\n",
              " Prediction(uid=28591, iid='0345463404', r_ui=7.0, est=6.0383069598799475, details={'was_impossible': False}),\n",
              " Prediction(uid=92810, iid='0061042943', r_ui=8.0, est=7.056452716029909, details={'was_impossible': False}),\n",
              " Prediction(uid=233911, iid='0895860554', r_ui=8.0, est=7.826049346055027, details={'was_impossible': True, 'reason': 'User and item are unknown.'}),\n",
              " Prediction(uid=162639, iid='140003065X', r_ui=8.0, est=8.44033895310616, details={'was_impossible': False}),\n",
              " Prediction(uid=123981, iid='0553562738', r_ui=8.0, est=3.8728856194130623, details={'was_impossible': False}),\n",
              " Prediction(uid=6575, iid='0140284621', r_ui=8.0, est=7.826049346055027, details={'was_impossible': True, 'reason': 'User and item are unknown.'}),\n",
              " Prediction(uid=76151, iid='051511992X', r_ui=10.0, est=9.249863896112858, details={'was_impossible': False}),\n",
              " Prediction(uid=79441, iid='0805009329', r_ui=8.0, est=7.826049346055027, details={'was_impossible': True, 'reason': 'User and item are unknown.'}),\n",
              " Prediction(uid=102359, iid='0895656965', r_ui=10.0, est=7.826049346055027, details={'was_impossible': True, 'reason': 'User and item are unknown.'}),\n",
              " Prediction(uid=216012, iid='0312982186', r_ui=8.0, est=5.285455306716508, details={'was_impossible': False}),\n",
              " Prediction(uid=35836, iid='0812521374', r_ui=1.0, est=1.192716865042582, details={'was_impossible': False}),\n",
              " Prediction(uid=89602, iid='1573220280', r_ui=5.0, est=3.508812991565123, details={'was_impossible': False}),\n",
              " Prediction(uid=11676, iid='0866254099', r_ui=10.0, est=3.6367359311404153, details={'was_impossible': False}),\n",
              " Prediction(uid=12538, iid='0553577905', r_ui=8.0, est=7.826049346055027, details={'was_impossible': True, 'reason': 'User and item are unknown.'}),\n",
              " Prediction(uid=98391, iid='0060582308', r_ui=8.0, est=4.086618090849568, details={'was_impossible': False}),\n",
              " Prediction(uid=35857, iid='0786867647', r_ui=8.0, est=7.1131699112653175, details={'was_impossible': False}),\n",
              " Prediction(uid=98391, iid='1590580354', r_ui=9.0, est=7.826049346055027, details={'was_impossible': True, 'reason': 'User and item are unknown.'}),\n",
              " Prediction(uid=252820, iid='0746010346', r_ui=7.0, est=7.826049346055027, details={'was_impossible': True, 'reason': 'User and item are unknown.'}),\n",
              " Prediction(uid=104636, iid='0449221482', r_ui=9.0, est=9.867772841996427, details={'was_impossible': False}),\n",
              " Prediction(uid=265115, iid='0385468687', r_ui=6.0, est=7.826049346055027, details={'was_impossible': True, 'reason': 'User and item are unknown.'}),\n",
              " Prediction(uid=264321, iid='074724250X', r_ui=7.0, est=7.826049346055027, details={'was_impossible': True, 'reason': 'User and item are unknown.'}),\n",
              " Prediction(uid=123883, iid='0821759981', r_ui=5.0, est=4.352971137134854, details={'was_impossible': False}),\n",
              " Prediction(uid=227447, iid='0380814021', r_ui=9.0, est=5.194632901355257, details={'was_impossible': False}),\n",
              " Prediction(uid=242006, iid='037310443X', r_ui=5.0, est=7.826049346055027, details={'was_impossible': True, 'reason': 'User and item are unknown.'}),\n",
              " Prediction(uid=261105, iid='3518392387', r_ui=9.0, est=7.826049346055027, details={'was_impossible': True, 'reason': 'User and item are unknown.'}),\n",
              " Prediction(uid=23872, iid='0521565871', r_ui=7.0, est=7.826049346055027, details={'was_impossible': True, 'reason': 'User and item are unknown.'}),\n",
              " Prediction(uid=153662, iid='0440213304', r_ui=9.0, est=7.826049346055027, details={'was_impossible': True, 'reason': 'User and item are unknown.'}),\n",
              " Prediction(uid=123883, iid='0373833466', r_ui=5.0, est=7.826049346055027, details={'was_impossible': True, 'reason': 'User and item are unknown.'}),\n",
              " Prediction(uid=189835, iid='0140430954', r_ui=5.0, est=7.826049346055027, details={'was_impossible': True, 'reason': 'User and item are unknown.'}),\n",
              " Prediction(uid=110973, iid='1558531564', r_ui=9.0, est=4.8779723960300085, details={'was_impossible': False}),\n",
              " Prediction(uid=174892, iid='0671698842', r_ui=7.0, est=7.826049346055027, details={'was_impossible': True, 'reason': 'User and item are unknown.'}),\n",
              " Prediction(uid=26535, iid='0060084707', r_ui=5.0, est=7.826049346055027, details={'was_impossible': True, 'reason': 'User and item are unknown.'}),\n",
              " Prediction(uid=11676, iid='0688127258', r_ui=6.0, est=7.826049346055027, details={'was_impossible': True, 'reason': 'User and item are unknown.'}),\n",
              " Prediction(uid=37950, iid='0452279607', r_ui=10.0, est=1.282756539344508, details={'was_impossible': False}),\n",
              " Prediction(uid=203240, iid='0375506179', r_ui=7.0, est=2.457915274603509, details={'was_impossible': False}),\n",
              " Prediction(uid=248718, iid='1569470111', r_ui=9.0, est=7.826049346055027, details={'was_impossible': True, 'reason': 'User and item are unknown.'}),\n",
              " Prediction(uid=225763, iid='0030897432', r_ui=5.0, est=7.826049346055027, details={'was_impossible': True, 'reason': 'User and item are unknown.'}),\n",
              " Prediction(uid=30810, iid='3518390945', r_ui=10.0, est=7.826049346055027, details={'was_impossible': True, 'reason': 'User and item are unknown.'}),\n",
              " Prediction(uid=197659, iid='1892051001', r_ui=7.0, est=7.826049346055027, details={'was_impossible': True, 'reason': 'User and item are unknown.'}),\n",
              " Prediction(uid=224525, iid='0553267701', r_ui=10.0, est=7.826049346055027, details={'was_impossible': True, 'reason': 'User and item are unknown.'}),\n",
              " Prediction(uid=11676, iid='1551667045', r_ui=2.0, est=1.1366145221531903, details={'was_impossible': False}),\n",
              " Prediction(uid=179718, iid='0446606189', r_ui=10.0, est=7.26911882408493, details={'was_impossible': False}),\n",
              " Prediction(uid=178522, iid='0671673653', r_ui=8.0, est=2.007247035146252, details={'was_impossible': False}),\n",
              " Prediction(uid=52199, iid='0843949945', r_ui=8.0, est=6.065224393499229, details={'was_impossible': False}),\n",
              " Prediction(uid=236283, iid='0345347749', r_ui=10.0, est=7.826049346055027, details={'was_impossible': True, 'reason': 'User and item are unknown.'}),\n",
              " Prediction(uid=229011, iid='0061056871', r_ui=5.0, est=3.3095378433591693, details={'was_impossible': False}),\n",
              " Prediction(uid=11676, iid='0684195658', r_ui=7.0, est=7.826049346055027, details={'was_impossible': True, 'reason': 'User and item are unknown.'}),\n",
              " Prediction(uid=197659, iid='0800793013', r_ui=10.0, est=7.826049346055027, details={'was_impossible': True, 'reason': 'User and item are unknown.'}),\n",
              " Prediction(uid=189835, iid='0679602615', r_ui=5.0, est=7.826049346055027, details={'was_impossible': True, 'reason': 'User and item are unknown.'}),\n",
              " Prediction(uid=52584, iid='042510687X', r_ui=6.0, est=5.237935532924865, details={'was_impossible': False}),\n",
              " Prediction(uid=100906, iid='078819206X', r_ui=8.0, est=7.826049346055027, details={'was_impossible': True, 'reason': 'User and item are unknown.'}),\n",
              " Prediction(uid=189835, iid='0395356350', r_ui=5.0, est=7.826049346055027, details={'was_impossible': True, 'reason': 'User and item are unknown.'}),\n",
              " Prediction(uid=189835, iid='0375756868', r_ui=5.0, est=7.826049346055027, details={'was_impossible': True, 'reason': 'User and item are unknown.'}),\n",
              " Prediction(uid=153662, iid='0743456254', r_ui=9.0, est=3.719493240059585, details={'was_impossible': False}),\n",
              " Prediction(uid=125774, iid='0399147314', r_ui=7.0, est=7.826049346055027, details={'was_impossible': True, 'reason': 'User and item are unknown.'}),\n",
              " Prediction(uid=241198, iid='3421051828', r_ui=9.0, est=7.826049346055027, details={'was_impossible': True, 'reason': 'User and item are unknown.'}),\n",
              " Prediction(uid=135265, iid='0746029616', r_ui=9.0, est=7.826049346055027, details={'was_impossible': True, 'reason': 'User and item are unknown.'}),\n",
              " Prediction(uid=98391, iid='0312875894', r_ui=9.0, est=7.826049346055027, details={'was_impossible': True, 'reason': 'User and item are unknown.'}),\n",
              " Prediction(uid=177432, iid='0451524063', r_ui=8.0, est=7.826049346055027, details={'was_impossible': True, 'reason': 'User and item are unknown.'}),\n",
              " Prediction(uid=98391, iid='0345447530', r_ui=9.0, est=7.826049346055027, details={'was_impossible': True, 'reason': 'User and item are unknown.'}),\n",
              " Prediction(uid=252695, iid='0345327861', r_ui=9.0, est=6.771557796483003, details={'was_impossible': False}),\n",
              " Prediction(uid=56447, iid='0764222120', r_ui=6.0, est=7.826049346055027, details={'was_impossible': True, 'reason': 'User and item are unknown.'}),\n",
              " Prediction(uid=171118, iid='0345330137', r_ui=8.0, est=7.826049346055027, details={'was_impossible': True, 'reason': 'User and item are unknown.'}),\n",
              " Prediction(uid=95359, iid='0440775825', r_ui=7.0, est=7.826049346055027, details={'was_impossible': True, 'reason': 'User and item are unknown.'}),\n",
              " Prediction(uid=245827, iid='0399141146', r_ui=10.0, est=3.676840108942004, details={'was_impossible': False}),\n",
              " Prediction(uid=210485, iid='0452281679', r_ui=6.0, est=5.431213022329523, details={'was_impossible': False}),\n",
              " Prediction(uid=83637, iid='0345410297', r_ui=6.0, est=7.826049346055027, details={'was_impossible': True, 'reason': 'User and item are unknown.'}),\n",
              " Prediction(uid=11676, iid='0439136369', r_ui=9.0, est=7.272712433600411, details={'was_impossible': False}),\n",
              " Prediction(uid=270713, iid='0452278821', r_ui=9.0, est=7.826049346055027, details={'was_impossible': True, 'reason': 'User and item are unknown.'}),\n",
              " Prediction(uid=98391, iid='0765309076', r_ui=10.0, est=7.826049346055027, details={'was_impossible': True, 'reason': 'User and item are unknown.'}),\n",
              " Prediction(uid=15408, iid='0394178009', r_ui=7.0, est=4.014314232051696, details={'was_impossible': False}),\n",
              " Prediction(uid=180651, iid='0552141275', r_ui=7.0, est=3.5861153675530284, details={'was_impossible': False}),\n",
              " Prediction(uid=98391, iid='1592798780', r_ui=10.0, est=7.826049346055027, details={'was_impossible': True, 'reason': 'User and item are unknown.'}),\n",
              " Prediction(uid=23872, iid='0688050212', r_ui=7.0, est=5.567947319654363, details={'was_impossible': False}),\n",
              " Prediction(uid=257204, iid='0345322215', r_ui=10.0, est=3.065472598037682, details={'was_impossible': False}),\n",
              " Prediction(uid=102359, iid='1576732142', r_ui=7.0, est=7.826049346055027, details={'was_impossible': True, 'reason': 'User and item are unknown.'}),\n",
              " Prediction(uid=93629, iid='0061006629', r_ui=7.0, est=3.417578065827989, details={'was_impossible': False}),\n",
              " Prediction(uid=197659, iid='091648968X', r_ui=6.0, est=7.826049346055027, details={'was_impossible': True, 'reason': 'User and item are unknown.'}),\n",
              " Prediction(uid=11676, iid='0394805720', r_ui=6.0, est=5.867221987844624, details={'was_impossible': False}),\n",
              " Prediction(uid=47316, iid='0842314296', r_ui=10.0, est=5.178704284638837, details={'was_impossible': False}),\n",
              " Prediction(uid=227520, iid='0380789876', r_ui=8.0, est=7.7649234011147295, details={'was_impossible': False}),\n",
              " Prediction(uid=11676, iid='0590434349', r_ui=5.0, est=7.826049346055027, details={'was_impossible': True, 'reason': 'User and item are unknown.'}),\n",
              " Prediction(uid=189835, iid='0300074131', r_ui=5.0, est=7.826049346055027, details={'was_impossible': True, 'reason': 'User and item are unknown.'}),\n",
              " Prediction(uid=163973, iid='0425105679', r_ui=5.0, est=5.684264878545582, details={'was_impossible': False}),\n",
              " Prediction(uid=166596, iid='0446530972', r_ui=9.0, est=1.9731076920880737, details={'was_impossible': False}),\n",
              " Prediction(uid=184299, iid='0767904656', r_ui=8.0, est=7.826049346055027, details={'was_impossible': True, 'reason': 'User and item are unknown.'}),\n",
              " Prediction(uid=173415, iid='078688505X', r_ui=10.0, est=2.229803436937131, details={'was_impossible': False}),\n",
              " Prediction(uid=216683, iid='0553211404', r_ui=8.0, est=5.326787237615788, details={'was_impossible': False}),\n",
              " Prediction(uid=94347, iid='1555971911', r_ui=7.0, est=7.826049346055027, details={'was_impossible': True, 'reason': 'User and item are unknown.'}),\n",
              " Prediction(uid=158295, iid='0446360589', r_ui=6.0, est=5.6452430436304635, details={'was_impossible': False}),\n",
              " Prediction(uid=11676, iid='0505524279', r_ui=7.0, est=7.284490515812444, details={'was_impossible': False}),\n",
              " Prediction(uid=153662, iid='0804119538', r_ui=10.0, est=7.826049346055027, details={'was_impossible': True, 'reason': 'User and item are unknown.'}),\n",
              " Prediction(uid=242083, iid='0688155308', r_ui=9.0, est=3.811077167101577, details={'was_impossible': False}),\n",
              " Prediction(uid=6575, iid='0316779423', r_ui=5.0, est=6.0417746899007065, details={'was_impossible': False}),\n",
              " Prediction(uid=101209, iid='0380802937', r_ui=5.0, est=2.7723376231271244, details={'was_impossible': False}),\n",
              " Prediction(uid=55490, iid='0385190328', r_ui=8.0, est=7.826049346055027, details={'was_impossible': True, 'reason': 'User and item are unknown.'}),\n",
              " Prediction(uid=123883, iid='0515136530', r_ui=5.0, est=5.15263201509716, details={'was_impossible': False}),\n",
              " Prediction(uid=83637, iid='0525944974', r_ui=7.0, est=4.1428291687445915, details={'was_impossible': False}),\n",
              " Prediction(uid=47316, iid='0842329250', r_ui=10.0, est=6.385860548741786, details={'was_impossible': False}),\n",
              " Prediction(uid=203240, iid='0671026275', r_ui=8.0, est=7.826049346055027, details={'was_impossible': True, 'reason': 'User and item are unknown.'}),\n",
              " Prediction(uid=110934, iid='0446670111', r_ui=8.0, est=7.627963413671737, details={'was_impossible': False}),\n",
              " Prediction(uid=105517, iid='0425113884', r_ui=7.0, est=7.826049346055027, details={'was_impossible': True, 'reason': 'User and item are unknown.'}),\n",
              " Prediction(uid=16795, iid='156684097X', r_ui=7.0, est=7.826049346055027, details={'was_impossible': True, 'reason': 'User and item are unknown.'}),\n",
              " Prediction(uid=76499, iid='0440414806', r_ui=10.0, est=5.1212839000152846, details={'was_impossible': False}),\n",
              " Prediction(uid=248718, iid='0886775000', r_ui=7.0, est=7.826049346055027, details={'was_impossible': True, 'reason': 'User and item are unknown.'}),\n",
              " Prediction(uid=12982, iid='0553251139', r_ui=8.0, est=7.826049346055027, details={'was_impossible': True, 'reason': 'User and item are unknown.'}),\n",
              " Prediction(uid=101209, iid='0373289111', r_ui=8.0, est=7.826049346055027, details={'was_impossible': True, 'reason': 'User and item are unknown.'}),\n",
              " Prediction(uid=177432, iid='034529369X', r_ui=7.0, est=7.826049346055027, details={'was_impossible': True, 'reason': 'User and item are unknown.'}),\n",
              " Prediction(uid=224525, iid='1581346085', r_ui=10.0, est=7.826049346055027, details={'was_impossible': True, 'reason': 'User and item are unknown.'}),\n",
              " Prediction(uid=95359, iid='0786867647', r_ui=8.0, est=9.001979599574874, details={'was_impossible': False}),\n",
              " Prediction(uid=116599, iid='0679819762', r_ui=10.0, est=7.826049346055027, details={'was_impossible': True, 'reason': 'User and item are unknown.'}),\n",
              " Prediction(uid=185233, iid='0307119750', r_ui=5.0, est=1.4150585410825136, details={'was_impossible': False}),\n",
              " Prediction(uid=196077, iid='0395294630', r_ui=9.0, est=7.826049346055027, details={'was_impossible': True, 'reason': 'User and item are unknown.'}),\n",
              " Prediction(uid=182086, iid='0373244738', r_ui=10.0, est=6.304189369658972, details={'was_impossible': False}),\n",
              " Prediction(uid=153662, iid='0553213164', r_ui=10.0, est=1.3302241703492952, details={'was_impossible': False}),\n",
              " Prediction(uid=98391, iid='031231020X', r_ui=10.0, est=7.826049346055027, details={'was_impossible': True, 'reason': 'User and item are unknown.'}),\n",
              " Prediction(uid=56399, iid='0932445519', r_ui=10.0, est=7.826049346055027, details={'was_impossible': True, 'reason': 'User and item are unknown.'}),\n",
              " Prediction(uid=189835, iid='0684870061', r_ui=5.0, est=7.826049346055027, details={'was_impossible': True, 'reason': 'User and item are unknown.'}),\n",
              " Prediction(uid=93047, iid='155652157X', r_ui=7.0, est=7.826049346055027, details={'was_impossible': True, 'reason': 'User and item are unknown.'}),\n",
              " Prediction(uid=129074, iid='0345360281', r_ui=8.0, est=7.826049346055027, details={'was_impossible': True, 'reason': 'User and item are unknown.'}),\n",
              " Prediction(uid=224764, iid='084232920X', r_ui=7.0, est=4.840794077438416, details={'was_impossible': False}),\n",
              " Prediction(uid=189835, iid='0060509171', r_ui=8.0, est=7.826049346055027, details={'was_impossible': True, 'reason': 'User and item are unknown.'}),\n",
              " Prediction(uid=177458, iid='1884822738', r_ui=7.0, est=6.655511085583663, details={'was_impossible': False}),\n",
              " Prediction(uid=11676, iid='067945960X', r_ui=6.0, est=5.11333249772894, details={'was_impossible': False}),\n",
              " Prediction(uid=98391, iid='0060083263', r_ui=10.0, est=2.6533117112024645, details={'was_impossible': False}),\n",
              " Prediction(uid=11676, iid='0879236493', r_ui=9.0, est=6.380300228522946, details={'was_impossible': False}),\n",
              " Prediction(uid=236340, iid='0684862719', r_ui=8.0, est=5.306133150349259, details={'was_impossible': False}),\n",
              " Prediction(uid=56959, iid='1561382159', r_ui=10.0, est=7.826049346055027, details={'was_impossible': True, 'reason': 'User and item are unknown.'}),\n",
              " Prediction(uid=143175, iid='0345329341', r_ui=8.0, est=2.3018164866704436, details={'was_impossible': False}),\n",
              " Prediction(uid=251843, iid='0553571885', r_ui=10.0, est=5.759822074167421, details={'was_impossible': False}),\n",
              " Prediction(uid=245827, iid='0590466186', r_ui=5.0, est=1, details={'was_impossible': False}),\n",
              " Prediction(uid=142524, iid='0061031151', r_ui=8.0, est=4.979908126153404, details={'was_impossible': False}),\n",
              " Prediction(uid=68555, iid='0425176487', r_ui=9.0, est=4.249698304164417, details={'was_impossible': False}),\n",
              " Prediction(uid=129074, iid='039914210X', r_ui=6.0, est=7.826049346055027, details={'was_impossible': True, 'reason': 'User and item are unknown.'}),\n",
              " Prediction(uid=254465, iid='0764552147', r_ui=10.0, est=7.826049346055027, details={'was_impossible': True, 'reason': 'User and item are unknown.'}),\n",
              " Prediction(uid=200226, iid='0440204194', r_ui=10.0, est=5.8231897424190615, details={'was_impossible': False}),\n",
              " Prediction(uid=95359, iid='038533334X', r_ui=6.0, est=7.7435077241944406, details={'was_impossible': False}),\n",
              " Prediction(uid=109574, iid='0385029551', r_ui=10.0, est=7.826049346055027, details={'was_impossible': True, 'reason': 'User and item are unknown.'}),\n",
              " Prediction(uid=11676, iid='0684870258', r_ui=8.0, est=7.826049346055027, details={'was_impossible': True, 'reason': 'User and item are unknown.'}),\n",
              " Prediction(uid=63714, iid='0590762133', r_ui=9.0, est=7.826049346055027, details={'was_impossible': True, 'reason': 'User and item are unknown.'}),\n",
              " Prediction(uid=206534, iid='0836218817', r_ui=10.0, est=5.501461725033234, details={'was_impossible': False}),\n",
              " Prediction(uid=23902, iid='0340733632', r_ui=5.0, est=7.826049346055027, details={'was_impossible': True, 'reason': 'User and item are unknown.'}),\n",
              " Prediction(uid=232131, iid='0312085168', r_ui=7.0, est=7.826049346055027, details={'was_impossible': True, 'reason': 'User and item are unknown.'}),\n",
              " Prediction(uid=85656, iid='0345334310', r_ui=9.0, est=3.1544962202861018, details={'was_impossible': False}),\n",
              " Prediction(uid=56959, iid='0373264798', r_ui=10.0, est=7.826049346055027, details={'was_impossible': True, 'reason': 'User and item are unknown.'}),\n",
              " Prediction(uid=11676, iid='0471193615', r_ui=6.0, est=3.2509082260321467, details={'was_impossible': False}),\n",
              " Prediction(uid=216012, iid='0786226013', r_ui=7.0, est=7.826049346055027, details={'was_impossible': True, 'reason': 'User and item are unknown.'}),\n",
              " Prediction(uid=250709, iid='0765303930', r_ui=5.0, est=1.3357850699750924, details={'was_impossible': False}),\n",
              " Prediction(uid=225199, iid='0486264645', r_ui=8.0, est=2.852368280739571, details={'was_impossible': False}),\n",
              " Prediction(uid=23902, iid='999750805X', r_ui=6.0, est=7.826049346055027, details={'was_impossible': True, 'reason': 'User and item are unknown.'}),\n",
              " Prediction(uid=40943, iid='0439178762', r_ui=10.0, est=7.826049346055027, details={'was_impossible': True, 'reason': 'User and item are unknown.'}),\n",
              " Prediction(uid=48025, iid='0441005241', r_ui=6.0, est=3.7253972267942315, details={'was_impossible': False}),\n",
              " Prediction(uid=265115, iid='0440224594', r_ui=7.0, est=4.503918140198412, details={'was_impossible': False}),\n",
              " Prediction(uid=11993, iid='0785281967', r_ui=10.0, est=7.826049346055027, details={'was_impossible': True, 'reason': 'User and item are unknown.'}),\n",
              " Prediction(uid=30276, iid='0380754371', r_ui=8.0, est=5.199049409040859, details={'was_impossible': False}),\n",
              " Prediction(uid=255489, iid='0142004030', r_ui=9.0, est=6.979516796089142, details={'was_impossible': False}),\n",
              " Prediction(uid=174304, iid='0671028006', r_ui=5.0, est=7.826049346055027, details={'was_impossible': True, 'reason': 'User and item are unknown.'}),\n",
              " Prediction(uid=163804, iid='0440236703', r_ui=8.0, est=7.297323362461501, details={'was_impossible': False}),\n",
              " Prediction(uid=11993, iid='0064430170', r_ui=10.0, est=7.826049346055027, details={'was_impossible': True, 'reason': 'User and item are unknown.'}),\n",
              " Prediction(uid=185233, iid='0670241334', r_ui=5.0, est=5.621596657544596, details={'was_impossible': False}),\n",
              " Prediction(uid=248718, iid='0380973464', r_ui=7.0, est=3.9246150625112817, details={'was_impossible': False}),\n",
              " Prediction(uid=46398, iid='0446605239', r_ui=4.0, est=6.592294029077204, details={'was_impossible': False}),\n",
              " Prediction(uid=67840, iid='0385720653', r_ui=8.0, est=7.826049346055027, details={'was_impossible': True, 'reason': 'User and item are unknown.'}),\n",
              " Prediction(uid=46398, iid='043936213X', r_ui=8.0, est=8.906360898767785, details={'was_impossible': False}),\n",
              " Prediction(uid=96448, iid='0679811796', r_ui=10.0, est=7.826049346055027, details={'was_impossible': True, 'reason': 'User and item are unknown.'}),\n",
              " Prediction(uid=268300, iid='0684847817', r_ui=10.0, est=4.1083207656696175, details={'was_impossible': False}),\n",
              " Prediction(uid=16966, iid='0671502859', r_ui=9.0, est=1.6234543330849143, details={'was_impossible': False}),\n",
              " Prediction(uid=168245, iid='0345438019', r_ui=7.0, est=4.912738184591378, details={'was_impossible': False}),\n",
              " Prediction(uid=204864, iid='0425166139', r_ui=7.0, est=6.846718169562897, details={'was_impossible': False}),\n",
              " Prediction(uid=11676, iid='1580623336', r_ui=8.0, est=7.826049346055027, details={'was_impossible': True, 'reason': 'User and item are unknown.'}),\n",
              " Prediction(uid=69078, iid='084781131X', r_ui=8.0, est=7.826049346055027, details={'was_impossible': True, 'reason': 'User and item are unknown.'}),\n",
              " Prediction(uid=153662, iid='0517035820', r_ui=5.0, est=1, details={'was_impossible': False}),\n",
              " Prediction(uid=265889, iid='0312984839', r_ui=10.0, est=7.271337363368729, details={'was_impossible': False}),\n",
              " Prediction(uid=7346, iid='0375726403', r_ui=8.0, est=6.077492514610204, details={'was_impossible': False}),\n",
              " Prediction(uid=227447, iid='0028620283', r_ui=10.0, est=7.826049346055027, details={'was_impossible': True, 'reason': 'User and item are unknown.'}),\n",
              " Prediction(uid=76626, iid='0060007192', r_ui=9.0, est=2.7797033489243246, details={'was_impossible': False}),\n",
              " Prediction(uid=109955, iid='0375705198', r_ui=7.0, est=7.404228218699202, details={'was_impossible': False}),\n",
              " Prediction(uid=254465, iid='0373292031', r_ui=10.0, est=7.826049346055027, details={'was_impossible': True, 'reason': 'User and item are unknown.'}),\n",
              " Prediction(uid=164323, iid='0451203771', r_ui=7.0, est=6.774751931807596, details={'was_impossible': False}),\n",
              " Prediction(uid=89602, iid='0345413377', r_ui=8.0, est=2.4026286385560605, details={'was_impossible': False}),\n",
              " Prediction(uid=162052, iid='0671011626', r_ui=7.0, est=7.826049346055027, details={'was_impossible': True, 'reason': 'User and item are unknown.'}),\n",
              " Prediction(uid=114988, iid='0451518616', r_ui=7.0, est=7.826049346055027, details={'was_impossible': True, 'reason': 'User and item are unknown.'}),\n",
              " Prediction(uid=56447, iid='0816704678', r_ui=5.0, est=1.9531174948957186, details={'was_impossible': False}),\n",
              " Prediction(uid=76151, iid='0553293176', r_ui=10.0, est=7.79498918477265, details={'was_impossible': False}),\n",
              " Prediction(uid=122429, iid='0746016468', r_ui=9.0, est=7.826049346055027, details={'was_impossible': True, 'reason': 'User and item are unknown.'}),\n",
              " Prediction(uid=7346, iid='0451519167', r_ui=10.0, est=7.826049346055027, details={'was_impossible': True, 'reason': 'User and item are unknown.'}),\n",
              " Prediction(uid=40889, iid='044048474X', r_ui=10.0, est=5.860491886816049, details={'was_impossible': False}),\n",
              " Prediction(uid=239584, iid='0375404910', r_ui=9.0, est=7.826049346055027, details={'was_impossible': True, 'reason': 'User and item are unknown.'}),\n",
              " Prediction(uid=268300, iid='0452279615', r_ui=10.0, est=7.826049346055027, details={'was_impossible': True, 'reason': 'User and item are unknown.'}),\n",
              " Prediction(uid=35859, iid='0425047075', r_ui=4.0, est=6.154034644202413, details={'was_impossible': False}),\n",
              " Prediction(uid=98391, iid='0380820536', r_ui=8.0, est=2.4970374315791855, details={'was_impossible': False}),\n",
              " Prediction(uid=52614, iid='0671447483', r_ui=10.0, est=2.618054635136248, details={'was_impossible': False}),\n",
              " Prediction(uid=216683, iid='0446605239', r_ui=7.0, est=8.759816765029251, details={'was_impossible': False}),\n",
              " Prediction(uid=242465, iid='0875421245', r_ui=10.0, est=2.697737638144254, details={'was_impossible': False}),\n",
              " Prediction(uid=240543, iid='0762700815', r_ui=10.0, est=7.826049346055027, details={'was_impossible': True, 'reason': 'User and item are unknown.'}),\n",
              " Prediction(uid=166123, iid='0590430122', r_ui=8.0, est=1, details={'was_impossible': False}),\n",
              " Prediction(uid=135149, iid='0140293248', r_ui=8.0, est=6.203263872618551, details={'was_impossible': False}),\n",
              " Prediction(uid=52350, iid='2731662476', r_ui=10.0, est=7.826049346055027, details={'was_impossible': True, 'reason': 'User and item are unknown.'}),\n",
              " Prediction(uid=132492, iid='3765812285', r_ui=10.0, est=7.826049346055027, details={'was_impossible': True, 'reason': 'User and item are unknown.'}),\n",
              " Prediction(uid=129716, iid='0140171029', r_ui=10.0, est=7.826049346055027, details={'was_impossible': True, 'reason': 'User and item are unknown.'}),\n",
              " Prediction(uid=13552, iid='0380819724', r_ui=8.0, est=3.3291732183536453, details={'was_impossible': False}),\n",
              " Prediction(uid=205943, iid='1576751163', r_ui=9.0, est=7.826049346055027, details={'was_impossible': True, 'reason': 'User and item are unknown.'}),\n",
              " Prediction(uid=128835, iid='0553292218', r_ui=9.0, est=7.826049346055027, details={'was_impossible': True, 'reason': 'User and item are unknown.'}),\n",
              " Prediction(uid=235105, iid='0316155306', r_ui=9.0, est=8.040303535063387, details={'was_impossible': False}),\n",
              " Prediction(uid=31556, iid='0786884592', r_ui=8.0, est=3.584737434101047, details={'was_impossible': False}),\n",
              " Prediction(uid=177432, iid='0812533666', r_ui=7.0, est=5.906363792685463, details={'was_impossible': False}),\n",
              " Prediction(uid=273113, iid='1551660504', r_ui=5.0, est=4.308208499643574, details={'was_impossible': False}),\n",
              " Prediction(uid=21014, iid='0385335881', r_ui=6.0, est=6.531996640031496, details={'was_impossible': False}),\n",
              " Prediction(uid=101851, iid='0440322278', r_ui=10.0, est=7.826049346055027, details={'was_impossible': True, 'reason': 'User and item are unknown.'}),\n",
              " Prediction(uid=76151, iid='0743446259', r_ui=10.0, est=8.393353177374665, details={'was_impossible': False}),\n",
              " Prediction(uid=65258, iid='0940884070', r_ui=7.0, est=7.826049346055027, details={'was_impossible': True, 'reason': 'User and item are unknown.'}),\n",
              " Prediction(uid=248718, iid='0345248236', r_ui=9.0, est=7.826049346055027, details={'was_impossible': True, 'reason': 'User and item are unknown.'}),\n",
              " Prediction(uid=116599, iid='0307119483', r_ui=10.0, est=7.826049346055027, details={'was_impossible': True, 'reason': 'User and item are unknown.'}),\n",
              " Prediction(uid=98391, iid='0843954698', r_ui=10.0, est=7.826049346055027, details={'was_impossible': True, 'reason': 'User and item are unknown.'}),\n",
              " Prediction(uid=59172, iid='0764560077', r_ui=10.0, est=7.826049346055027, details={'was_impossible': True, 'reason': 'User and item are unknown.'}),\n",
              " Prediction(uid=135149, iid='0345333578', r_ui=6.0, est=7.826049346055027, details={'was_impossible': True, 'reason': 'User and item are unknown.'}),\n",
              " Prediction(uid=138578, iid='0688161847', r_ui=9.0, est=7.826049346055027, details={'was_impossible': True, 'reason': 'User and item are unknown.'}),\n",
              " Prediction(uid=116599, iid='037376488X', r_ui=10.0, est=2.0063583046264655, details={'was_impossible': False}),\n",
              " Prediction(uid=46398, iid='0671791974', r_ui=9.0, est=7.826049346055027, details={'was_impossible': True, 'reason': 'User and item are unknown.'}),\n",
              " Prediction(uid=239584, iid='0440414806', r_ui=9.0, est=8.116731296018791, details={'was_impossible': False}),\n",
              " Prediction(uid=11676, iid='3499150832', r_ui=9.0, est=7.826049346055027, details={'was_impossible': True, 'reason': 'User and item are unknown.'}),\n",
              " Prediction(uid=252695, iid='0553251910', r_ui=7.0, est=2.0721221198617576, details={'was_impossible': False}),\n",
              " Prediction(uid=251394, iid='0380709546', r_ui=8.0, est=4.119938964374481, details={'was_impossible': False}),\n",
              " Prediction(uid=120565, iid='9812327975', r_ui=9.0, est=1, details={'was_impossible': False}),\n",
              " Prediction(uid=247429, iid='0931674085', r_ui=10.0, est=1, details={'was_impossible': False}),\n",
              " Prediction(uid=190925, iid='0380764008', r_ui=8.0, est=4.530127620366322, details={'was_impossible': False}),\n",
              " Prediction(uid=92652, iid='0894801449', r_ui=9.0, est=7.826049346055027, details={'was_impossible': True, 'reason': 'User and item are unknown.'}),\n",
              " Prediction(uid=40943, iid='0803706987', r_ui=10.0, est=7.826049346055027, details={'was_impossible': True, 'reason': 'User and item are unknown.'}),\n",
              " Prediction(uid=254899, iid='0671614347', r_ui=8.0, est=7.826049346055027, details={'was_impossible': True, 'reason': 'User and item are unknown.'}),\n",
              " Prediction(uid=69078, iid='0618065822', r_ui=8.0, est=7.826049346055027, details={'was_impossible': True, 'reason': 'User and item are unknown.'}),\n",
              " Prediction(uid=104636, iid='0440224845', r_ui=9.0, est=6.8786131333378675, details={'was_impossible': False}),\n",
              " Prediction(uid=23872, iid='0671867091', r_ui=9.0, est=4.943079621997685, details={'was_impossible': False}),\n",
              " Prediction(uid=14422, iid='1558743316', r_ui=7.0, est=5.0803215113719356, details={'was_impossible': False}),\n",
              " Prediction(uid=189835, iid='0525469265', r_ui=5.0, est=1, details={'was_impossible': False}),\n",
              " Prediction(uid=225087, iid='0671674366', r_ui=7.0, est=3.9095604258640835, details={'was_impossible': False}),\n",
              " Prediction(uid=76499, iid='0140544518', r_ui=10.0, est=7.826049346055027, details={'was_impossible': True, 'reason': 'User and item are unknown.'}),\n",
              " Prediction(uid=30810, iid='0385319231', r_ui=9.0, est=7.826049346055027, details={'was_impossible': True, 'reason': 'User and item are unknown.'}),\n",
              " Prediction(uid=183995, iid='0345409876', r_ui=5.0, est=1.827501914958333, details={'was_impossible': False}),\n",
              " Prediction(uid=254899, iid='080400322X', r_ui=9.0, est=4.4989561158259495, details={'was_impossible': False}),\n",
              " Prediction(uid=114368, iid='0553562746', r_ui=5.0, est=5.221189252884519, details={'was_impossible': False}),\n",
              " Prediction(uid=87555, iid='0688168442', r_ui=8.0, est=7.826049346055027, details={'was_impossible': True, 'reason': 'User and item are unknown.'}),\n",
              " Prediction(uid=60244, iid='0451527402', r_ui=7.0, est=7.826049346055027, details={'was_impossible': True, 'reason': 'User and item are unknown.'}),\n",
              " Prediction(uid=11676, iid='2266080598', r_ui=9.0, est=7.826049346055027, details={'was_impossible': True, 'reason': 'User and item are unknown.'}),\n",
              " Prediction(uid=269566, iid='0963607103', r_ui=5.0, est=7.826049346055027, details={'was_impossible': True, 'reason': 'User and item are unknown.'}),\n",
              " Prediction(uid=135265, iid='0373706928', r_ui=5.0, est=3.8180447237025428, details={'was_impossible': False}),\n",
              " Prediction(uid=185233, iid='0307000826', r_ui=5.0, est=1.8571133646016573, details={'was_impossible': False}),\n",
              " Prediction(uid=171118, iid='0064441555', r_ui=7.0, est=7.826049346055027, details={'was_impossible': True, 'reason': 'User and item are unknown.'}),\n",
              " Prediction(uid=184299, iid='0449243664', r_ui=6.0, est=7.826049346055027, details={'was_impossible': True, 'reason': 'User and item are unknown.'}),\n",
              " Prediction(uid=269566, iid='0140346414', r_ui=9.0, est=1.2511377995645574, details={'was_impossible': False}),\n",
              " Prediction(uid=135265, iid='0373652453', r_ui=4.0, est=7.826049346055027, details={'was_impossible': True, 'reason': 'User and item are unknown.'}),\n",
              " Prediction(uid=76499, iid='0813431158', r_ui=10.0, est=7.826049346055027, details={'was_impossible': True, 'reason': 'User and item are unknown.'}),\n",
              " Prediction(uid=11676, iid='044990587X', r_ui=8.0, est=3.03875874387755, details={'was_impossible': False}),\n",
              " Prediction(uid=36907, iid='0142000663', r_ui=10.0, est=9.813462779125542, details={'was_impossible': False}),\n",
              " Prediction(uid=123883, iid='0671722859', r_ui=5.0, est=3.1554248883647955, details={'was_impossible': False}),\n",
              " Prediction(uid=242409, iid='2266023039', r_ui=5.0, est=7.826049346055027, details={'was_impossible': True, 'reason': 'User and item are unknown.'}),\n",
              " Prediction(uid=156467, iid='0440214882', r_ui=10.0, est=7.826049346055027, details={'was_impossible': True, 'reason': 'User and item are unknown.'}),\n",
              " Prediction(uid=146348, iid='0446671193', r_ui=8.0, est=7.826049346055027, details={'was_impossible': True, 'reason': 'User and item are unknown.'}),\n",
              " Prediction(uid=158295, iid='0061098035', r_ui=7.0, est=5.304994571424025, details={'was_impossible': False}),\n",
              " Prediction(uid=14422, iid='0440217032', r_ui=8.0, est=5.61146172900056, details={'was_impossible': False}),\n",
              " Prediction(uid=122793, iid='0061030244', r_ui=6.0, est=4.7764424777253485, details={'was_impossible': False}),\n",
              " Prediction(uid=177458, iid='1887354271', r_ui=7.0, est=7.826049346055027, details={'was_impossible': True, 'reason': 'User and item are unknown.'}),\n",
              " Prediction(uid=98391, iid='157072248X', r_ui=9.0, est=7.826049346055027, details={'was_impossible': True, 'reason': 'User and item are unknown.'}),\n",
              " Prediction(uid=11676, iid='0451159594', r_ui=3.0, est=7.826049346055027, details={'was_impossible': True, 'reason': 'User and item are unknown.'}),\n",
              " Prediction(uid=76499, iid='0873385950', r_ui=10.0, est=7.826049346055027, details={'was_impossible': True, 'reason': 'User and item are unknown.'}),\n",
              " Prediction(uid=107784, iid='0679761837', r_ui=5.0, est=5.786909183019749, details={'was_impossible': False}),\n",
              " Prediction(uid=89602, iid='006051406X', r_ui=6.0, est=2.1194967357879264, details={'was_impossible': False}),\n",
              " Prediction(uid=258534, iid='0425182908', r_ui=10.0, est=3.0285211067788462, details={'was_impossible': False}),\n",
              " Prediction(uid=196160, iid='0140092323', r_ui=6.0, est=2.196545789574549, details={'was_impossible': False}),\n",
              " Prediction(uid=189334, iid='0762409363', r_ui=10.0, est=7.826049346055027, details={'was_impossible': True, 'reason': 'User and item are unknown.'}),\n",
              " Prediction(uid=229011, iid='0440213525', r_ui=6.0, est=7.142358022597274, details={'was_impossible': False}),\n",
              " Prediction(uid=174304, iid='006102001X', r_ui=8.0, est=7.826049346055027, details={'was_impossible': True, 'reason': 'User and item are unknown.'}),\n",
              " Prediction(uid=252820, iid='0425192938', r_ui=9.0, est=1.6895349895686913, details={'was_impossible': False}),\n",
              " Prediction(uid=107784, iid='042510687X', r_ui=5.0, est=4.8218371627606915, details={'was_impossible': False}),\n",
              " Prediction(uid=197659, iid='0920303331', r_ui=9.0, est=7.826049346055027, details={'was_impossible': True, 'reason': 'User and item are unknown.'}),\n",
              " Prediction(uid=200226, iid='0671606875', r_ui=7.0, est=7.826049346055027, details={'was_impossible': True, 'reason': 'User and item are unknown.'}),\n",
              " Prediction(uid=261829, iid='0373441495', r_ui=7.0, est=1.7317380385024967, details={'was_impossible': False}),\n",
              " Prediction(uid=236757, iid='0786860405', r_ui=7.0, est=7.826049346055027, details={'was_impossible': True, 'reason': 'User and item are unknown.'}),\n",
              " Prediction(uid=178522, iid='0060191821', r_ui=8.0, est=4.071389492677479, details={'was_impossible': False}),\n",
              " Prediction(uid=69078, iid='0684187205', r_ui=8.0, est=7.826049346055027, details={'was_impossible': True, 'reason': 'User and item are unknown.'}),\n",
              " Prediction(uid=40889, iid='0786817070', r_ui=8.0, est=6.484967805036582, details={'was_impossible': False}),\n",
              " Prediction(uid=11676, iid='3596215080', r_ui=9.0, est=7.826049346055027, details={'was_impossible': True, 'reason': 'User and item are unknown.'}),\n",
              " Prediction(uid=264031, iid='0316710571', r_ui=6.0, est=5.9743491565045455, details={'was_impossible': False}),\n",
              " Prediction(uid=217740, iid='8408020366', r_ui=9.0, est=7.826049346055027, details={'was_impossible': True, 'reason': 'User and item are unknown.'}),\n",
              " Prediction(uid=98391, iid='0743453956', r_ui=10.0, est=2.466118236648202, details={'was_impossible': False}),\n",
              " Prediction(uid=11676, iid='0064460606', r_ui=7.0, est=7.826049346055027, details={'was_impossible': True, 'reason': 'User and item are unknown.'}),\n",
              " Prediction(uid=235105, iid='0393319792', r_ui=10.0, est=7.826049346055027, details={'was_impossible': True, 'reason': 'User and item are unknown.'}),\n",
              " Prediction(uid=217740, iid='0671727796', r_ui=4.0, est=7.376540475455303, details={'was_impossible': False}),\n",
              " Prediction(uid=196160, iid='0886778786', r_ui=6.0, est=7.826049346055027, details={'was_impossible': True, 'reason': 'User and item are unknown.'}),\n",
              " Prediction(uid=248718, iid='0521276969', r_ui=5.0, est=7.826049346055027, details={'was_impossible': True, 'reason': 'User and item are unknown.'}),\n",
              " Prediction(uid=72352, iid='0843948787', r_ui=7.0, est=2.2898782412242933, details={'was_impossible': False}),\n",
              " Prediction(uid=98391, iid='1410401898', r_ui=10.0, est=7.826049346055027, details={'was_impossible': True, 'reason': 'User and item are unknown.'}),\n",
              " Prediction(uid=171118, iid='158080036X', r_ui=7.0, est=7.826049346055027, details={'was_impossible': True, 'reason': 'User and item are unknown.'}),\n",
              " Prediction(uid=76626, iid='0812931777', r_ui=9.0, est=7.826049346055027, details={'was_impossible': True, 'reason': 'User and item are unknown.'}),\n",
              " Prediction(uid=98391, iid='1590581016', r_ui=9.0, est=7.826049346055027, details={'was_impossible': True, 'reason': 'User and item are unknown.'}),\n",
              " Prediction(uid=249894, iid='0898151155', r_ui=7.0, est=7.826049346055027, details={'was_impossible': True, 'reason': 'User and item are unknown.'}),\n",
              " Prediction(uid=218608, iid='0883659409', r_ui=8.0, est=7.826049346055027, details={'was_impossible': True, 'reason': 'User and item are unknown.'}),\n",
              " Prediction(uid=261105, iid='883176778X', r_ui=10.0, est=7.826049346055027, details={'was_impossible': True, 'reason': 'User and item are unknown.'}),\n",
              " Prediction(uid=114368, iid='0312971125', r_ui=5.0, est=5.900215504082818, details={'was_impossible': False}),\n",
              " Prediction(uid=110973, iid='0743211383', r_ui=9.0, est=5.737008775801334, details={'was_impossible': False}),\n",
              " Prediction(uid=7346, iid='0380008971', r_ui=8.0, est=7.826049346055027, details={'was_impossible': True, 'reason': 'User and item are unknown.'}),\n",
              " Prediction(uid=98391, iid='1551668777', r_ui=8.0, est=4.773945748013294, details={'was_impossible': False}),\n",
              " Prediction(uid=15408, iid='0684846004', r_ui=6.0, est=7.826049346055027, details={'was_impossible': True, 'reason': 'User and item are unknown.'}),\n",
              " Prediction(uid=36554, iid='0394174372', r_ui=7.0, est=7.826049346055027, details={'was_impossible': True, 'reason': 'User and item are unknown.'}),\n",
              " Prediction(uid=98391, iid='0743245563', r_ui=9.0, est=5.916110578762142, details={'was_impossible': False}),\n",
              " Prediction(uid=55490, iid='0345337662', r_ui=7.0, est=7.805183624984776, details={'was_impossible': False}),\n",
              " Prediction(uid=75591, iid='0515090174', r_ui=8.0, est=4.5525023678891205, details={'was_impossible': False}),\n",
              " Prediction(uid=88733, iid='0062505173', r_ui=10.0, est=7.826049346055027, details={'was_impossible': True, 'reason': 'User and item are unknown.'}),\n",
              " Prediction(uid=171118, iid='0441003745', r_ui=8.0, est=7.523011522569886, details={'was_impossible': False}),\n",
              " Prediction(uid=93047, iid='0843927348', r_ui=6.0, est=7.826049346055027, details={'was_impossible': True, 'reason': 'User and item are unknown.'}),\n",
              " Prediction(uid=130571, iid='0312974922', r_ui=8.0, est=7.826049346055027, details={'was_impossible': True, 'reason': 'User and item are unknown.'}),\n",
              " Prediction(uid=163973, iid='0425174018', r_ui=7.0, est=4.03128407504185, details={'was_impossible': False}),\n",
              " Prediction(uid=16795, iid='1579543022', r_ui=4.0, est=7.826049346055027, details={'was_impossible': True, 'reason': 'User and item are unknown.'}),\n",
              " Prediction(uid=251843, iid='0451197399', r_ui=10.0, est=5.8528860474107045, details={'was_impossible': False}),\n",
              " Prediction(uid=240403, iid='0142301019', r_ui=8.0, est=7.826049346055027, details={'was_impossible': True, 'reason': 'User and item are unknown.'}),\n",
              " Prediction(uid=173415, iid='0312926146', r_ui=5.0, est=7.826049346055027, details={'was_impossible': True, 'reason': 'User and item are unknown.'}),\n",
              " Prediction(uid=30810, iid='0684195984', r_ui=10.0, est=2.9008954412296055, details={'was_impossible': False}),\n",
              " Prediction(uid=98391, iid='0060505737', r_ui=9.0, est=3.280893163414801, details={'was_impossible': False}),\n",
              " Prediction(uid=135149, iid='1551666936', r_ui=7.0, est=5.938261713721191, details={'was_impossible': False}),\n",
              " Prediction(uid=98391, iid='0312979541', r_ui=9.0, est=7.826049346055027, details={'was_impossible': True, 'reason': 'User and item are unknown.'}),\n",
              " Prediction(uid=149908, iid='006052510X', r_ui=8.0, est=7.826049346055027, details={'was_impossible': True, 'reason': 'User and item are unknown.'}),\n",
              " Prediction(uid=193560, iid='0417010508', r_ui=10.0, est=7.826049346055027, details={'was_impossible': True, 'reason': 'User and item are unknown.'}),\n",
              " Prediction(uid=266226, iid='0156001942', r_ui=9.0, est=7.826049346055027, details={'was_impossible': True, 'reason': 'User and item are unknown.'}),\n",
              " Prediction(uid=16795, iid='0312263937', r_ui=8.0, est=7.826049346055027, details={'was_impossible': True, 'reason': 'User and item are unknown.'}),\n",
              " Prediction(uid=98391, iid='0399147349', r_ui=9.0, est=7.826049346055027, details={'was_impossible': True, 'reason': 'User and item are unknown.'}),\n",
              " Prediction(uid=158295, iid='0440208459', r_ui=6.0, est=3.7200516324821606, details={'was_impossible': False}),\n",
              " Prediction(uid=98391, iid='0399149422', r_ui=9.0, est=3.734915332318628, details={'was_impossible': False}),\n",
              " Prediction(uid=25981, iid='0312971346', r_ui=10.0, est=7.669555863128465, details={'was_impossible': False}),\n",
              " Prediction(uid=123883, iid='0452281458', r_ui=5.0, est=4.293088288961708, details={'was_impossible': False}),\n",
              " Prediction(uid=88677, iid='0373708041', r_ui=7.0, est=1.0802208172484746, details={'was_impossible': False}),\n",
              " Prediction(uid=23902, iid='072060687X', r_ui=7.0, est=7.826049346055027, details={'was_impossible': True, 'reason': 'User and item are unknown.'}),\n",
              " Prediction(uid=11676, iid='0812571940', r_ui=1.0, est=7.826049346055027, details={'was_impossible': True, 'reason': 'User and item are unknown.'}),\n",
              " Prediction(uid=11676, iid='0380708213', r_ui=7.0, est=8.101891184333033, details={'was_impossible': False}),\n",
              " Prediction(uid=261105, iid='3608919694', r_ui=10.0, est=7.826049346055027, details={'was_impossible': True, 'reason': 'User and item are unknown.'}),\n",
              " Prediction(uid=11676, iid='0060086661', r_ui=5.0, est=7.826049346055027, details={'was_impossible': True, 'reason': 'User and item are unknown.'}),\n",
              " Prediction(uid=101606, iid='0312865104', r_ui=10.0, est=7.826049346055027, details={'was_impossible': True, 'reason': 'User and item are unknown.'}),\n",
              " Prediction(uid=109574, iid='0195199782', r_ui=8.0, est=7.826049346055027, details={'was_impossible': True, 'reason': 'User and item are unknown.'}),\n",
              " Prediction(uid=114868, iid='044809505X', r_ui=10.0, est=4.439113029197757, details={'was_impossible': False}),\n",
              " Prediction(uid=11676, iid='0553276484', r_ui=8.0, est=7.826049346055027, details={'was_impossible': True, 'reason': 'User and item are unknown.'}),\n",
              " Prediction(uid=37644, iid='0345368959', r_ui=9.0, est=7.826049346055027, details={'was_impossible': True, 'reason': 'User and item are unknown.'}),\n",
              " Prediction(uid=69697, iid='0373258798', r_ui=8.0, est=7.826049346055027, details={'was_impossible': True, 'reason': 'User and item are unknown.'}),\n",
              " Prediction(uid=35857, iid='0671004573', r_ui=5.0, est=6.243948121432353, details={'was_impossible': False}),\n",
              " Prediction(uid=231210, iid='0743247612', r_ui=7.0, est=3.4015553159336713, details={'was_impossible': False}),\n",
              " Prediction(uid=56959, iid='0671732498', r_ui=10.0, est=8.738775099090272, details={'was_impossible': False}),\n",
              " Prediction(uid=116599, iid='0064430170', r_ui=10.0, est=7.826049346055027, details={'was_impossible': True, 'reason': 'User and item are unknown.'}),\n",
              " Prediction(uid=11676, iid='0425186245', r_ui=7.0, est=7.826049346055027, details={'was_impossible': True, 'reason': 'User and item are unknown.'}),\n",
              " Prediction(uid=98391, iid='0778320626', r_ui=8.0, est=7.826049346055027, details={'was_impossible': True, 'reason': 'User and item are unknown.'}),\n",
              " Prediction(uid=229011, iid='0373834446', r_ui=9.0, est=5.437533737323828, details={'was_impossible': False}),\n",
              " Prediction(uid=11676, iid='0385493800', r_ui=8.0, est=5.043840906239829, details={'was_impossible': False}),\n",
              " Prediction(uid=185233, iid='0394805666', r_ui=5.0, est=7.826049346055027, details={'was_impossible': True, 'reason': 'User and item are unknown.'}),\n",
              " Prediction(uid=248718, iid='0886773490', r_ui=5.0, est=3.71914261177305, details={'was_impossible': False}),\n",
              " Prediction(uid=274301, iid='0340632410', r_ui=10.0, est=7.826049346055027, details={'was_impossible': True, 'reason': 'User and item are unknown.'}),\n",
              " Prediction(uid=110483, iid='0671878859', r_ui=10.0, est=7.826049346055027, details={'was_impossible': True, 'reason': 'User and item are unknown.'}),\n",
              " Prediction(uid=38273, iid='1884364411', r_ui=5.0, est=7.826049346055027, details={'was_impossible': True, 'reason': 'User and item are unknown.'}),\n",
              " Prediction(uid=177458, iid='0441385540', r_ui=7.0, est=7.826049346055027, details={'was_impossible': True, 'reason': 'User and item are unknown.'}),\n",
              " Prediction(uid=11676, iid='0515123447', r_ui=8.0, est=7.735692081539613, details={'was_impossible': False}),\n",
              " Prediction(uid=98391, iid='0553581031', r_ui=9.0, est=7.826049346055027, details={'was_impossible': True, 'reason': 'User and item are unknown.'}),\n",
              " Prediction(uid=11676, iid='0446325988', r_ui=4.0, est=7.826049346055027, details={'was_impossible': True, 'reason': 'User and item are unknown.'}),\n",
              " Prediction(uid=177072, iid='074324480X', r_ui=6.0, est=7.826049346055027, details={'was_impossible': True, 'reason': 'User and item are unknown.'}),\n",
              " Prediction(uid=11676, iid='0812540379', r_ui=4.0, est=7.826049346055027, details={'was_impossible': True, 'reason': 'User and item are unknown.'}),\n",
              " Prediction(uid=254465, iid='0449005836', r_ui=10.0, est=6.026726307564707, details={'was_impossible': False}),\n",
              " Prediction(uid=23872, iid='0803945418', r_ui=9.0, est=7.826049346055027, details={'was_impossible': True, 'reason': 'User and item are unknown.'}),\n",
              " Prediction(uid=102967, iid='0451139739', r_ui=6.0, est=3.0707637594089605, details={'was_impossible': False}),\n",
              " Prediction(uid=23872, iid='0060915188', r_ui=9.0, est=7.826049346055027, details={'was_impossible': True, 'reason': 'User and item are unknown.'}),\n",
              " Prediction(uid=30511, iid='0099286556', r_ui=7.0, est=7.826049346055027, details={'was_impossible': True, 'reason': 'User and item are unknown.'}),\n",
              " Prediction(uid=98391, iid='0765303604', r_ui=9.0, est=7.826049346055027, details={'was_impossible': True, 'reason': 'User and item are unknown.'}),\n",
              " Prediction(uid=219546, iid='0553273744', r_ui=6.0, est=7.826049346055027, details={'was_impossible': True, 'reason': 'User and item are unknown.'}),\n",
              " Prediction(uid=212965, iid='051512835X', r_ui=10.0, est=7.826049346055027, details={'was_impossible': True, 'reason': 'User and item are unknown.'}),\n",
              " Prediction(uid=251394, iid='0831709715', r_ui=7.0, est=7.826049346055027, details={'was_impossible': True, 'reason': 'User and item are unknown.'}),\n",
              " Prediction(uid=189835, iid='0381980170', r_ui=5.0, est=7.826049346055027, details={'was_impossible': True, 'reason': 'User and item are unknown.'}),\n",
              " Prediction(uid=95359, iid='0553245694', r_ui=8.0, est=5.013792897323841, details={'was_impossible': False}),\n",
              " Prediction(uid=98391, iid='0425194566', r_ui=9.0, est=7.826049346055027, details={'was_impossible': True, 'reason': 'User and item are unknown.'}),\n",
              " Prediction(uid=79441, iid='0871965275', r_ui=8.0, est=7.826049346055027, details={'was_impossible': True, 'reason': 'User and item are unknown.'}),\n",
              " Prediction(uid=98391, iid='0765303248', r_ui=9.0, est=7.826049346055027, details={'was_impossible': True, 'reason': 'User and item are unknown.'}),\n",
              " Prediction(uid=203240, iid='0525934960', r_ui=8.0, est=3.6099722307932907, details={'was_impossible': False}),\n",
              " Prediction(uid=98391, iid='0373291876', r_ui=9.0, est=7.826049346055027, details={'was_impossible': True, 'reason': 'User and item are unknown.'}),\n",
              " Prediction(uid=166596, iid='0805061088', r_ui=9.0, est=7.826049346055027, details={'was_impossible': True, 'reason': 'User and item are unknown.'}),\n",
              " Prediction(uid=185233, iid='0590679872', r_ui=5.0, est=7.826049346055027, details={'was_impossible': True, 'reason': 'User and item are unknown.'}),\n",
              " Prediction(uid=98391, iid='044101108X', r_ui=10.0, est=7.826049346055027, details={'was_impossible': True, 'reason': 'User and item are unknown.'}),\n",
              " Prediction(uid=142524, iid='0312119313', r_ui=6.0, est=7.826049346055027, details={'was_impossible': True, 'reason': 'User and item are unknown.'}),\n",
              " Prediction(uid=35859, iid='0399138315', r_ui=7.0, est=7.826049346055027, details={'was_impossible': True, 'reason': 'User and item are unknown.'}),\n",
              " Prediction(uid=98391, iid='0743222083', r_ui=8.0, est=7.826049346055027, details={'was_impossible': True, 'reason': 'User and item are unknown.'}),\n",
              " Prediction(uid=101209, iid='0789724073', r_ui=5.0, est=7.826049346055027, details={'was_impossible': True, 'reason': 'User and item are unknown.'}),\n",
              " Prediction(uid=264082, iid='038075889X', r_ui=8.0, est=7.826049346055027, details={'was_impossible': True, 'reason': 'User and item are unknown.'}),\n",
              " Prediction(uid=98391, iid='0440241227', r_ui=9.0, est=7.826049346055027, details={'was_impossible': True, 'reason': 'User and item are unknown.'}),\n",
              " Prediction(uid=11676, iid='0451523415', r_ui=10.0, est=7.174472885649972, details={'was_impossible': False}),\n",
              " Prediction(uid=185233, iid='0307117324', r_ui=5.0, est=7.826049346055027, details={'was_impossible': True, 'reason': 'User and item are unknown.'}),\n",
              " Prediction(uid=235105, iid='0805072233', r_ui=8.0, est=7.037661456475394, details={'was_impossible': False}),\n",
              " Prediction(uid=193898, iid='0553095161', r_ui=8.0, est=7.826049346055027, details={'was_impossible': True, 'reason': 'User and item are unknown.'}),\n",
              " Prediction(uid=219546, iid='0590453858', r_ui=7.0, est=7.826049346055027, details={'was_impossible': True, 'reason': 'User and item are unknown.'}),\n",
              " Prediction(uid=158433, iid='0380798360', r_ui=8.0, est=3.1452001963712637, details={'was_impossible': False}),\n",
              " Prediction(uid=38273, iid='0807508527', r_ui=10.0, est=2.485654032890538, details={'was_impossible': False}),\n",
              " Prediction(uid=164533, iid='006093042X', r_ui=5.0, est=7.826049346055027, details={'was_impossible': True, 'reason': 'User and item are unknown.'}),\n",
              " Prediction(uid=11676, iid='0060914351', r_ui=8.0, est=7.826049346055027, details={'was_impossible': True, 'reason': 'User and item are unknown.'}),\n",
              " Prediction(uid=129074, iid='0394718283', r_ui=8.0, est=7.826049346055027, details={'was_impossible': True, 'reason': 'User and item are unknown.'}),\n",
              " Prediction(uid=2276, iid='1559723009', r_ui=10.0, est=7.826049346055027, details={'was_impossible': True, 'reason': 'User and item are unknown.'}),\n",
              " Prediction(uid=258185, iid='0553142607', r_ui=10.0, est=1.4724429850696295, details={'was_impossible': False}),\n",
              " Prediction(uid=85526, iid='0877733759', r_ui=6.0, est=3.6354330590407318, details={'was_impossible': False}),\n",
              " Prediction(uid=112001, iid='0515120006', r_ui=10.0, est=7.387202812966816, details={'was_impossible': False}),\n",
              " Prediction(uid=51883, iid='0553443135', r_ui=10.0, est=7.826049346055027, details={'was_impossible': True, 'reason': 'User and item are unknown.'}),\n",
              " Prediction(uid=257204, iid='0671721224', r_ui=8.0, est=2.4298533080934455, details={'was_impossible': False}),\n",
              " Prediction(uid=23902, iid='061317495X', r_ui=9.0, est=7.826049346055027, details={'was_impossible': True, 'reason': 'User and item are unknown.'}),\n",
              " Prediction(uid=251844, iid='0451203046', r_ui=7.0, est=4.113573685512885, details={'was_impossible': False}),\n",
              " Prediction(uid=56399, iid='1568821158', r_ui=10.0, est=7.826049346055027, details={'was_impossible': True, 'reason': 'User and item are unknown.'}),\n",
              " Prediction(uid=23902, iid='1400034205', r_ui=7.0, est=7.826049346055027, details={'was_impossible': True, 'reason': 'User and item are unknown.'}),\n",
              " Prediction(uid=187145, iid='0345430565', r_ui=8.0, est=7.826049346055027, details={'was_impossible': True, 'reason': 'User and item are unknown.'}),\n",
              " Prediction(uid=98391, iid='0743233468', r_ui=9.0, est=1.8079518040060174, details={'was_impossible': False}),\n",
              " Prediction(uid=2276, iid='0756400147', r_ui=10.0, est=7.826049346055027, details={'was_impossible': True, 'reason': 'User and item are unknown.'}),\n",
              " Prediction(uid=51883, iid='0553240390', r_ui=10.0, est=7.826049346055027, details={'was_impossible': True, 'reason': 'User and item are unknown.'}),\n",
              " Prediction(uid=63714, iid='1857995953', r_ui=10.0, est=7.826049346055027, details={'was_impossible': True, 'reason': 'User and item are unknown.'}),\n",
              " Prediction(uid=6251, iid='0140067477', r_ui=10.0, est=3.640810716351355, details={'was_impossible': False}),\n",
              " Prediction(uid=258534, iid='0670835382', r_ui=9.0, est=7.434607514708428, details={'was_impossible': False}),\n",
              " Prediction(uid=153662, iid='0689823754', r_ui=9.0, est=7.826049346055027, details={'was_impossible': True, 'reason': 'User and item are unknown.'}),\n",
              " Prediction(uid=98391, iid='0440237467', r_ui=9.0, est=7.826049346055027, details={'was_impossible': True, 'reason': 'User and item are unknown.'}),\n",
              " Prediction(uid=189835, iid='0679601007', r_ui=5.0, est=7.826049346055027, details={'was_impossible': True, 'reason': 'User and item are unknown.'}),\n",
              " Prediction(uid=257204, iid='0345304225', r_ui=10.0, est=3.2961565279577885, details={'was_impossible': False}),\n",
              " Prediction(uid=53220, iid='0440236061', r_ui=9.0, est=5.828784908045183, details={'was_impossible': False}),\n",
              " Prediction(uid=11676, iid='3596247500', r_ui=5.0, est=1.0405983401863192, details={'was_impossible': False}),\n",
              " Prediction(uid=134434, iid='1573229571', r_ui=9.0, est=5.245395136847046, details={'was_impossible': False}),\n",
              " Prediction(uid=88283, iid='0140430016', r_ui=9.0, est=3.954479912027947, details={'was_impossible': False}),\n",
              " Prediction(uid=23902, iid='0889951640', r_ui=6.0, est=7.826049346055027, details={'was_impossible': True, 'reason': 'User and item are unknown.'}),\n",
              " Prediction(uid=145449, iid='1889758361', r_ui=10.0, est=7.826049346055027, details={'was_impossible': True, 'reason': 'User and item are unknown.'}),\n",
              " Prediction(uid=2276, iid='0805063897', r_ui=10.0, est=7.703087409959244, details={'was_impossible': False}),\n",
              " Prediction(uid=271448, iid='0316569321', r_ui=9.0, est=7.394372161013541, details={'was_impossible': False}),\n",
              " Prediction(uid=101851, iid='0517322455', r_ui=9.0, est=7.826049346055027, details={'was_impossible': True, 'reason': 'User and item are unknown.'}),\n",
              " Prediction(uid=270713, iid='0688158099', r_ui=9.0, est=7.826049346055027, details={'was_impossible': True, 'reason': 'User and item are unknown.'}),\n",
              " Prediction(uid=19085, iid='0446601241', r_ui=9.0, est=6.872888743676674, details={'was_impossible': False}),\n",
              " Prediction(uid=265115, iid='155874262X', r_ui=5.0, est=6.227302160824118, details={'was_impossible': False}),\n",
              " Prediction(uid=31826, iid='0060172940', r_ui=10.0, est=7.826049346055027, details={'was_impossible': True, 'reason': 'User and item are unknown.'}),\n",
              " Prediction(uid=11676, iid='037321801X', r_ui=5.0, est=3.7573245909364834, details={'was_impossible': False}),\n",
              " Prediction(uid=98391, iid='0345445775', r_ui=9.0, est=7.826049346055027, details={'was_impossible': True, 'reason': 'User and item are unknown.'}),\n",
              " Prediction(uid=98391, iid='0743488296', r_ui=9.0, est=7.826049346055027, details={'was_impossible': True, 'reason': 'User and item are unknown.'}),\n",
              " Prediction(uid=171118, iid='0811831388', r_ui=6.0, est=1, details={'was_impossible': False}),\n",
              " Prediction(uid=94853, iid='0751531480', r_ui=7.0, est=7.826049346055027, details={'was_impossible': True, 'reason': 'User and item are unknown.'}),\n",
              " Prediction(uid=107951, iid='3453126866', r_ui=5.0, est=7.826049346055027, details={'was_impossible': True, 'reason': 'User and item are unknown.'}),\n",
              " Prediction(uid=149907, iid='039457589X', r_ui=8.0, est=2.1601111798305217, details={'was_impossible': False}),\n",
              " Prediction(uid=26583, iid='0517534010', r_ui=10.0, est=7.826049346055027, details={'was_impossible': True, 'reason': 'User and item are unknown.'}),\n",
              " Prediction(uid=100459, iid='0915658178', r_ui=7.0, est=3.630533133519591, details={'was_impossible': False}),\n",
              " Prediction(uid=271705, iid='0595256368', r_ui=5.0, est=6.7791671318093965, details={'was_impossible': False}),\n",
              " Prediction(uid=98391, iid='0843953098', r_ui=5.0, est=7.826049346055027, details={'was_impossible': True, 'reason': 'User and item are unknown.'}),\n",
              " Prediction(uid=225087, iid='044651862X', r_ui=10.0, est=7.881283335610094, details={'was_impossible': False}),\n",
              " Prediction(uid=35859, iid='0312269706', r_ui=8.0, est=7.826049346055027, details={'was_impossible': True, 'reason': 'User and item are unknown.'}),\n",
              " Prediction(uid=55490, iid='0486282414', r_ui=8.0, est=1.497195003208363, details={'was_impossible': False}),\n",
              " Prediction(uid=122429, iid='0807070823', r_ui=7.0, est=7.826049346055027, details={'was_impossible': True, 'reason': 'User and item are unknown.'}),\n",
              " Prediction(uid=116599, iid='0446303682', r_ui=5.0, est=3.6832120420023817, details={'was_impossible': False}),\n",
              " Prediction(uid=115003, iid='0696012405', r_ui=9.0, est=7.826049346055027, details={'was_impossible': True, 'reason': 'User and item are unknown.'}),\n",
              " Prediction(uid=123883, iid='0671027522', r_ui=5.0, est=3.469994499970274, details={'was_impossible': False}),\n",
              " Prediction(uid=101209, iid='0373218397', r_ui=5.0, est=5.815462711966894, details={'was_impossible': False}),\n",
              " Prediction(uid=135149, iid='0345368959', r_ui=8.0, est=7.826049346055027, details={'was_impossible': True, 'reason': 'User and item are unknown.'}),\n",
              " Prediction(uid=223087, iid='0060192801', r_ui=4.0, est=7.826049346055027, details={'was_impossible': True, 'reason': 'User and item are unknown.'}),\n",
              " Prediction(uid=35859, iid='0671449028', r_ui=10.0, est=1.9043275409134888, details={'was_impossible': False}),\n",
              " Prediction(uid=189334, iid='1840810556', r_ui=9.0, est=1.949850045517567, details={'was_impossible': False}),\n",
              " Prediction(uid=197659, iid='0688081096', r_ui=7.0, est=7.826049346055027, details={'was_impossible': True, 'reason': 'User and item are unknown.'}),\n",
              " Prediction(uid=11676, iid='0060518286', r_ui=9.0, est=7.826049346055027, details={'was_impossible': True, 'reason': 'User and item are unknown.'}),\n",
              " Prediction(uid=93363, iid='0340786051', r_ui=9.0, est=7.826049346055027, details={'was_impossible': True, 'reason': 'User and item are unknown.'}),\n",
              " Prediction(uid=185384, iid='0711961972', r_ui=7.0, est=7.826049346055027, details={'was_impossible': True, 'reason': 'User and item are unknown.'}),\n",
              " Prediction(uid=92810, iid='0385504209', r_ui=9.0, est=7.267563089502989, details={'was_impossible': False}),\n",
              " Prediction(uid=60337, iid='0440340608', r_ui=9.0, est=7.826049346055027, details={'was_impossible': True, 'reason': 'User and item are unknown.'}),\n",
              " Prediction(uid=196502, iid='096535573X', r_ui=6.0, est=7.826049346055027, details={'was_impossible': True, 'reason': 'User and item are unknown.'}),\n",
              " Prediction(uid=189835, iid='1590071352', r_ui=5.0, est=7.826049346055027, details={'was_impossible': True, 'reason': 'User and item are unknown.'}),\n",
              " Prediction(uid=56399, iid='1855012499', r_ui=10.0, est=7.826049346055027, details={'was_impossible': True, 'reason': 'User and item are unknown.'}),\n",
              " Prediction(uid=242465, iid='0914918249', r_ui=10.0, est=1, details={'was_impossible': False}),\n",
              " Prediction(uid=199416, iid='0312860951', r_ui=5.0, est=1, details={'was_impossible': False}),\n",
              " Prediction(uid=123981, iid='0380805995', r_ui=8.0, est=4.432077082457923, details={'was_impossible': False}),\n",
              " Prediction(uid=138844, iid='1567189504', r_ui=8.0, est=2.557026162101654, details={'was_impossible': False}),\n",
              " Prediction(uid=39467, iid='0553293362', r_ui=9.0, est=5.264361213465039, details={'was_impossible': False}),\n",
              " Prediction(uid=98391, iid='0312878966', r_ui=9.0, est=7.826049346055027, details={'was_impossible': True, 'reason': 'User and item are unknown.'}),\n",
              " Prediction(uid=102647, iid='0515132268', r_ui=6.0, est=4.353380479723514, details={'was_impossible': False}),\n",
              " Prediction(uid=258534, iid='0757300243', r_ui=7.0, est=5.568331498457482, details={'was_impossible': False}),\n",
              " Prediction(uid=122429, iid='0860074382', r_ui=9.0, est=1.7720171042766082, details={'was_impossible': False}),\n",
              " Prediction(uid=72352, iid='0373160305', r_ui=6.0, est=1.9465326613121048, details={'was_impossible': False}),\n",
              " Prediction(uid=30735, iid='044050838X', r_ui=9.0, est=7.826049346055027, details={'was_impossible': True, 'reason': 'User and item are unknown.'}),\n",
              " Prediction(uid=225232, iid='0460871412', r_ui=7.0, est=7.826049346055027, details={'was_impossible': True, 'reason': 'User and item are unknown.'}),\n",
              " Prediction(uid=11993, iid='1558531211', r_ui=10.0, est=7.826049346055027, details={'was_impossible': True, 'reason': 'User and item are unknown.'}),\n",
              " Prediction(uid=127200, iid='0345356578', r_ui=6.0, est=3.9496110914786198, details={'was_impossible': False}),\n",
              " Prediction(uid=265115, iid='1556611536', r_ui=10.0, est=3.226307398555802, details={'was_impossible': False}),\n",
              " Prediction(uid=93047, iid='0312020309', r_ui=8.0, est=2.5463071304107983, details={'was_impossible': False}),\n",
              " Prediction(uid=98391, iid='0765300192', r_ui=9.0, est=7.826049346055027, details={'was_impossible': True, 'reason': 'User and item are unknown.'}),\n",
              " Prediction(uid=86189, iid='0449907481', r_ui=7.0, est=6.967180484662234, details={'was_impossible': False}),\n",
              " Prediction(uid=98391, iid='0373691556', r_ui=9.0, est=7.826049346055027, details={'was_impossible': True, 'reason': 'User and item are unknown.'}),\n",
              " Prediction(uid=225595, iid='0312952716', r_ui=10.0, est=3.4980603888103246, details={'was_impossible': False}),\n",
              " Prediction(uid=31826, iid='0875961835', r_ui=10.0, est=7.826049346055027, details={'was_impossible': True, 'reason': 'User and item are unknown.'}),\n",
              " Prediction(uid=14422, iid='0380802937', r_ui=8.0, est=2.5043149931702535, details={'was_impossible': False}),\n",
              " Prediction(uid=60244, iid='006058257X', r_ui=8.0, est=7.826049346055027, details={'was_impossible': True, 'reason': 'User and item are unknown.'}),\n",
              " Prediction(uid=201290, iid='0146000404', r_ui=6.0, est=7.826049346055027, details={'was_impossible': True, 'reason': 'User and item are unknown.'}),\n",
              " Prediction(uid=148199, iid='0060160101', r_ui=8.0, est=7.826049346055027, details={'was_impossible': True, 'reason': 'User and item are unknown.'}),\n",
              " Prediction(uid=113519, iid='0912365307', r_ui=8.0, est=2.8743328521110687, details={'was_impossible': False}),\n",
              " Prediction(uid=239584, iid='1896597238', r_ui=10.0, est=7.826049346055027, details={'was_impossible': True, 'reason': 'User and item are unknown.'}),\n",
              " Prediction(uid=26535, iid='0553563289', r_ui=5.0, est=1, details={'was_impossible': False}),\n",
              " Prediction(uid=169682, iid='0345442970', r_ui=8.0, est=7.826049346055027, details={'was_impossible': True, 'reason': 'User and item are unknown.'}),\n",
              " Prediction(uid=147847, iid='0373243391', r_ui=5.0, est=7.826049346055027, details={'was_impossible': True, 'reason': 'User and item are unknown.'}),\n",
              " Prediction(uid=164905, iid='0373030436', r_ui=5.0, est=7.826049346055027, details={'was_impossible': True, 'reason': 'User and item are unknown.'}),\n",
              " Prediction(uid=135149, iid='0394848373', r_ui=8.0, est=7.826049346055027, details={'was_impossible': True, 'reason': 'User and item are unknown.'}),\n",
              " Prediction(uid=83287, iid='1561705357', r_ui=10.0, est=7.826049346055027, details={'was_impossible': True, 'reason': 'User and item are unknown.'}),\n",
              " Prediction(uid=251394, iid='0679435212', r_ui=8.0, est=5.195853916844247, details={'was_impossible': False}),\n",
              " Prediction(uid=217106, iid='0679753249', r_ui=7.0, est=7.826049346055027, details={'was_impossible': True, 'reason': 'User and item are unknown.'}),\n",
              " Prediction(uid=241198, iid='3442720001', r_ui=7.0, est=7.826049346055027, details={'was_impossible': True, 'reason': 'User and item are unknown.'}),\n",
              " Prediction(uid=38023, iid='3522128001', r_ui=10.0, est=2.696475501835982, details={'was_impossible': False}),\n",
              " Prediction(uid=11676, iid='0345410998', r_ui=8.0, est=7.826049346055027, details={'was_impossible': True, 'reason': 'User and item are unknown.'}),\n",
              " Prediction(uid=63714, iid='0773484671', r_ui=10.0, est=7.826049346055027, details={'was_impossible': True, 'reason': 'User and item are unknown.'}),\n",
              " Prediction(uid=76626, iid='1843540088', r_ui=9.0, est=7.826049346055027, details={'was_impossible': True, 'reason': 'User and item are unknown.'}),\n",
              " Prediction(uid=98391, iid='0446613819', r_ui=8.0, est=7.826049346055027, details={'was_impossible': True, 'reason': 'User and item are unknown.'}),\n",
              " Prediction(uid=11676, iid='0312313810', r_ui=8.0, est=7.411817899140929, details={'was_impossible': False}),\n",
              " Prediction(uid=242465, iid='0304345350', r_ui=10.0, est=1, details={'was_impossible': False}),\n",
              " Prediction(uid=60244, iid='0374128715', r_ui=7.0, est=4.705262906819483, details={'was_impossible': False}),\n",
              " Prediction(uid=8681, iid='0375701079', r_ui=9.0, est=7.826049346055027, details={'was_impossible': True, 'reason': 'User and item are unknown.'}),\n",
              " Prediction(uid=23902, iid='0091793475', r_ui=8.0, est=7.826049346055027, details={'was_impossible': True, 'reason': 'User and item are unknown.'}),\n",
              " Prediction(uid=78973, iid='140004930X', r_ui=9.0, est=5.854225046558616, details={'was_impossible': False}),\n",
              " Prediction(uid=210485, iid='038531258X', r_ui=8.0, est=6.95488520182021, details={'was_impossible': False}),\n",
              " Prediction(uid=89602, iid='0345460952', r_ui=7.0, est=4.606032591410833, details={'was_impossible': False}),\n",
              " Prediction(uid=5582, iid='0385484011', r_ui=10.0, est=5.796445356909201, details={'was_impossible': False}),\n",
              " Prediction(uid=110973, iid='0385199570', r_ui=10.0, est=6.566267730855061, details={'was_impossible': False}),\n",
              " Prediction(uid=147847, iid='0380700972', r_ui=10.0, est=4.284079850901344, details={'was_impossible': False}),\n",
              " Prediction(uid=60337, iid='0323014828', r_ui=9.0, est=7.826049346055027, details={'was_impossible': True, 'reason': 'User and item are unknown.'}),\n",
              " Prediction(uid=225763, iid='0534129544', r_ui=5.0, est=7.826049346055027, details={'was_impossible': True, 'reason': 'User and item are unknown.'}),\n",
              " Prediction(uid=63714, iid='0752419927', r_ui=10.0, est=7.826049346055027, details={'was_impossible': True, 'reason': 'User and item are unknown.'}),\n",
              " Prediction(uid=240144, iid='0451194047', r_ui=10.0, est=7.826049346055027, details={'was_impossible': True, 'reason': 'User and item are unknown.'}),\n",
              " Prediction(uid=204864, iid='0060975504', r_ui=8.0, est=3.058507250412853, details={'was_impossible': False}),\n",
              " Prediction(uid=212965, iid='0380815419', r_ui=5.0, est=3.331467240619312, details={'was_impossible': False}),\n",
              " Prediction(uid=218608, iid='0140270590', r_ui=8.0, est=3.3203511514038895, details={'was_impossible': False}),\n",
              " Prediction(uid=68555, iid='0871239795', r_ui=8.0, est=2.365150456443438, details={'was_impossible': False}),\n",
              " Prediction(uid=48494, iid='0762407905', r_ui=10.0, est=7.826049346055027, details={'was_impossible': True, 'reason': 'User and item are unknown.'}),\n",
              " Prediction(uid=98391, iid='1890862355', r_ui=10.0, est=7.826049346055027, details={'was_impossible': True, 'reason': 'User and item are unknown.'}),\n",
              " Prediction(uid=185233, iid='006273248X', r_ui=5.0, est=7.826049346055027, details={'was_impossible': True, 'reason': 'User and item are unknown.'}),\n",
              " Prediction(uid=150979, iid='0671874330', r_ui=7.0, est=7.826049346055027, details={'was_impossible': True, 'reason': 'User and item are unknown.'}),\n",
              " Prediction(uid=94347, iid='0140093001', r_ui=6.0, est=7.826049346055027, details={'was_impossible': True, 'reason': 'User and item are unknown.'}),\n",
              " Prediction(uid=16795, iid='0895771462', r_ui=8.0, est=2.0391210031302993, details={'was_impossible': False}),\n",
              " Prediction(uid=222296, iid='0671899422', r_ui=7.0, est=7.826049346055027, details={'was_impossible': True, 'reason': 'User and item are unknown.'}),\n",
              " Prediction(uid=257204, iid='0886776988', r_ui=10.0, est=3.0996713939598672, details={'was_impossible': False}),\n",
              " Prediction(uid=210485, iid='0553251996', r_ui=9.0, est=3.4587534535519207, details={'was_impossible': False}),\n",
              " Prediction(uid=87555, iid='0198606362', r_ui=9.0, est=2.563132737543565, details={'was_impossible': False}),\n",
              " Prediction(uid=88733, iid='0440217520', r_ui=8.0, est=7.091101661531063, details={'was_impossible': False}),\n",
              " Prediction(uid=76499, iid='0413554805', r_ui=5.0, est=7.826049346055027, details={'was_impossible': True, 'reason': 'User and item are unknown.'}),\n",
              " Prediction(uid=235105, iid='0671737481', r_ui=6.0, est=7.826049346055027, details={'was_impossible': True, 'reason': 'User and item are unknown.'}),\n",
              " Prediction(uid=13552, iid='0440234743', r_ui=8.0, est=7.011100544121832, details={'was_impossible': False}),\n",
              " Prediction(uid=76223, iid='0786916060', r_ui=7.0, est=2.4468220977921398, details={'was_impossible': False}),\n",
              " Prediction(uid=173291, iid='0671872664', r_ui=8.0, est=7.826049346055027, details={'was_impossible': True, 'reason': 'User and item are unknown.'}),\n",
              " Prediction(uid=37950, iid='0812523016', r_ui=10.0, est=4.44480462982011, details={'was_impossible': False}),\n",
              " Prediction(uid=83287, iid='0553562754', r_ui=7.0, est=4.724833448308333, details={'was_impossible': False}),\n",
              " Prediction(uid=140358, iid='0842329242', r_ui=5.0, est=5.360729743256565, details={'was_impossible': False}),\n",
              " Prediction(uid=197659, iid='0517146487', r_ui=8.0, est=1, details={'was_impossible': False}),\n",
              " Prediction(uid=130571, iid='0749313250', r_ui=9.0, est=7.826049346055027, details={'was_impossible': True, 'reason': 'User and item are unknown.'}),\n",
              " Prediction(uid=114368, iid='0373791178', r_ui=5.0, est=2.482880870962624, details={'was_impossible': False}),\n",
              " Prediction(uid=236757, iid='0060930535', r_ui=8.0, est=4.778073053014664, details={'was_impossible': False}),\n",
              " Prediction(uid=98391, iid='0373791011', r_ui=9.0, est=4.552575066110305, details={'was_impossible': False}),\n",
              " Prediction(uid=76151, iid='0515112305', r_ui=2.0, est=5.324669627094337, details={'was_impossible': False}),\n",
              " Prediction(uid=126492, iid='055357230X', r_ui=7.0, est=6.339501336068723, details={'was_impossible': False}),\n",
              " Prediction(uid=162738, iid='0451200152', r_ui=8.0, est=6.950292341766158, details={'was_impossible': False}),\n",
              " Prediction(uid=236340, iid='174051114X', r_ui=10.0, est=7.826049346055027, details={'was_impossible': True, 'reason': 'User and item are unknown.'}),\n",
              " Prediction(uid=177072, iid='0425193993', r_ui=8.0, est=3.8790606585867717, details={'was_impossible': False}),\n",
              " Prediction(uid=242006, iid='0451201671', r_ui=8.0, est=7.826049346055027, details={'was_impossible': True, 'reason': 'User and item are unknown.'}),\n",
              " Prediction(uid=98391, iid='0553802518', r_ui=9.0, est=2.5180315574452674, details={'was_impossible': False}),\n",
              " Prediction(uid=146348, iid='089577335X', r_ui=8.0, est=7.826049346055027, details={'was_impossible': True, 'reason': 'User and item are unknown.'}),\n",
              " Prediction(uid=239594, iid='0446608386', r_ui=9.0, est=2.973683561373863, details={'was_impossible': False}),\n",
              " Prediction(uid=52199, iid='0553277391', r_ui=9.0, est=7.826049346055027, details={'was_impossible': True, 'reason': 'User and item are unknown.'}),\n",
              " Prediction(uid=100459, iid='0425158616', r_ui=7.0, est=8.647198627033477, details={'was_impossible': False}),\n",
              " Prediction(uid=244685, iid='0821773682', r_ui=9.0, est=4.45561185782679, details={'was_impossible': False}),\n",
              " Prediction(uid=189835, iid='0156002140', r_ui=5.0, est=7.826049346055027, details={'was_impossible': True, 'reason': 'User and item are unknown.'}),\n",
              " Prediction(uid=110912, iid='0060922532', r_ui=8.0, est=7.785332778103324, details={'was_impossible': False}),\n",
              " Prediction(uid=184532, iid='0736902120', r_ui=10.0, est=7.826049346055027, details={'was_impossible': True, 'reason': 'User and item are unknown.'}),\n",
              " Prediction(uid=113519, iid='096228341X', r_ui=8.0, est=7.826049346055027, details={'was_impossible': True, 'reason': 'User and item are unknown.'}),\n",
              " Prediction(uid=177072, iid='0312971400', r_ui=8.0, est=3.2521493725842974, details={'was_impossible': False}),\n",
              " Prediction(uid=11676, iid='0758204116', r_ui=8.0, est=7.826049346055027, details={'was_impossible': True, 'reason': 'User and item are unknown.'}),\n",
              " Prediction(uid=98391, iid='0425197492', r_ui=10.0, est=7.826049346055027, details={'was_impossible': True, 'reason': 'User and item are unknown.'}),\n",
              " Prediction(uid=234359, iid='0758204531', r_ui=7.0, est=5.0174852158124, details={'was_impossible': False}),\n",
              " Prediction(uid=185233, iid='0425141209', r_ui=5.0, est=7.826049346055027, details={'was_impossible': True, 'reason': 'User and item are unknown.'}),\n",
              " Prediction(uid=153662, iid='0373073135', r_ui=9.0, est=7.826049346055027, details={'was_impossible': True, 'reason': 'User and item are unknown.'}),\n",
              " Prediction(uid=26544, iid='0373484003', r_ui=8.0, est=7.0456697472380805, details={'was_impossible': False}),\n",
              " Prediction(uid=225763, iid='0060912154', r_ui=5.0, est=7.826049346055027, details={'was_impossible': True, 'reason': 'User and item are unknown.'}),\n",
              " Prediction(uid=105979, iid='0061097314', r_ui=7.0, est=5.65575649143654, details={'was_impossible': False}),\n",
              " Prediction(uid=76499, iid='0694004480', r_ui=10.0, est=7.826049346055027, details={'was_impossible': True, 'reason': 'User and item are unknown.'}),\n",
              " Prediction(uid=95932, iid='0345384466', r_ui=9.0, est=5.8855766990734795, details={'was_impossible': False}),\n",
              " Prediction(uid=174304, iid='0922915555', r_ui=6.0, est=2.630504018243576, details={'was_impossible': False}),\n",
              " Prediction(uid=227520, iid='0399147128', r_ui=9.0, est=6.778407376958842, details={'was_impossible': False}),\n",
              " Prediction(uid=95359, iid='0425129586', r_ui=10.0, est=5.213253047467275, details={'was_impossible': False}),\n",
              " Prediction(uid=56554, iid='074324642X', r_ui=9.0, est=7.839591223728296, details={'was_impossible': False}),\n",
              " Prediction(uid=207782, iid='0886776864', r_ui=8.0, est=3.6885547141451536, details={'was_impossible': False}),\n",
              " Prediction(uid=43246, iid='0201886685', r_ui=7.0, est=7.826049346055027, details={'was_impossible': True, 'reason': 'User and item are unknown.'}),\n",
              " Prediction(uid=11676, iid='0312925271', r_ui=9.0, est=7.826049346055027, details={'was_impossible': True, 'reason': 'User and item are unknown.'}),\n",
              " Prediction(uid=60707, iid='0345305183', r_ui=7.0, est=5.6269909414525525, details={'was_impossible': False}),\n",
              " Prediction(uid=245827, iid='014030925X', r_ui=5.0, est=7.826049346055027, details={'was_impossible': True, 'reason': 'User and item are unknown.'}),\n",
              " Prediction(uid=197659, iid='0679775226', r_ui=9.0, est=7.826049346055027, details={'was_impossible': True, 'reason': 'User and item are unknown.'}),\n",
              " Prediction(uid=153662, iid='0373073410', r_ui=9.0, est=7.826049346055027, details={'was_impossible': True, 'reason': 'User and item are unknown.'}),\n",
              " Prediction(uid=208406, iid='0380786680', r_ui=9.0, est=4.183215784280441, details={'was_impossible': False}),\n",
              " Prediction(uid=101851, iid='0517595338', r_ui=2.0, est=5.287090897534977, details={'was_impossible': False}),\n",
              " Prediction(uid=2110, iid='038513097x', r_ui=7.0, est=7.826049346055027, details={'was_impossible': True, 'reason': 'User and item are unknown.'}),\n",
              " Prediction(uid=168047, iid='1400052726', r_ui=9.0, est=7.826049346055027, details={'was_impossible': True, 'reason': 'User and item are unknown.'}),\n",
              " Prediction(uid=242409, iid='0684837285', r_ui=9.0, est=7.826049346055027, details={'was_impossible': True, 'reason': 'User and item are unknown.'}),\n",
              " Prediction(uid=56399, iid='011340557X', r_ui=10.0, est=7.826049346055027, details={'was_impossible': True, 'reason': 'User and item are unknown.'}),\n",
              " Prediction(uid=234359, iid='0452283906', r_ui=8.0, est=1.609050049923124, details={'was_impossible': False}),\n",
              " Prediction(uid=216683, iid='0460873911', r_ui=7.0, est=7.826049346055027, details={'was_impossible': True, 'reason': 'User and item are unknown.'}),\n",
              " Prediction(uid=55492, iid='0553569619', r_ui=3.0, est=6.950108735148477, details={'was_impossible': False}),\n",
              " Prediction(uid=222296, iid='0064408183', r_ui=6.0, est=1.3441597367722415, details={'was_impossible': False}),\n",
              " Prediction(uid=23902, iid='0156132672', r_ui=9.0, est=7.826049346055027, details={'was_impossible': True, 'reason': 'User and item are unknown.'}),\n",
              " Prediction(uid=11676, iid='0064408183', r_ui=5.0, est=3.091323002861042, details={'was_impossible': False}),\n",
              " Prediction(uid=193560, iid='0380759489', r_ui=8.0, est=4.574183906243952, details={'was_impossible': False}),\n",
              " Prediction(uid=182993, iid='0380709120', r_ui=10.0, est=4.2613582963211885, details={'was_impossible': False}),\n",
              " Prediction(uid=95359, iid='055323370X', r_ui=5.0, est=5.413959072520363, details={'was_impossible': False}),\n",
              " Prediction(uid=189139, iid='0445209798', r_ui=7.0, est=7.826049346055027, details={'was_impossible': True, 'reason': 'User and item are unknown.'}),\n",
              " Prediction(uid=130571, iid='0679436448', r_ui=9.0, est=3.4190704163225325, details={'was_impossible': False}),\n",
              " Prediction(uid=36299, iid='1592865089', r_ui=7.0, est=7.826049346055027, details={'was_impossible': True, 'reason': 'User and item are unknown.'}),\n",
              " Prediction(uid=197659, iid='0449909735', r_ui=8.0, est=5.414057029269376, details={'was_impossible': False}),\n",
              " Prediction(uid=199416, iid='044651747X', r_ui=7.0, est=3.731100255534021, details={'was_impossible': False}),\n",
              " Prediction(uid=15418, iid='0380715740', r_ui=9.0, est=7.826049346055027, details={'was_impossible': True, 'reason': 'User and item are unknown.'}),\n",
              " Prediction(uid=56959, iid='0064470482', r_ui=10.0, est=7.826049346055027, details={'was_impossible': True, 'reason': 'User and item are unknown.'}),\n",
              " Prediction(uid=12538, iid='0451410947', r_ui=7.0, est=4.791774341327076, details={'was_impossible': False}),\n",
              " Prediction(uid=153662, iid='0373030363', r_ui=10.0, est=7.826049346055027, details={'was_impossible': True, 'reason': 'User and item are unknown.'}),\n",
              " Prediction(uid=235105, iid='0743403444', r_ui=9.0, est=4.655312960335888, details={'was_impossible': False}),\n",
              " Prediction(uid=55490, iid='325770044X', r_ui=8.0, est=7.826049346055027, details={'was_impossible': True, 'reason': 'User and item are unknown.'}),\n",
              " Prediction(uid=234359, iid='0505523752', r_ui=5.0, est=6.1083419001173995, details={'was_impossible': False}),\n",
              " Prediction(uid=184299, iid='0446326798', r_ui=8.0, est=2.3013594109884226, details={'was_impossible': False}),\n",
              " Prediction(uid=148966, iid='0373227418', r_ui=6.0, est=7.826049346055027, details={'was_impossible': True, 'reason': 'User and item are unknown.'}),\n",
              " Prediction(uid=98391, iid='0451207599', r_ui=9.0, est=7.826049346055027, details={'was_impossible': True, 'reason': 'User and item are unknown.'}),\n",
              " Prediction(uid=114368, iid='0380709139', r_ui=5.0, est=5.061434315533862, details={'was_impossible': False}),\n",
              " Prediction(uid=275970, iid='0876145470', r_ui=10.0, est=7.826049346055027, details={'was_impossible': True, 'reason': 'User and item are unknown.'}),\n",
              " Prediction(uid=200226, iid='0670860794', r_ui=6.0, est=3.6186389134932226, details={'was_impossible': False}),\n",
              " Prediction(uid=104636, iid='0380718340', r_ui=8.0, est=7.613306775524748, details={'was_impossible': False}),\n",
              " Prediction(uid=101209, iid='0451190467', r_ui=8.0, est=3.2084236782222653, details={'was_impossible': False}),\n",
              " Prediction(uid=11676, iid='0930323998', r_ui=7.0, est=7.826049346055027, details={'was_impossible': True, 'reason': 'User and item are unknown.'}),\n",
              " Prediction(uid=248718, iid='070780289X', r_ui=10.0, est=7.826049346055027, details={'was_impossible': True, 'reason': 'User and item are unknown.'}),\n",
              " Prediction(uid=11676, iid='0553258028', r_ui=7.0, est=7.826049346055027, details={'was_impossible': True, 'reason': 'User and item are unknown.'}),\n",
              " Prediction(uid=177458, iid='0743448383', r_ui=7.0, est=7.826049346055027, details={'was_impossible': True, 'reason': 'User and item are unknown.'}),\n",
              " Prediction(uid=30276, iid='0373765037', r_ui=6.0, est=1.4025132104580411, details={'was_impossible': False}),\n",
              " Prediction(uid=81560, iid='0812548248', r_ui=8.0, est=7.826049346055027, details={'was_impossible': True, 'reason': 'User and item are unknown.'}),\n",
              " Prediction(uid=113270, iid='067978117X', r_ui=10.0, est=7.826049346055027, details={'was_impossible': True, 'reason': 'User and item are unknown.'}),\n",
              " Prediction(uid=107784, iid='0671003356', r_ui=5.0, est=4.277563972742804, details={'was_impossible': False}),\n",
              " Prediction(uid=2110, iid='0590629778', r_ui=10.0, est=7.826049346055027, details={'was_impossible': True, 'reason': 'User and item are unknown.'}),\n",
              " Prediction(uid=11676, iid='0767903579', r_ui=9.0, est=5.412922173930626, details={'was_impossible': False}),\n",
              " Prediction(uid=56399, iid='1904492118', r_ui=10.0, est=2.249271210558092, details={'was_impossible': False}),\n",
              " Prediction(uid=92652, iid='067083856X', r_ui=5.0, est=7.826049346055027, details={'was_impossible': True, 'reason': 'User and item are unknown.'}),\n",
              " Prediction(uid=95359, iid='0671511084', r_ui=7.0, est=7.826049346055027, details={'was_impossible': True, 'reason': 'User and item are unknown.'}),\n",
              " Prediction(uid=197659, iid='0812508688', r_ui=7.0, est=7.826049346055027, details={'was_impossible': True, 'reason': 'User and item are unknown.'}),\n",
              " Prediction(uid=30511, iid='0449912159', r_ui=6.0, est=7.826049346055027, details={'was_impossible': True, 'reason': 'User and item are unknown.'}),\n",
              " Prediction(uid=16795, iid='0151008116', r_ui=10.0, est=7.24645864795665, details={'was_impossible': False}),\n",
              " Prediction(uid=6575, iid='0385474547', r_ui=8.0, est=6.727091816840971, details={'was_impossible': False}),\n",
              " Prediction(uid=76626, iid='0345323750', r_ui=8.0, est=1, details={'was_impossible': False}),\n",
              " Prediction(uid=177432, iid='0553379267', r_ui=10.0, est=3.645954181597264, details={'was_impossible': False}),\n",
              " Prediction(uid=78973, iid='2800100133', r_ui=7.0, est=7.826049346055027, details={'was_impossible': True, 'reason': 'User and item are unknown.'}),\n",
              " Prediction(uid=235105, iid='0786869410', r_ui=7.0, est=7.826049346055027, details={'was_impossible': True, 'reason': 'User and item are unknown.'}),\n",
              " Prediction(uid=43246, iid='0684868911', r_ui=7.0, est=3.3136594387459932, details={'was_impossible': False}),\n",
              " Prediction(uid=30735, iid='0064408590', r_ui=10.0, est=7.826049346055027, details={'was_impossible': True, 'reason': 'User and item are unknown.'}),\n",
              " Prediction(uid=158226, iid='0521375924', r_ui=7.0, est=7.826049346055027, details={'was_impossible': True, 'reason': 'User and item are unknown.'}),\n",
              " Prediction(uid=194600, iid='0449222276', r_ui=8.0, est=3.5042125773622037, details={'was_impossible': False}),\n",
              " Prediction(uid=37950, iid='155054439X', r_ui=7.0, est=7.826049346055027, details={'was_impossible': True, 'reason': 'User and item are unknown.'}),\n",
              " Prediction(uid=254899, iid='189206555X', r_ui=4.0, est=7.826049346055027, details={'was_impossible': True, 'reason': 'User and item are unknown.'}),\n",
              " Prediction(uid=179718, iid='0451166582', r_ui=9.0, est=5.672713142057057, details={'was_impossible': False}),\n",
              " Prediction(uid=11676, iid='8483102307', r_ui=7.0, est=1.9249233189409491, details={'was_impossible': False}),\n",
              " Prediction(uid=132492, iid='3760712630', r_ui=10.0, est=7.826049346055027, details={'was_impossible': True, 'reason': 'User and item are unknown.'}),\n",
              " Prediction(uid=35859, iid='0316110876', r_ui=9.0, est=7.826049346055027, details={'was_impossible': True, 'reason': 'User and item are unknown.'}),\n",
              " Prediction(uid=31556, iid='1564586626', r_ui=8.0, est=7.826049346055027, details={'was_impossible': True, 'reason': 'User and item are unknown.'}),\n",
              " Prediction(uid=11676, iid='0451201159', r_ui=7.0, est=6.782718262432162, details={'was_impossible': False}),\n",
              " Prediction(uid=165758, iid='0425133516', r_ui=5.0, est=5.0058858995039675, details={'was_impossible': False}),\n",
              " Prediction(uid=211919, iid='0060256737', r_ui=10.0, est=6.689262030173011, details={'was_impossible': False}),\n",
              " Prediction(uid=88283, iid='0198320256', r_ui=9.0, est=7.826049346055027, details={'was_impossible': True, 'reason': 'User and item are unknown.'}),\n",
              " Prediction(uid=95359, iid='0060099453', r_ui=7.0, est=7.087467331258495, details={'was_impossible': False}),\n",
              " Prediction(uid=240568, iid='0671867172', r_ui=6.0, est=4.997217028454926, details={'was_impossible': False}),\n",
              " Prediction(uid=11676, iid='0316898163', r_ui=6.0, est=4.995546145558694, details={'was_impossible': False}),\n",
              " Prediction(uid=102702, iid='0312979681', r_ui=10.0, est=6.695714731127823, details={'was_impossible': False}),\n",
              " Prediction(uid=153662, iid='0451404327', r_ui=9.0, est=6.503512069816004, details={'was_impossible': False}),\n",
              " Prediction(uid=11676, iid='0671027387', r_ui=10.0, est=4.842257042695792, details={'was_impossible': False}),\n",
              " Prediction(uid=87141, iid='0812500385', r_ui=7.0, est=7.826049346055027, details={'was_impossible': True, 'reason': 'User and item are unknown.'}),\n",
              " Prediction(uid=15408, iid='014230199X', r_ui=7.0, est=7.826049346055027, details={'was_impossible': True, 'reason': 'User and item are unknown.'}),\n",
              " Prediction(uid=76151, iid='0671737791', r_ui=10.0, est=4.669776286609893, details={'was_impossible': False}),\n",
              " Prediction(uid=270713, iid='0316136778', r_ui=6.0, est=7.826049346055027, details={'was_impossible': True, 'reason': 'User and item are unknown.'}),\n",
              " Prediction(uid=60244, iid='0375758992', r_ui=8.0, est=4.8778680855641205, details={'was_impossible': False}),\n",
              " Prediction(uid=11676, iid='0425192032', r_ui=8.0, est=2.603686512087137, details={'was_impossible': False}),\n",
              " Prediction(uid=114868, iid='0743240855', r_ui=7.0, est=7.826049346055027, details={'was_impossible': True, 'reason': 'User and item are unknown.'}),\n",
              " Prediction(uid=87141, iid='0596001304', r_ui=8.0, est=7.826049346055027, details={'was_impossible': True, 'reason': 'User and item are unknown.'}),\n",
              " Prediction(uid=235105, iid='0399149279', r_ui=8.0, est=6.011842137979169, details={'was_impossible': False}),\n",
              " Prediction(uid=68555, iid='0871233428', r_ui=8.0, est=5.642554749134975, details={'was_impossible': False}),\n",
              " Prediction(uid=65258, iid='0345336615', r_ui=8.0, est=3.77685597713081, details={'was_impossible': False}),\n",
              " Prediction(uid=107784, iid='0373031955', r_ui=5.0, est=1, details={'was_impossible': False}),\n",
              " Prediction(uid=199416, iid='0684801663', r_ui=5.0, est=2.83124572930146, details={'was_impossible': False}),\n",
              " Prediction(uid=97874, iid='0738205087', r_ui=1.0, est=7.826049346055027, details={'was_impossible': True, 'reason': 'User and item are unknown.'}),\n",
              " Prediction(uid=156467, iid='1551666103', r_ui=10.0, est=7.234051616226426, details={'was_impossible': False}),\n",
              " Prediction(uid=67840, iid='0380973650', r_ui=5.0, est=4.268208230733894, details={'was_impossible': False}),\n",
              " Prediction(uid=197659, iid='006018552X', r_ui=9.0, est=1.411918335772499, details={'was_impossible': False}),\n",
              " Prediction(uid=194600, iid='0312156375', r_ui=8.0, est=7.826049346055027, details={'was_impossible': True, 'reason': 'User and item are unknown.'}),\n",
              " Prediction(uid=135265, iid='0373169213', r_ui=7.0, est=7.826049346055027, details={'was_impossible': True, 'reason': 'User and item are unknown.'}),\n",
              " Prediction(uid=211919, iid='0786880449', r_ui=7.0, est=7.826049346055027, details={'was_impossible': True, 'reason': 'User and item are unknown.'}),\n",
              " Prediction(uid=264321, iid='0743462939', r_ui=6.0, est=7.826049346055027, details={'was_impossible': True, 'reason': 'User and item are unknown.'}),\n",
              " Prediction(uid=76499, iid='0679723439', r_ui=10.0, est=4.753850131672687, details={'was_impossible': False}),\n",
              " Prediction(uid=255489, iid='034538475X', r_ui=6.0, est=6.73307774237217, details={'was_impossible': False}),\n",
              " Prediction(uid=235282, iid='0525939210', r_ui=10.0, est=7.2098109140325946, details={'was_impossible': False}),\n",
              " Prediction(uid=78553, iid='0440209633', r_ui=9.0, est=4.890904711099192, details={'was_impossible': False}),\n",
              " Prediction(uid=95902, iid='8433905538', r_ui=5.0, est=7.826049346055027, details={'was_impossible': True, 'reason': 'User and item are unknown.'}),\n",
              " Prediction(uid=109955, iid='0747273669', r_ui=10.0, est=7.826049346055027, details={'was_impossible': True, 'reason': 'User and item are unknown.'}),\n",
              " Prediction(uid=11676, iid='0380800802', r_ui=7.0, est=2.765939909072005, details={'was_impossible': False}),\n",
              " Prediction(uid=271448, iid='0312283709', r_ui=9.0, est=4.3021067962819926, details={'was_impossible': False}),\n",
              " Prediction(uid=16795, iid='0517577550', r_ui=8.0, est=6.586815369353279, details={'was_impossible': False}),\n",
              " Prediction(uid=254206, iid='0425083837', r_ui=10.0, est=5.8098747514658, details={'was_impossible': False}),\n",
              " Prediction(uid=245827, iid='0696015005', r_ui=9.0, est=7.826049346055027, details={'was_impossible': True, 'reason': 'User and item are unknown.'}),\n",
              " Prediction(uid=98391, iid='0786241756', r_ui=8.0, est=7.826049346055027, details={'was_impossible': True, 'reason': 'User and item are unknown.'}),\n",
              " Prediction(uid=48494, iid='0312991428', r_ui=10.0, est=7.826049346055027, details={'was_impossible': True, 'reason': 'User and item are unknown.'}),\n",
              " Prediction(uid=128835, iid='0553285343', r_ui=7.0, est=2.5791581208924668, details={'was_impossible': False}),\n",
              " Prediction(uid=28591, iid='0373618891', r_ui=7.0, est=7.826049346055027, details={'was_impossible': True, 'reason': 'User and item are unknown.'}),\n",
              " Prediction(uid=209516, iid='9608596416', r_ui=10.0, est=7.826049346055027, details={'was_impossible': True, 'reason': 'User and item are unknown.'}),\n",
              " Prediction(uid=16795, iid='0590251600', r_ui=7.0, est=1.4169701604993505, details={'was_impossible': False}),\n",
              " Prediction(uid=177458, iid='0452279755', r_ui=7.0, est=1, details={'was_impossible': False}),\n",
              " Prediction(uid=248718, iid='0765342987', r_ui=9.0, est=2.590759927466391, details={'was_impossible': False}),\n",
              " Prediction(uid=217106, iid='0809237326', r_ui=8.0, est=7.826049346055027, details={'was_impossible': True, 'reason': 'User and item are unknown.'}),\n",
              " Prediction(uid=88733, iid='0446360589', r_ui=8.0, est=5.6032942594382735, details={'was_impossible': False}),\n",
              " Prediction(uid=60337, iid='0679429220', r_ui=9.0, est=5.5011458274690765, details={'was_impossible': False}),\n",
              " Prediction(uid=257204, iid='0812513754', r_ui=9.0, est=1.3476886032144633, details={'was_impossible': False}),\n",
              " Prediction(uid=216444, iid='0140039996', r_ui=10.0, est=7.826049346055027, details={'was_impossible': True, 'reason': 'User and item are unknown.'}),\n",
              " Prediction(uid=88693, iid='0312282990', r_ui=9.0, est=8.709573622552423, details={'was_impossible': False}),\n",
              " Prediction(uid=11676, iid='0590767836', r_ui=10.0, est=5.951853613571241, details={'was_impossible': False}),\n",
              " Prediction(uid=36606, iid='0671016784', r_ui=5.0, est=2.2776302189713546, details={'was_impossible': False}),\n",
              " Prediction(uid=242083, iid='1558747028', r_ui=6.0, est=5.862061843869267, details={'was_impossible': False}),\n",
              " Prediction(uid=264031, iid='0060987561', r_ui=10.0, est=9.900390002760622, details={'was_impossible': False}),\n",
              " Prediction(uid=56959, iid='0553261096', r_ui=8.0, est=3.8632802271590823, details={'was_impossible': False}),\n",
              " Prediction(uid=148258, iid='0304358738', r_ui=10.0, est=7.826049346055027, details={'was_impossible': True, 'reason': 'User and item are unknown.'}),\n",
              " Prediction(uid=32773, iid='0671041460', r_ui=7.0, est=7.826049346055027, details={'was_impossible': True, 'reason': 'User and item are unknown.'}),\n",
              " Prediction(uid=98391, iid='0765300249', r_ui=9.0, est=7.826049346055027, details={'was_impossible': True, 'reason': 'User and item are unknown.'}),\n",
              " Prediction(uid=94242, iid='1593840349', r_ui=8.0, est=7.826049346055027, details={'was_impossible': True, 'reason': 'User and item are unknown.'}),\n",
              " Prediction(uid=197659, iid='1564581683', r_ui=7.0, est=7.826049346055027, details={'was_impossible': True, 'reason': 'User and item are unknown.'}),\n",
              " Prediction(uid=95359, iid='0451159594', r_ui=7.0, est=7.826049346055027, details={'was_impossible': True, 'reason': 'User and item are unknown.'}),\n",
              " Prediction(uid=49144, iid='8401323096', r_ui=5.0, est=7.826049346055027, details={'was_impossible': True, 'reason': 'User and item are unknown.'}),\n",
              " Prediction(uid=166123, iid='0671047884', r_ui=8.0, est=1.9187292039922201, details={'was_impossible': False}),\n",
              " Prediction(uid=48025, iid='0671898493', r_ui=7.0, est=6.482668854275553, details={'was_impossible': False}),\n",
              " Prediction(uid=87141, iid='0873378504', r_ui=8.0, est=7.826049346055027, details={'was_impossible': True, 'reason': 'User and item are unknown.'}),\n",
              " Prediction(uid=217106, iid='0316843369', r_ui=6.0, est=7.826049346055027, details={'was_impossible': True, 'reason': 'User and item are unknown.'}),\n",
              " Prediction(uid=248718, iid='0809076055', r_ui=5.0, est=7.826049346055027, details={'was_impossible': True, 'reason': 'User and item are unknown.'}),\n",
              " Prediction(uid=56399, iid='0441805957', r_ui=10.0, est=7.826049346055027, details={'was_impossible': True, 'reason': 'User and item are unknown.'}),\n",
              " Prediction(uid=196502, iid='0446675628', r_ui=8.0, est=3.9380556028925904, details={'was_impossible': False}),\n",
              " Prediction(uid=12982, iid='1892603004', r_ui=7.0, est=7.826049346055027, details={'was_impossible': True, 'reason': 'User and item are unknown.'}),\n",
              " Prediction(uid=11676, iid='0380780070', r_ui=6.0, est=7.826049346055027, details={'was_impossible': True, 'reason': 'User and item are unknown.'}),\n",
              " Prediction(uid=240403, iid='1556618662', r_ui=6.0, est=7.826049346055027, details={'was_impossible': True, 'reason': 'User and item are unknown.'}),\n",
              " Prediction(uid=235105, iid='044021680X', r_ui=7.0, est=1, details={'was_impossible': False}),\n",
              " Prediction(uid=242006, iid='0671723421', r_ui=8.0, est=5.672264341932967, details={'was_impossible': False}),\n",
              " Prediction(uid=98391, iid='0553580922', r_ui=10.0, est=7.826049346055027, details={'was_impossible': True, 'reason': 'User and item are unknown.'}),\n",
              " Prediction(uid=164323, iid='0345342569', r_ui=9.0, est=5.838520076119334, details={'was_impossible': False}),\n",
              " Prediction(uid=40889, iid='0736909672', r_ui=10.0, est=7.826049346055027, details={'was_impossible': True, 'reason': 'User and item are unknown.'}),\n",
              " Prediction(uid=11676, iid='0446522740', r_ui=9.0, est=7.826049346055027, details={'was_impossible': True, 'reason': 'User and item are unknown.'}),\n",
              " Prediction(uid=7346, iid='0671438190', r_ui=9.0, est=7.826049346055027, details={'was_impossible': True, 'reason': 'User and item are unknown.'}),\n",
              " Prediction(uid=162639, iid='0684859726', r_ui=9.0, est=6.052722600274281, details={'was_impossible': False}),\n",
              " Prediction(uid=128835, iid='0394800184', r_ui=10.0, est=4.390454037483327, details={'was_impossible': False}),\n",
              " Prediction(uid=236757, iid='0380724596', r_ui=7.0, est=3.4743289861064532, details={'was_impossible': False}),\n",
              " Prediction(uid=132492, iid='3257229909', r_ui=10.0, est=1, details={'was_impossible': False}),\n",
              " Prediction(uid=177458, iid='156402976X', r_ui=9.0, est=4.228627983730462, details={'was_impossible': False}),\n",
              " Prediction(uid=170634, iid='0394502000', r_ui=6.0, est=7.826049346055027, details={'was_impossible': True, 'reason': 'User and item are unknown.'}),\n",
              " Prediction(uid=113270, iid='0060915544', r_ui=10.0, est=8.199476450414924, details={'was_impossible': False}),\n",
              " Prediction(uid=11676, iid='0061010871', r_ui=9.0, est=3.9328383773083404, details={'was_impossible': False}),\n",
              " Prediction(uid=250709, iid='0425177351', r_ui=5.0, est=1, details={'was_impossible': False}),\n",
              " Prediction(uid=245827, iid='0345425308', r_ui=5.0, est=1.1298053912776942, details={'was_impossible': False}),\n",
              " Prediction(uid=98391, iid='0441009360', r_ui=9.0, est=3.6242427424982435, details={'was_impossible': False}),\n",
              " Prediction(uid=206534, iid='0836220676', r_ui=8.0, est=5.2000134348874365, details={'was_impossible': False}),\n",
              " Prediction(uid=257204, iid='0345300793', r_ui=10.0, est=7.826049346055027, details={'was_impossible': True, 'reason': 'User and item are unknown.'}),\n",
              " Prediction(uid=11676, iid='0345352661', r_ui=7.0, est=2.469889583044516, details={'was_impossible': False}),\n",
              " Prediction(uid=56399, iid='0713727004', r_ui=10.0, est=7.826049346055027, details={'was_impossible': True, 'reason': 'User and item are unknown.'}),\n",
              " Prediction(uid=6575, iid='0312265867', r_ui=9.0, est=7.194559054241336, details={'was_impossible': False}),\n",
              " Prediction(uid=88677, iid='0380790386', r_ui=7.0, est=7.826049346055027, details={'was_impossible': True, 'reason': 'User and item are unknown.'}),\n",
              " Prediction(uid=130571, iid='0684848783', r_ui=7.0, est=7.8390190825592905, details={'was_impossible': False}),\n",
              " Prediction(uid=76626, iid='034023301X', r_ui=8.0, est=7.826049346055027, details={'was_impossible': True, 'reason': 'User and item are unknown.'}),\n",
              " Prediction(uid=240567, iid='0385504209', r_ui=10.0, est=8.439460116586776, details={'was_impossible': False}),\n",
              " Prediction(uid=208406, iid='0871316528', r_ui=8.0, est=7.826049346055027, details={'was_impossible': True, 'reason': 'User and item are unknown.'}),\n",
              " Prediction(uid=75591, iid='0743405978', r_ui=8.0, est=3.8827703358954087, details={'was_impossible': False}),\n",
              " Prediction(uid=11676, iid='0571169341', r_ui=7.0, est=7.826049346055027, details={'was_impossible': True, 'reason': 'User and item are unknown.'}),\n",
              " Prediction(uid=148744, iid='0380727293', r_ui=8.0, est=6.098861161690422, details={'was_impossible': False}),\n",
              " Prediction(uid=55490, iid='0521794803', r_ui=10.0, est=7.826049346055027, details={'was_impossible': True, 'reason': 'User and item are unknown.'}),\n",
              " Prediction(uid=78973, iid='0684810395', r_ui=8.0, est=4.331686051423016, details={'was_impossible': False}),\n",
              " Prediction(uid=236283, iid='0887331491', r_ui=6.0, est=7.826049346055027, details={'was_impossible': True, 'reason': 'User and item are unknown.'}),\n",
              " Prediction(uid=135149, iid='0671786113', r_ui=7.0, est=7.826049346055027, details={'was_impossible': True, 'reason': 'User and item are unknown.'}),\n",
              " Prediction(uid=264031, iid='0446360716', r_ui=8.0, est=3.0981639789855073, details={'was_impossible': False}),\n",
              " Prediction(uid=130571, iid='0871138018', r_ui=9.0, est=7.826049346055027, details={'was_impossible': True, 'reason': 'User and item are unknown.'}),\n",
              " Prediction(uid=40889, iid='0515126772', r_ui=10.0, est=7.539243778601925, details={'was_impossible': False}),\n",
              " Prediction(uid=182085, iid='0843944374', r_ui=9.0, est=2.792305395116551, details={'was_impossible': False}),\n",
              " ...]"
            ]
          },
          "metadata": {
            "tags": []
          },
          "execution_count": 233
        }
      ]
    },
    {
      "cell_type": "markdown",
      "metadata": {
        "id": "suLvEjzVuIvR"
      },
      "source": [
        "# Q7. Create a function to generate `n` recommendations for user `x`. (n, x should be parameterized)"
      ]
    },
    {
      "cell_type": "code",
      "metadata": {
        "id": "NrhltJIX8rsF"
      },
      "source": [
        "from collections import defaultdict\r\n",
        "\r\n",
        "def get_top_n_user(predictions,user_ID,n=10):\r\n",
        "    # First map the predictions to each user.\r\n",
        "    top_n = defaultdict(list)\r\n",
        "    for uid, iid, true_r, est, _ in predictions:\r\n",
        "        top_n[uid].append((iid, est))\r\n",
        "\r\n",
        "    # Then sort the predictions for each user and retrieve the k highest ones.\r\n",
        "    for uid, user_ratings in top_n.items():\r\n",
        "        user_ratings.sort(key=lambda x: x[1], reverse=True)\r\n",
        "        top_n[uid] = user_ratings[:n]\r\n",
        "\r\n",
        "    return top_n[user_ID]\r\n"
      ],
      "execution_count": 234,
      "outputs": []
    },
    {
      "cell_type": "code",
      "metadata": {
        "colab": {
          "base_uri": "https://localhost:8080/"
        },
        "id": "Bypj10OT8rvY",
        "outputId": "9cef6af6-a367-4bd2-9f9e-30a0fc237b9b"
      },
      "source": [
        "get_top_n_user(test_pred,153662,15)\r\n"
      ],
      "execution_count": 235,
      "outputs": [
        {
          "output_type": "execute_result",
          "data": {
            "text/plain": [
              "[('0515119482', 9.935266684590923),\n",
              " ('0515130389', 9.579811521392834),\n",
              " ('067187098X', 9.096627086530441),\n",
              " ('0671003348', 8.98023942886207),\n",
              " ('0823401898', 8.837478810150047),\n",
              " ('0380978555', 8.733441746043013),\n",
              " ('0515116750', 8.678620383437545),\n",
              " ('0671742558', 8.607964062881617),\n",
              " ('0515114693', 8.51299357081681),\n",
              " ('0515124214', 8.334566305819239),\n",
              " ('0451406141', 8.330370360413148),\n",
              " ('0920668372', 8.299874084290996),\n",
              " ('0140374248', 8.199526859733155),\n",
              " ('0380756269', 8.126259709148727),\n",
              " ('0553293257', 8.018058518189818)]"
            ]
          },
          "metadata": {
            "tags": []
          },
          "execution_count": 235
        }
      ]
    },
    {
      "cell_type": "code",
      "metadata": {
        "id": "KTPyah6QuyS8",
        "colab": {
          "base_uri": "https://localhost:8080/",
          "height": 80
        },
        "outputId": "80627500-111d-4752-f6b0-f685bd2f0dca"
      },
      "source": [
        "books[books['ISBN']=='0553293257']"
      ],
      "execution_count": 236,
      "outputs": [
        {
          "output_type": "execute_result",
          "data": {
            "text/html": [
              "<div>\n",
              "<style scoped>\n",
              "    .dataframe tbody tr th:only-of-type {\n",
              "        vertical-align: middle;\n",
              "    }\n",
              "\n",
              "    .dataframe tbody tr th {\n",
              "        vertical-align: top;\n",
              "    }\n",
              "\n",
              "    .dataframe thead th {\n",
              "        text-align: right;\n",
              "    }\n",
              "</style>\n",
              "<table border=\"1\" class=\"dataframe\">\n",
              "  <thead>\n",
              "    <tr style=\"text-align: right;\">\n",
              "      <th></th>\n",
              "      <th>ISBN</th>\n",
              "      <th>bookTitle</th>\n",
              "      <th>bookAuthor</th>\n",
              "      <th>yearOfPublication</th>\n",
              "      <th>publisher</th>\n",
              "    </tr>\n",
              "  </thead>\n",
              "  <tbody>\n",
              "    <tr>\n",
              "      <th>25589</th>\n",
              "      <td>0553293257</td>\n",
              "      <td>Rendezvous</td>\n",
              "      <td>Amanda Quick</td>\n",
              "      <td>1991</td>\n",
              "      <td>Bantam</td>\n",
              "    </tr>\n",
              "  </tbody>\n",
              "</table>\n",
              "</div>"
            ],
            "text/plain": [
              "             ISBN   bookTitle    bookAuthor yearOfPublication publisher\n",
              "25589  0553293257  Rendezvous  Amanda Quick              1991    Bantam"
            ]
          },
          "metadata": {
            "tags": []
          },
          "execution_count": 236
        }
      ]
    },
    {
      "cell_type": "code",
      "metadata": {
        "id": "ApHdLb3QEscc"
      },
      "source": [
        ""
      ],
      "execution_count": null,
      "outputs": []
    }
  ]
}