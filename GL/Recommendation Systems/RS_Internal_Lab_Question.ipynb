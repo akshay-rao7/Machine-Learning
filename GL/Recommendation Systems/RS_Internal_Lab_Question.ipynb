{
  "nbformat": 4,
  "nbformat_minor": 0,
  "metadata": {
    "colab": {
      "name": "RS_Internal_Lab_Question.ipynb",
      "provenance": [],
      "collapsed_sections": [],
      "toc_visible": true
    },
    "kernelspec": {
      "name": "python3",
      "display_name": "Python 3"
    }
  },
  "cells": [
    {
      "cell_type": "markdown",
      "metadata": {
        "id": "yp7vZ3fqcDmU"
      },
      "source": [
        "#1. Popularity Based Recommendation System"
      ]
    },
    {
      "cell_type": "markdown",
      "metadata": {
        "id": "-1aHQkiucWiV"
      },
      "source": [
        "## About the Dataset (jokes.csv)\n",
        "\n",
        "\n",
        "\n",
        " \n",
        "1. Ratings are real values ranging from -10.00 to +10.00 (the value \"99\" corresponds to \"null\" = \"not rated\").\n",
        "  \n",
        "2. One row per user\n",
        "3. The first column gives the number of jokes rated by that user. The next 100 columns give the ratings for jokes 01 - 100.\n",
        "\n"
      ]
    },
    {
      "cell_type": "markdown",
      "metadata": {
        "id": "tQ-vZ1i8dWDj"
      },
      "source": [
        "### Q1. Read the data (jokes.csv)"
      ]
    },
    {
      "cell_type": "code",
      "metadata": {
        "id": "hfJu2nega3q8"
      },
      "source": [
        "import pandas as pd\r\n",
        "import numpy as np\r\n",
        "import os"
      ],
      "execution_count": 6,
      "outputs": []
    },
    {
      "cell_type": "code",
      "metadata": {
        "id": "OG6y52DGUHla"
      },
      "source": [
        "os.chdir('/content/drive/MyDrive/ML/Recommendation System_Internal_Lab_Question (2)')"
      ],
      "execution_count": 7,
      "outputs": []
    },
    {
      "cell_type": "code",
      "metadata": {
        "colab": {
          "base_uri": "https://localhost:8080/"
        },
        "id": "tZCFbeVXUndu",
        "outputId": "b9164000-f01e-45c4-f5db-6a8585b874fb"
      },
      "source": [
        "ls -l"
      ],
      "execution_count": 8,
      "outputs": [
        {
          "output_type": "stream",
          "text": [
            "total 4\n",
            "drwx------ 2 root root 4096 Dec 12 09:07 \u001b[0m\u001b[01;34m'Recommendation System_Internal_Lab_Question'\u001b[0m/\n"
          ],
          "name": "stdout"
        }
      ]
    },
    {
      "cell_type": "code",
      "metadata": {
        "id": "3GqgmUiePw8u"
      },
      "source": [
        "df = pd.read_csv('/content/drive/MyDrive/ML/Recommendation System_Internal_Lab_Question (2)/Recommendation System_Internal_Lab_Question/jokes.csv')"
      ],
      "execution_count": 9,
      "outputs": []
    },
    {
      "cell_type": "code",
      "metadata": {
        "colab": {
          "base_uri": "https://localhost:8080/"
        },
        "id": "w6FXdxfQSI5G",
        "outputId": "c1f07ec1-b781-4522-a68f-62ac7990b426"
      },
      "source": [
        "from google.colab import drive\n",
        "drive.mount('/content/drive', force_remount=True)"
      ],
      "execution_count": 12,
      "outputs": [
        {
          "output_type": "stream",
          "text": [
            "Mounted at /content/drive\n"
          ],
          "name": "stdout"
        }
      ]
    },
    {
      "cell_type": "code",
      "metadata": {
        "colab": {
          "base_uri": "https://localhost:8080/"
        },
        "id": "qsWQ680bag9l",
        "outputId": "65de5f91-4e6a-4e61-da08-84f162851520"
      },
      "source": [
        "df.shape"
      ],
      "execution_count": 12,
      "outputs": [
        {
          "output_type": "execute_result",
          "data": {
            "text/plain": [
              "(24983, 101)"
            ]
          },
          "metadata": {
            "tags": []
          },
          "execution_count": 12
        }
      ]
    },
    {
      "cell_type": "code",
      "metadata": {
        "colab": {
          "base_uri": "https://localhost:8080/",
          "height": 253
        },
        "id": "SSUxapT1ahAs",
        "outputId": "d35c37d0-0612-4e0b-f03c-4ee06a55cc12"
      },
      "source": [
        "df.head()"
      ],
      "execution_count": 16,
      "outputs": [
        {
          "output_type": "execute_result",
          "data": {
            "text/html": [
              "<div>\n",
              "<style scoped>\n",
              "    .dataframe tbody tr th:only-of-type {\n",
              "        vertical-align: middle;\n",
              "    }\n",
              "\n",
              "    .dataframe tbody tr th {\n",
              "        vertical-align: top;\n",
              "    }\n",
              "\n",
              "    .dataframe thead th {\n",
              "        text-align: right;\n",
              "    }\n",
              "</style>\n",
              "<table border=\"1\" class=\"dataframe\">\n",
              "  <thead>\n",
              "    <tr style=\"text-align: right;\">\n",
              "      <th></th>\n",
              "      <th>NumJokes</th>\n",
              "      <th>Joke1</th>\n",
              "      <th>Joke2</th>\n",
              "      <th>Joke3</th>\n",
              "      <th>Joke4</th>\n",
              "      <th>Joke5</th>\n",
              "      <th>Joke6</th>\n",
              "      <th>Joke7</th>\n",
              "      <th>Joke8</th>\n",
              "      <th>Joke9</th>\n",
              "      <th>Joke10</th>\n",
              "      <th>Joke11</th>\n",
              "      <th>Joke12</th>\n",
              "      <th>Joke13</th>\n",
              "      <th>Joke14</th>\n",
              "      <th>Joke15</th>\n",
              "      <th>Joke16</th>\n",
              "      <th>Joke17</th>\n",
              "      <th>Joke18</th>\n",
              "      <th>Joke19</th>\n",
              "      <th>Joke20</th>\n",
              "      <th>Joke21</th>\n",
              "      <th>Joke22</th>\n",
              "      <th>Joke23</th>\n",
              "      <th>Joke24</th>\n",
              "      <th>Joke25</th>\n",
              "      <th>Joke26</th>\n",
              "      <th>Joke27</th>\n",
              "      <th>Joke28</th>\n",
              "      <th>Joke29</th>\n",
              "      <th>Joke30</th>\n",
              "      <th>Joke31</th>\n",
              "      <th>Joke32</th>\n",
              "      <th>Joke33</th>\n",
              "      <th>Joke34</th>\n",
              "      <th>Joke35</th>\n",
              "      <th>Joke36</th>\n",
              "      <th>Joke37</th>\n",
              "      <th>Joke38</th>\n",
              "      <th>Joke39</th>\n",
              "      <th>...</th>\n",
              "      <th>Joke61</th>\n",
              "      <th>Joke62</th>\n",
              "      <th>Joke63</th>\n",
              "      <th>Joke64</th>\n",
              "      <th>Joke65</th>\n",
              "      <th>Joke66</th>\n",
              "      <th>Joke67</th>\n",
              "      <th>Joke68</th>\n",
              "      <th>Joke69</th>\n",
              "      <th>Joke70</th>\n",
              "      <th>Joke71</th>\n",
              "      <th>Joke72</th>\n",
              "      <th>Joke73</th>\n",
              "      <th>Joke74</th>\n",
              "      <th>Joke75</th>\n",
              "      <th>Joke76</th>\n",
              "      <th>Joke77</th>\n",
              "      <th>Joke78</th>\n",
              "      <th>Joke79</th>\n",
              "      <th>Joke80</th>\n",
              "      <th>Joke81</th>\n",
              "      <th>Joke82</th>\n",
              "      <th>Joke83</th>\n",
              "      <th>Joke84</th>\n",
              "      <th>Joke85</th>\n",
              "      <th>Joke86</th>\n",
              "      <th>Joke87</th>\n",
              "      <th>Joke88</th>\n",
              "      <th>Joke89</th>\n",
              "      <th>Joke90</th>\n",
              "      <th>Joke91</th>\n",
              "      <th>Joke92</th>\n",
              "      <th>Joke93</th>\n",
              "      <th>Joke94</th>\n",
              "      <th>Joke95</th>\n",
              "      <th>Joke96</th>\n",
              "      <th>Joke97</th>\n",
              "      <th>Joke98</th>\n",
              "      <th>Joke99</th>\n",
              "      <th>Joke100</th>\n",
              "    </tr>\n",
              "  </thead>\n",
              "  <tbody>\n",
              "    <tr>\n",
              "      <th>0</th>\n",
              "      <td>74</td>\n",
              "      <td>-7.82</td>\n",
              "      <td>8.79</td>\n",
              "      <td>-9.66</td>\n",
              "      <td>-8.16</td>\n",
              "      <td>-7.52</td>\n",
              "      <td>-8.50</td>\n",
              "      <td>-9.85</td>\n",
              "      <td>4.17</td>\n",
              "      <td>-8.98</td>\n",
              "      <td>-4.76</td>\n",
              "      <td>-8.50</td>\n",
              "      <td>-6.75</td>\n",
              "      <td>-7.18</td>\n",
              "      <td>8.45</td>\n",
              "      <td>-7.18</td>\n",
              "      <td>-7.52</td>\n",
              "      <td>-7.43</td>\n",
              "      <td>-9.81</td>\n",
              "      <td>-9.85</td>\n",
              "      <td>-9.85</td>\n",
              "      <td>-9.37</td>\n",
              "      <td>1.50</td>\n",
              "      <td>-4.37</td>\n",
              "      <td>-9.81</td>\n",
              "      <td>-8.50</td>\n",
              "      <td>1.12</td>\n",
              "      <td>7.82</td>\n",
              "      <td>2.86</td>\n",
              "      <td>9.13</td>\n",
              "      <td>-7.43</td>\n",
              "      <td>2.14</td>\n",
              "      <td>-4.08</td>\n",
              "      <td>-9.08</td>\n",
              "      <td>7.82</td>\n",
              "      <td>5.05</td>\n",
              "      <td>4.95</td>\n",
              "      <td>-9.17</td>\n",
              "      <td>-8.40</td>\n",
              "      <td>-8.40</td>\n",
              "      <td>...</td>\n",
              "      <td>8.59</td>\n",
              "      <td>3.59</td>\n",
              "      <td>-6.84</td>\n",
              "      <td>-9.03</td>\n",
              "      <td>2.82</td>\n",
              "      <td>-1.36</td>\n",
              "      <td>-9.08</td>\n",
              "      <td>8.30</td>\n",
              "      <td>5.68</td>\n",
              "      <td>-4.81</td>\n",
              "      <td>99.0</td>\n",
              "      <td>99.00</td>\n",
              "      <td>99.0</td>\n",
              "      <td>99.00</td>\n",
              "      <td>99.00</td>\n",
              "      <td>99.00</td>\n",
              "      <td>99.00</td>\n",
              "      <td>-9.42</td>\n",
              "      <td>99.00</td>\n",
              "      <td>99.00</td>\n",
              "      <td>99.00</td>\n",
              "      <td>-7.72</td>\n",
              "      <td>99.00</td>\n",
              "      <td>99.00</td>\n",
              "      <td>99.00</td>\n",
              "      <td>99.00</td>\n",
              "      <td>99.00</td>\n",
              "      <td>99.00</td>\n",
              "      <td>99.00</td>\n",
              "      <td>99.00</td>\n",
              "      <td>2.82</td>\n",
              "      <td>99.00</td>\n",
              "      <td>99.00</td>\n",
              "      <td>99.00</td>\n",
              "      <td>99.00</td>\n",
              "      <td>99.00</td>\n",
              "      <td>-5.63</td>\n",
              "      <td>99.00</td>\n",
              "      <td>99.00</td>\n",
              "      <td>99.00</td>\n",
              "    </tr>\n",
              "    <tr>\n",
              "      <th>1</th>\n",
              "      <td>100</td>\n",
              "      <td>4.08</td>\n",
              "      <td>-0.29</td>\n",
              "      <td>6.36</td>\n",
              "      <td>4.37</td>\n",
              "      <td>-2.38</td>\n",
              "      <td>-9.66</td>\n",
              "      <td>-0.73</td>\n",
              "      <td>-5.34</td>\n",
              "      <td>8.88</td>\n",
              "      <td>9.22</td>\n",
              "      <td>6.75</td>\n",
              "      <td>8.64</td>\n",
              "      <td>4.42</td>\n",
              "      <td>7.43</td>\n",
              "      <td>4.56</td>\n",
              "      <td>-0.97</td>\n",
              "      <td>4.66</td>\n",
              "      <td>-0.68</td>\n",
              "      <td>3.30</td>\n",
              "      <td>-1.21</td>\n",
              "      <td>0.87</td>\n",
              "      <td>8.64</td>\n",
              "      <td>8.35</td>\n",
              "      <td>9.17</td>\n",
              "      <td>0.05</td>\n",
              "      <td>7.57</td>\n",
              "      <td>4.71</td>\n",
              "      <td>0.87</td>\n",
              "      <td>-0.39</td>\n",
              "      <td>6.99</td>\n",
              "      <td>6.50</td>\n",
              "      <td>-0.92</td>\n",
              "      <td>7.14</td>\n",
              "      <td>9.03</td>\n",
              "      <td>-1.80</td>\n",
              "      <td>0.73</td>\n",
              "      <td>7.09</td>\n",
              "      <td>3.40</td>\n",
              "      <td>-0.87</td>\n",
              "      <td>...</td>\n",
              "      <td>-6.70</td>\n",
              "      <td>-3.35</td>\n",
              "      <td>-9.03</td>\n",
              "      <td>4.47</td>\n",
              "      <td>4.08</td>\n",
              "      <td>-3.83</td>\n",
              "      <td>8.74</td>\n",
              "      <td>1.12</td>\n",
              "      <td>0.78</td>\n",
              "      <td>7.52</td>\n",
              "      <td>-5.0</td>\n",
              "      <td>2.77</td>\n",
              "      <td>8.3</td>\n",
              "      <td>7.77</td>\n",
              "      <td>7.33</td>\n",
              "      <td>6.21</td>\n",
              "      <td>7.72</td>\n",
              "      <td>8.98</td>\n",
              "      <td>8.64</td>\n",
              "      <td>8.20</td>\n",
              "      <td>3.93</td>\n",
              "      <td>4.85</td>\n",
              "      <td>4.85</td>\n",
              "      <td>6.07</td>\n",
              "      <td>8.98</td>\n",
              "      <td>4.51</td>\n",
              "      <td>-0.05</td>\n",
              "      <td>3.69</td>\n",
              "      <td>4.56</td>\n",
              "      <td>0.58</td>\n",
              "      <td>2.82</td>\n",
              "      <td>-4.95</td>\n",
              "      <td>-0.29</td>\n",
              "      <td>7.86</td>\n",
              "      <td>-0.19</td>\n",
              "      <td>-2.14</td>\n",
              "      <td>3.06</td>\n",
              "      <td>0.34</td>\n",
              "      <td>-4.32</td>\n",
              "      <td>1.07</td>\n",
              "    </tr>\n",
              "    <tr>\n",
              "      <th>2</th>\n",
              "      <td>49</td>\n",
              "      <td>99.00</td>\n",
              "      <td>99.00</td>\n",
              "      <td>99.00</td>\n",
              "      <td>99.00</td>\n",
              "      <td>9.03</td>\n",
              "      <td>9.27</td>\n",
              "      <td>9.03</td>\n",
              "      <td>9.27</td>\n",
              "      <td>99.00</td>\n",
              "      <td>99.00</td>\n",
              "      <td>7.33</td>\n",
              "      <td>7.57</td>\n",
              "      <td>9.37</td>\n",
              "      <td>6.17</td>\n",
              "      <td>-6.36</td>\n",
              "      <td>-6.89</td>\n",
              "      <td>-7.86</td>\n",
              "      <td>9.03</td>\n",
              "      <td>9.03</td>\n",
              "      <td>9.03</td>\n",
              "      <td>7.28</td>\n",
              "      <td>99.00</td>\n",
              "      <td>8.25</td>\n",
              "      <td>99.00</td>\n",
              "      <td>99.00</td>\n",
              "      <td>7.48</td>\n",
              "      <td>7.28</td>\n",
              "      <td>7.28</td>\n",
              "      <td>8.93</td>\n",
              "      <td>99.00</td>\n",
              "      <td>6.17</td>\n",
              "      <td>7.28</td>\n",
              "      <td>99.00</td>\n",
              "      <td>99.00</td>\n",
              "      <td>8.98</td>\n",
              "      <td>7.33</td>\n",
              "      <td>99.00</td>\n",
              "      <td>6.17</td>\n",
              "      <td>9.08</td>\n",
              "      <td>...</td>\n",
              "      <td>6.46</td>\n",
              "      <td>7.28</td>\n",
              "      <td>99.00</td>\n",
              "      <td>99.00</td>\n",
              "      <td>7.04</td>\n",
              "      <td>7.28</td>\n",
              "      <td>99.00</td>\n",
              "      <td>7.28</td>\n",
              "      <td>8.25</td>\n",
              "      <td>99.00</td>\n",
              "      <td>99.0</td>\n",
              "      <td>99.00</td>\n",
              "      <td>99.0</td>\n",
              "      <td>99.00</td>\n",
              "      <td>99.00</td>\n",
              "      <td>8.93</td>\n",
              "      <td>99.00</td>\n",
              "      <td>99.00</td>\n",
              "      <td>99.00</td>\n",
              "      <td>9.08</td>\n",
              "      <td>99.00</td>\n",
              "      <td>99.00</td>\n",
              "      <td>99.00</td>\n",
              "      <td>99.00</td>\n",
              "      <td>99.00</td>\n",
              "      <td>99.00</td>\n",
              "      <td>99.00</td>\n",
              "      <td>99.00</td>\n",
              "      <td>99.00</td>\n",
              "      <td>9.03</td>\n",
              "      <td>99.00</td>\n",
              "      <td>99.00</td>\n",
              "      <td>99.00</td>\n",
              "      <td>9.08</td>\n",
              "      <td>99.00</td>\n",
              "      <td>99.00</td>\n",
              "      <td>99.00</td>\n",
              "      <td>99.00</td>\n",
              "      <td>99.00</td>\n",
              "      <td>99.00</td>\n",
              "    </tr>\n",
              "    <tr>\n",
              "      <th>3</th>\n",
              "      <td>48</td>\n",
              "      <td>99.00</td>\n",
              "      <td>8.35</td>\n",
              "      <td>99.00</td>\n",
              "      <td>99.00</td>\n",
              "      <td>1.80</td>\n",
              "      <td>8.16</td>\n",
              "      <td>-2.82</td>\n",
              "      <td>6.21</td>\n",
              "      <td>99.00</td>\n",
              "      <td>1.84</td>\n",
              "      <td>7.33</td>\n",
              "      <td>6.60</td>\n",
              "      <td>6.31</td>\n",
              "      <td>8.11</td>\n",
              "      <td>-7.23</td>\n",
              "      <td>-6.65</td>\n",
              "      <td>1.17</td>\n",
              "      <td>-6.60</td>\n",
              "      <td>-3.64</td>\n",
              "      <td>-2.09</td>\n",
              "      <td>5.34</td>\n",
              "      <td>99.00</td>\n",
              "      <td>99.00</td>\n",
              "      <td>99.00</td>\n",
              "      <td>99.00</td>\n",
              "      <td>2.91</td>\n",
              "      <td>3.93</td>\n",
              "      <td>6.75</td>\n",
              "      <td>6.60</td>\n",
              "      <td>99.00</td>\n",
              "      <td>6.65</td>\n",
              "      <td>-6.12</td>\n",
              "      <td>99.00</td>\n",
              "      <td>7.57</td>\n",
              "      <td>6.21</td>\n",
              "      <td>6.65</td>\n",
              "      <td>99.00</td>\n",
              "      <td>-8.30</td>\n",
              "      <td>7.18</td>\n",
              "      <td>...</td>\n",
              "      <td>0.00</td>\n",
              "      <td>-3.69</td>\n",
              "      <td>99.00</td>\n",
              "      <td>99.00</td>\n",
              "      <td>7.82</td>\n",
              "      <td>0.24</td>\n",
              "      <td>99.00</td>\n",
              "      <td>7.28</td>\n",
              "      <td>-2.33</td>\n",
              "      <td>99.00</td>\n",
              "      <td>99.0</td>\n",
              "      <td>99.00</td>\n",
              "      <td>99.0</td>\n",
              "      <td>99.00</td>\n",
              "      <td>99.00</td>\n",
              "      <td>99.00</td>\n",
              "      <td>99.00</td>\n",
              "      <td>99.00</td>\n",
              "      <td>99.00</td>\n",
              "      <td>99.00</td>\n",
              "      <td>99.00</td>\n",
              "      <td>99.00</td>\n",
              "      <td>99.00</td>\n",
              "      <td>99.00</td>\n",
              "      <td>0.63</td>\n",
              "      <td>99.00</td>\n",
              "      <td>99.00</td>\n",
              "      <td>-2.33</td>\n",
              "      <td>99.00</td>\n",
              "      <td>99.00</td>\n",
              "      <td>99.00</td>\n",
              "      <td>99.00</td>\n",
              "      <td>99.00</td>\n",
              "      <td>0.53</td>\n",
              "      <td>99.00</td>\n",
              "      <td>99.00</td>\n",
              "      <td>99.00</td>\n",
              "      <td>99.00</td>\n",
              "      <td>99.00</td>\n",
              "      <td>99.00</td>\n",
              "    </tr>\n",
              "    <tr>\n",
              "      <th>4</th>\n",
              "      <td>91</td>\n",
              "      <td>8.50</td>\n",
              "      <td>4.61</td>\n",
              "      <td>-4.17</td>\n",
              "      <td>-5.39</td>\n",
              "      <td>1.36</td>\n",
              "      <td>1.60</td>\n",
              "      <td>7.04</td>\n",
              "      <td>4.61</td>\n",
              "      <td>-0.44</td>\n",
              "      <td>5.73</td>\n",
              "      <td>8.25</td>\n",
              "      <td>6.84</td>\n",
              "      <td>-3.93</td>\n",
              "      <td>7.23</td>\n",
              "      <td>-2.33</td>\n",
              "      <td>-9.66</td>\n",
              "      <td>2.72</td>\n",
              "      <td>-1.36</td>\n",
              "      <td>2.57</td>\n",
              "      <td>4.51</td>\n",
              "      <td>8.20</td>\n",
              "      <td>6.12</td>\n",
              "      <td>8.30</td>\n",
              "      <td>-1.26</td>\n",
              "      <td>7.77</td>\n",
              "      <td>1.89</td>\n",
              "      <td>-1.17</td>\n",
              "      <td>5.68</td>\n",
              "      <td>8.45</td>\n",
              "      <td>4.61</td>\n",
              "      <td>8.06</td>\n",
              "      <td>-9.47</td>\n",
              "      <td>7.28</td>\n",
              "      <td>5.68</td>\n",
              "      <td>2.48</td>\n",
              "      <td>3.20</td>\n",
              "      <td>-1.26</td>\n",
              "      <td>6.80</td>\n",
              "      <td>4.51</td>\n",
              "      <td>...</td>\n",
              "      <td>7.38</td>\n",
              "      <td>6.17</td>\n",
              "      <td>4.71</td>\n",
              "      <td>-2.28</td>\n",
              "      <td>7.38</td>\n",
              "      <td>4.56</td>\n",
              "      <td>7.14</td>\n",
              "      <td>4.22</td>\n",
              "      <td>3.01</td>\n",
              "      <td>3.83</td>\n",
              "      <td>99.0</td>\n",
              "      <td>99.00</td>\n",
              "      <td>99.0</td>\n",
              "      <td>99.00</td>\n",
              "      <td>99.00</td>\n",
              "      <td>99.00</td>\n",
              "      <td>4.13</td>\n",
              "      <td>99.00</td>\n",
              "      <td>99.00</td>\n",
              "      <td>99.00</td>\n",
              "      <td>5.24</td>\n",
              "      <td>5.92</td>\n",
              "      <td>0.87</td>\n",
              "      <td>7.28</td>\n",
              "      <td>3.93</td>\n",
              "      <td>-0.63</td>\n",
              "      <td>6.31</td>\n",
              "      <td>4.71</td>\n",
              "      <td>2.82</td>\n",
              "      <td>2.96</td>\n",
              "      <td>5.19</td>\n",
              "      <td>5.58</td>\n",
              "      <td>4.27</td>\n",
              "      <td>5.19</td>\n",
              "      <td>5.73</td>\n",
              "      <td>1.55</td>\n",
              "      <td>3.11</td>\n",
              "      <td>6.55</td>\n",
              "      <td>1.80</td>\n",
              "      <td>1.60</td>\n",
              "    </tr>\n",
              "  </tbody>\n",
              "</table>\n",
              "<p>5 rows × 101 columns</p>\n",
              "</div>"
            ],
            "text/plain": [
              "   NumJokes  Joke1  Joke2  Joke3  ...  Joke97  Joke98  Joke99  Joke100\n",
              "0        74  -7.82   8.79  -9.66  ...   -5.63   99.00   99.00    99.00\n",
              "1       100   4.08  -0.29   6.36  ...    3.06    0.34   -4.32     1.07\n",
              "2        49  99.00  99.00  99.00  ...   99.00   99.00   99.00    99.00\n",
              "3        48  99.00   8.35  99.00  ...   99.00   99.00   99.00    99.00\n",
              "4        91   8.50   4.61  -4.17  ...    3.11    6.55    1.80     1.60\n",
              "\n",
              "[5 rows x 101 columns]"
            ]
          },
          "metadata": {
            "tags": []
          },
          "execution_count": 16
        }
      ]
    },
    {
      "cell_type": "markdown",
      "metadata": {
        "id": "yjXeo2IhPZPU"
      },
      "source": [
        "[link text](https://)"
      ]
    },
    {
      "cell_type": "markdown",
      "metadata": {
        "id": "DgbBAnY8degI"
      },
      "source": [
        "### Q2. Create new Dataframe `ratings` starting from column `joke1` and consider first 200 rows only\n",
        "\n"
      ]
    },
    {
      "cell_type": "code",
      "metadata": {
        "id": "UGcwEfR0bjvj"
      },
      "source": [
        "ratings = df.iloc[:200,1:]"
      ],
      "execution_count": 29,
      "outputs": []
    },
    {
      "cell_type": "code",
      "metadata": {
        "colab": {
          "base_uri": "https://localhost:8080/"
        },
        "id": "ySuAQ1brb-aZ",
        "outputId": "7e732cb6-d7ea-4664-f0d2-bc967027bba2"
      },
      "source": [
        "ratings.isnull().any().sum()"
      ],
      "execution_count": 30,
      "outputs": [
        {
          "output_type": "execute_result",
          "data": {
            "text/plain": [
              "0"
            ]
          },
          "metadata": {
            "tags": []
          },
          "execution_count": 30
        }
      ]
    },
    {
      "cell_type": "code",
      "metadata": {
        "colab": {
          "base_uri": "https://localhost:8080/",
          "height": 253
        },
        "id": "pywwVFfWbwg0",
        "outputId": "cbcfdc07-1fbb-4164-b4d4-913aba828d9b"
      },
      "source": [
        "ratings.head()"
      ],
      "execution_count": 31,
      "outputs": [
        {
          "output_type": "execute_result",
          "data": {
            "text/html": [
              "<div>\n",
              "<style scoped>\n",
              "    .dataframe tbody tr th:only-of-type {\n",
              "        vertical-align: middle;\n",
              "    }\n",
              "\n",
              "    .dataframe tbody tr th {\n",
              "        vertical-align: top;\n",
              "    }\n",
              "\n",
              "    .dataframe thead th {\n",
              "        text-align: right;\n",
              "    }\n",
              "</style>\n",
              "<table border=\"1\" class=\"dataframe\">\n",
              "  <thead>\n",
              "    <tr style=\"text-align: right;\">\n",
              "      <th></th>\n",
              "      <th>Joke1</th>\n",
              "      <th>Joke2</th>\n",
              "      <th>Joke3</th>\n",
              "      <th>Joke4</th>\n",
              "      <th>Joke5</th>\n",
              "      <th>Joke6</th>\n",
              "      <th>Joke7</th>\n",
              "      <th>Joke8</th>\n",
              "      <th>Joke9</th>\n",
              "      <th>Joke10</th>\n",
              "      <th>Joke11</th>\n",
              "      <th>Joke12</th>\n",
              "      <th>Joke13</th>\n",
              "      <th>Joke14</th>\n",
              "      <th>Joke15</th>\n",
              "      <th>Joke16</th>\n",
              "      <th>Joke17</th>\n",
              "      <th>Joke18</th>\n",
              "      <th>Joke19</th>\n",
              "      <th>Joke20</th>\n",
              "      <th>Joke21</th>\n",
              "      <th>Joke22</th>\n",
              "      <th>Joke23</th>\n",
              "      <th>Joke24</th>\n",
              "      <th>Joke25</th>\n",
              "      <th>Joke26</th>\n",
              "      <th>Joke27</th>\n",
              "      <th>Joke28</th>\n",
              "      <th>Joke29</th>\n",
              "      <th>Joke30</th>\n",
              "      <th>Joke31</th>\n",
              "      <th>Joke32</th>\n",
              "      <th>Joke33</th>\n",
              "      <th>Joke34</th>\n",
              "      <th>Joke35</th>\n",
              "      <th>Joke36</th>\n",
              "      <th>Joke37</th>\n",
              "      <th>Joke38</th>\n",
              "      <th>Joke39</th>\n",
              "      <th>Joke40</th>\n",
              "      <th>...</th>\n",
              "      <th>Joke61</th>\n",
              "      <th>Joke62</th>\n",
              "      <th>Joke63</th>\n",
              "      <th>Joke64</th>\n",
              "      <th>Joke65</th>\n",
              "      <th>Joke66</th>\n",
              "      <th>Joke67</th>\n",
              "      <th>Joke68</th>\n",
              "      <th>Joke69</th>\n",
              "      <th>Joke70</th>\n",
              "      <th>Joke71</th>\n",
              "      <th>Joke72</th>\n",
              "      <th>Joke73</th>\n",
              "      <th>Joke74</th>\n",
              "      <th>Joke75</th>\n",
              "      <th>Joke76</th>\n",
              "      <th>Joke77</th>\n",
              "      <th>Joke78</th>\n",
              "      <th>Joke79</th>\n",
              "      <th>Joke80</th>\n",
              "      <th>Joke81</th>\n",
              "      <th>Joke82</th>\n",
              "      <th>Joke83</th>\n",
              "      <th>Joke84</th>\n",
              "      <th>Joke85</th>\n",
              "      <th>Joke86</th>\n",
              "      <th>Joke87</th>\n",
              "      <th>Joke88</th>\n",
              "      <th>Joke89</th>\n",
              "      <th>Joke90</th>\n",
              "      <th>Joke91</th>\n",
              "      <th>Joke92</th>\n",
              "      <th>Joke93</th>\n",
              "      <th>Joke94</th>\n",
              "      <th>Joke95</th>\n",
              "      <th>Joke96</th>\n",
              "      <th>Joke97</th>\n",
              "      <th>Joke98</th>\n",
              "      <th>Joke99</th>\n",
              "      <th>Joke100</th>\n",
              "    </tr>\n",
              "  </thead>\n",
              "  <tbody>\n",
              "    <tr>\n",
              "      <th>0</th>\n",
              "      <td>-7.82</td>\n",
              "      <td>8.79</td>\n",
              "      <td>-9.66</td>\n",
              "      <td>-8.16</td>\n",
              "      <td>-7.52</td>\n",
              "      <td>-8.50</td>\n",
              "      <td>-9.85</td>\n",
              "      <td>4.17</td>\n",
              "      <td>-8.98</td>\n",
              "      <td>-4.76</td>\n",
              "      <td>-8.50</td>\n",
              "      <td>-6.75</td>\n",
              "      <td>-7.18</td>\n",
              "      <td>8.45</td>\n",
              "      <td>-7.18</td>\n",
              "      <td>-7.52</td>\n",
              "      <td>-7.43</td>\n",
              "      <td>-9.81</td>\n",
              "      <td>-9.85</td>\n",
              "      <td>-9.85</td>\n",
              "      <td>-9.37</td>\n",
              "      <td>1.50</td>\n",
              "      <td>-4.37</td>\n",
              "      <td>-9.81</td>\n",
              "      <td>-8.50</td>\n",
              "      <td>1.12</td>\n",
              "      <td>7.82</td>\n",
              "      <td>2.86</td>\n",
              "      <td>9.13</td>\n",
              "      <td>-7.43</td>\n",
              "      <td>2.14</td>\n",
              "      <td>-4.08</td>\n",
              "      <td>-9.08</td>\n",
              "      <td>7.82</td>\n",
              "      <td>5.05</td>\n",
              "      <td>4.95</td>\n",
              "      <td>-9.17</td>\n",
              "      <td>-8.40</td>\n",
              "      <td>-8.40</td>\n",
              "      <td>-8.40</td>\n",
              "      <td>...</td>\n",
              "      <td>8.59</td>\n",
              "      <td>3.59</td>\n",
              "      <td>-6.84</td>\n",
              "      <td>-9.03</td>\n",
              "      <td>2.82</td>\n",
              "      <td>-1.36</td>\n",
              "      <td>-9.08</td>\n",
              "      <td>8.30</td>\n",
              "      <td>5.68</td>\n",
              "      <td>-4.81</td>\n",
              "      <td>99.0</td>\n",
              "      <td>99.00</td>\n",
              "      <td>99.0</td>\n",
              "      <td>99.00</td>\n",
              "      <td>99.00</td>\n",
              "      <td>99.00</td>\n",
              "      <td>99.00</td>\n",
              "      <td>-9.42</td>\n",
              "      <td>99.00</td>\n",
              "      <td>99.00</td>\n",
              "      <td>99.00</td>\n",
              "      <td>-7.72</td>\n",
              "      <td>99.00</td>\n",
              "      <td>99.00</td>\n",
              "      <td>99.00</td>\n",
              "      <td>99.00</td>\n",
              "      <td>99.00</td>\n",
              "      <td>99.00</td>\n",
              "      <td>99.00</td>\n",
              "      <td>99.00</td>\n",
              "      <td>2.82</td>\n",
              "      <td>99.00</td>\n",
              "      <td>99.00</td>\n",
              "      <td>99.00</td>\n",
              "      <td>99.00</td>\n",
              "      <td>99.00</td>\n",
              "      <td>-5.63</td>\n",
              "      <td>99.00</td>\n",
              "      <td>99.00</td>\n",
              "      <td>99.00</td>\n",
              "    </tr>\n",
              "    <tr>\n",
              "      <th>1</th>\n",
              "      <td>4.08</td>\n",
              "      <td>-0.29</td>\n",
              "      <td>6.36</td>\n",
              "      <td>4.37</td>\n",
              "      <td>-2.38</td>\n",
              "      <td>-9.66</td>\n",
              "      <td>-0.73</td>\n",
              "      <td>-5.34</td>\n",
              "      <td>8.88</td>\n",
              "      <td>9.22</td>\n",
              "      <td>6.75</td>\n",
              "      <td>8.64</td>\n",
              "      <td>4.42</td>\n",
              "      <td>7.43</td>\n",
              "      <td>4.56</td>\n",
              "      <td>-0.97</td>\n",
              "      <td>4.66</td>\n",
              "      <td>-0.68</td>\n",
              "      <td>3.30</td>\n",
              "      <td>-1.21</td>\n",
              "      <td>0.87</td>\n",
              "      <td>8.64</td>\n",
              "      <td>8.35</td>\n",
              "      <td>9.17</td>\n",
              "      <td>0.05</td>\n",
              "      <td>7.57</td>\n",
              "      <td>4.71</td>\n",
              "      <td>0.87</td>\n",
              "      <td>-0.39</td>\n",
              "      <td>6.99</td>\n",
              "      <td>6.50</td>\n",
              "      <td>-0.92</td>\n",
              "      <td>7.14</td>\n",
              "      <td>9.03</td>\n",
              "      <td>-1.80</td>\n",
              "      <td>0.73</td>\n",
              "      <td>7.09</td>\n",
              "      <td>3.40</td>\n",
              "      <td>-0.87</td>\n",
              "      <td>7.91</td>\n",
              "      <td>...</td>\n",
              "      <td>-6.70</td>\n",
              "      <td>-3.35</td>\n",
              "      <td>-9.03</td>\n",
              "      <td>4.47</td>\n",
              "      <td>4.08</td>\n",
              "      <td>-3.83</td>\n",
              "      <td>8.74</td>\n",
              "      <td>1.12</td>\n",
              "      <td>0.78</td>\n",
              "      <td>7.52</td>\n",
              "      <td>-5.0</td>\n",
              "      <td>2.77</td>\n",
              "      <td>8.3</td>\n",
              "      <td>7.77</td>\n",
              "      <td>7.33</td>\n",
              "      <td>6.21</td>\n",
              "      <td>7.72</td>\n",
              "      <td>8.98</td>\n",
              "      <td>8.64</td>\n",
              "      <td>8.20</td>\n",
              "      <td>3.93</td>\n",
              "      <td>4.85</td>\n",
              "      <td>4.85</td>\n",
              "      <td>6.07</td>\n",
              "      <td>8.98</td>\n",
              "      <td>4.51</td>\n",
              "      <td>-0.05</td>\n",
              "      <td>3.69</td>\n",
              "      <td>4.56</td>\n",
              "      <td>0.58</td>\n",
              "      <td>2.82</td>\n",
              "      <td>-4.95</td>\n",
              "      <td>-0.29</td>\n",
              "      <td>7.86</td>\n",
              "      <td>-0.19</td>\n",
              "      <td>-2.14</td>\n",
              "      <td>3.06</td>\n",
              "      <td>0.34</td>\n",
              "      <td>-4.32</td>\n",
              "      <td>1.07</td>\n",
              "    </tr>\n",
              "    <tr>\n",
              "      <th>2</th>\n",
              "      <td>99.00</td>\n",
              "      <td>99.00</td>\n",
              "      <td>99.00</td>\n",
              "      <td>99.00</td>\n",
              "      <td>9.03</td>\n",
              "      <td>9.27</td>\n",
              "      <td>9.03</td>\n",
              "      <td>9.27</td>\n",
              "      <td>99.00</td>\n",
              "      <td>99.00</td>\n",
              "      <td>7.33</td>\n",
              "      <td>7.57</td>\n",
              "      <td>9.37</td>\n",
              "      <td>6.17</td>\n",
              "      <td>-6.36</td>\n",
              "      <td>-6.89</td>\n",
              "      <td>-7.86</td>\n",
              "      <td>9.03</td>\n",
              "      <td>9.03</td>\n",
              "      <td>9.03</td>\n",
              "      <td>7.28</td>\n",
              "      <td>99.00</td>\n",
              "      <td>8.25</td>\n",
              "      <td>99.00</td>\n",
              "      <td>99.00</td>\n",
              "      <td>7.48</td>\n",
              "      <td>7.28</td>\n",
              "      <td>7.28</td>\n",
              "      <td>8.93</td>\n",
              "      <td>99.00</td>\n",
              "      <td>6.17</td>\n",
              "      <td>7.28</td>\n",
              "      <td>99.00</td>\n",
              "      <td>99.00</td>\n",
              "      <td>8.98</td>\n",
              "      <td>7.33</td>\n",
              "      <td>99.00</td>\n",
              "      <td>6.17</td>\n",
              "      <td>9.08</td>\n",
              "      <td>7.33</td>\n",
              "      <td>...</td>\n",
              "      <td>6.46</td>\n",
              "      <td>7.28</td>\n",
              "      <td>99.00</td>\n",
              "      <td>99.00</td>\n",
              "      <td>7.04</td>\n",
              "      <td>7.28</td>\n",
              "      <td>99.00</td>\n",
              "      <td>7.28</td>\n",
              "      <td>8.25</td>\n",
              "      <td>99.00</td>\n",
              "      <td>99.0</td>\n",
              "      <td>99.00</td>\n",
              "      <td>99.0</td>\n",
              "      <td>99.00</td>\n",
              "      <td>99.00</td>\n",
              "      <td>8.93</td>\n",
              "      <td>99.00</td>\n",
              "      <td>99.00</td>\n",
              "      <td>99.00</td>\n",
              "      <td>9.08</td>\n",
              "      <td>99.00</td>\n",
              "      <td>99.00</td>\n",
              "      <td>99.00</td>\n",
              "      <td>99.00</td>\n",
              "      <td>99.00</td>\n",
              "      <td>99.00</td>\n",
              "      <td>99.00</td>\n",
              "      <td>99.00</td>\n",
              "      <td>99.00</td>\n",
              "      <td>9.03</td>\n",
              "      <td>99.00</td>\n",
              "      <td>99.00</td>\n",
              "      <td>99.00</td>\n",
              "      <td>9.08</td>\n",
              "      <td>99.00</td>\n",
              "      <td>99.00</td>\n",
              "      <td>99.00</td>\n",
              "      <td>99.00</td>\n",
              "      <td>99.00</td>\n",
              "      <td>99.00</td>\n",
              "    </tr>\n",
              "    <tr>\n",
              "      <th>3</th>\n",
              "      <td>99.00</td>\n",
              "      <td>8.35</td>\n",
              "      <td>99.00</td>\n",
              "      <td>99.00</td>\n",
              "      <td>1.80</td>\n",
              "      <td>8.16</td>\n",
              "      <td>-2.82</td>\n",
              "      <td>6.21</td>\n",
              "      <td>99.00</td>\n",
              "      <td>1.84</td>\n",
              "      <td>7.33</td>\n",
              "      <td>6.60</td>\n",
              "      <td>6.31</td>\n",
              "      <td>8.11</td>\n",
              "      <td>-7.23</td>\n",
              "      <td>-6.65</td>\n",
              "      <td>1.17</td>\n",
              "      <td>-6.60</td>\n",
              "      <td>-3.64</td>\n",
              "      <td>-2.09</td>\n",
              "      <td>5.34</td>\n",
              "      <td>99.00</td>\n",
              "      <td>99.00</td>\n",
              "      <td>99.00</td>\n",
              "      <td>99.00</td>\n",
              "      <td>2.91</td>\n",
              "      <td>3.93</td>\n",
              "      <td>6.75</td>\n",
              "      <td>6.60</td>\n",
              "      <td>99.00</td>\n",
              "      <td>6.65</td>\n",
              "      <td>-6.12</td>\n",
              "      <td>99.00</td>\n",
              "      <td>7.57</td>\n",
              "      <td>6.21</td>\n",
              "      <td>6.65</td>\n",
              "      <td>99.00</td>\n",
              "      <td>-8.30</td>\n",
              "      <td>7.18</td>\n",
              "      <td>2.82</td>\n",
              "      <td>...</td>\n",
              "      <td>0.00</td>\n",
              "      <td>-3.69</td>\n",
              "      <td>99.00</td>\n",
              "      <td>99.00</td>\n",
              "      <td>7.82</td>\n",
              "      <td>0.24</td>\n",
              "      <td>99.00</td>\n",
              "      <td>7.28</td>\n",
              "      <td>-2.33</td>\n",
              "      <td>99.00</td>\n",
              "      <td>99.0</td>\n",
              "      <td>99.00</td>\n",
              "      <td>99.0</td>\n",
              "      <td>99.00</td>\n",
              "      <td>99.00</td>\n",
              "      <td>99.00</td>\n",
              "      <td>99.00</td>\n",
              "      <td>99.00</td>\n",
              "      <td>99.00</td>\n",
              "      <td>99.00</td>\n",
              "      <td>99.00</td>\n",
              "      <td>99.00</td>\n",
              "      <td>99.00</td>\n",
              "      <td>99.00</td>\n",
              "      <td>0.63</td>\n",
              "      <td>99.00</td>\n",
              "      <td>99.00</td>\n",
              "      <td>-2.33</td>\n",
              "      <td>99.00</td>\n",
              "      <td>99.00</td>\n",
              "      <td>99.00</td>\n",
              "      <td>99.00</td>\n",
              "      <td>99.00</td>\n",
              "      <td>0.53</td>\n",
              "      <td>99.00</td>\n",
              "      <td>99.00</td>\n",
              "      <td>99.00</td>\n",
              "      <td>99.00</td>\n",
              "      <td>99.00</td>\n",
              "      <td>99.00</td>\n",
              "    </tr>\n",
              "    <tr>\n",
              "      <th>4</th>\n",
              "      <td>8.50</td>\n",
              "      <td>4.61</td>\n",
              "      <td>-4.17</td>\n",
              "      <td>-5.39</td>\n",
              "      <td>1.36</td>\n",
              "      <td>1.60</td>\n",
              "      <td>7.04</td>\n",
              "      <td>4.61</td>\n",
              "      <td>-0.44</td>\n",
              "      <td>5.73</td>\n",
              "      <td>8.25</td>\n",
              "      <td>6.84</td>\n",
              "      <td>-3.93</td>\n",
              "      <td>7.23</td>\n",
              "      <td>-2.33</td>\n",
              "      <td>-9.66</td>\n",
              "      <td>2.72</td>\n",
              "      <td>-1.36</td>\n",
              "      <td>2.57</td>\n",
              "      <td>4.51</td>\n",
              "      <td>8.20</td>\n",
              "      <td>6.12</td>\n",
              "      <td>8.30</td>\n",
              "      <td>-1.26</td>\n",
              "      <td>7.77</td>\n",
              "      <td>1.89</td>\n",
              "      <td>-1.17</td>\n",
              "      <td>5.68</td>\n",
              "      <td>8.45</td>\n",
              "      <td>4.61</td>\n",
              "      <td>8.06</td>\n",
              "      <td>-9.47</td>\n",
              "      <td>7.28</td>\n",
              "      <td>5.68</td>\n",
              "      <td>2.48</td>\n",
              "      <td>3.20</td>\n",
              "      <td>-1.26</td>\n",
              "      <td>6.80</td>\n",
              "      <td>4.51</td>\n",
              "      <td>2.48</td>\n",
              "      <td>...</td>\n",
              "      <td>7.38</td>\n",
              "      <td>6.17</td>\n",
              "      <td>4.71</td>\n",
              "      <td>-2.28</td>\n",
              "      <td>7.38</td>\n",
              "      <td>4.56</td>\n",
              "      <td>7.14</td>\n",
              "      <td>4.22</td>\n",
              "      <td>3.01</td>\n",
              "      <td>3.83</td>\n",
              "      <td>99.0</td>\n",
              "      <td>99.00</td>\n",
              "      <td>99.0</td>\n",
              "      <td>99.00</td>\n",
              "      <td>99.00</td>\n",
              "      <td>99.00</td>\n",
              "      <td>4.13</td>\n",
              "      <td>99.00</td>\n",
              "      <td>99.00</td>\n",
              "      <td>99.00</td>\n",
              "      <td>5.24</td>\n",
              "      <td>5.92</td>\n",
              "      <td>0.87</td>\n",
              "      <td>7.28</td>\n",
              "      <td>3.93</td>\n",
              "      <td>-0.63</td>\n",
              "      <td>6.31</td>\n",
              "      <td>4.71</td>\n",
              "      <td>2.82</td>\n",
              "      <td>2.96</td>\n",
              "      <td>5.19</td>\n",
              "      <td>5.58</td>\n",
              "      <td>4.27</td>\n",
              "      <td>5.19</td>\n",
              "      <td>5.73</td>\n",
              "      <td>1.55</td>\n",
              "      <td>3.11</td>\n",
              "      <td>6.55</td>\n",
              "      <td>1.80</td>\n",
              "      <td>1.60</td>\n",
              "    </tr>\n",
              "  </tbody>\n",
              "</table>\n",
              "<p>5 rows × 100 columns</p>\n",
              "</div>"
            ],
            "text/plain": [
              "   Joke1  Joke2  Joke3  Joke4  Joke5  ...  Joke96  Joke97  Joke98  Joke99  Joke100\n",
              "0  -7.82   8.79  -9.66  -8.16  -7.52  ...   99.00   -5.63   99.00   99.00    99.00\n",
              "1   4.08  -0.29   6.36   4.37  -2.38  ...   -2.14    3.06    0.34   -4.32     1.07\n",
              "2  99.00  99.00  99.00  99.00   9.03  ...   99.00   99.00   99.00   99.00    99.00\n",
              "3  99.00   8.35  99.00  99.00   1.80  ...   99.00   99.00   99.00   99.00    99.00\n",
              "4   8.50   4.61  -4.17  -5.39   1.36  ...    1.55    3.11    6.55    1.80     1.60\n",
              "\n",
              "[5 rows x 100 columns]"
            ]
          },
          "metadata": {
            "tags": []
          },
          "execution_count": 31
        }
      ]
    },
    {
      "cell_type": "markdown",
      "metadata": {
        "id": "LqVdyB3veB22"
      },
      "source": [
        "### Q3. Preprocess `ratings`\n",
        "\n",
        "\n",
        "*   Verify presence of null values\n",
        "*   Replace null with 0\n",
        "\n"
      ]
    },
    {
      "cell_type": "code",
      "metadata": {
        "id": "HvmYrv2ueiY2",
        "colab": {
          "base_uri": "https://localhost:8080/"
        },
        "outputId": "5a4a039d-8756-475c-f72a-f9afca17eb94"
      },
      "source": [
        "ratings.isnull().any().sum()"
      ],
      "execution_count": 33,
      "outputs": [
        {
          "output_type": "execute_result",
          "data": {
            "text/plain": [
              "0"
            ]
          },
          "metadata": {
            "tags": []
          },
          "execution_count": 33
        }
      ]
    },
    {
      "cell_type": "code",
      "metadata": {
        "id": "NhMzOXUjc2CU"
      },
      "source": [
        "ratings = ratings.replace(99,0)"
      ],
      "execution_count": 34,
      "outputs": []
    },
    {
      "cell_type": "markdown",
      "metadata": {
        "id": "wAATaQB9emb4"
      },
      "source": [
        "### Q4. Find mean for each joke\n",
        "\n",
        "\n",
        "*   Find mean of 100 jokes\n",
        "\n"
      ]
    },
    {
      "cell_type": "code",
      "metadata": {
        "id": "rLyJwXaWfQFB",
        "colab": {
          "base_uri": "https://localhost:8080/"
        },
        "outputId": "97d61fcb-257a-4bbd-f16d-949f4d9dc163"
      },
      "source": [
        "mean_ratings = ratings.mean(axis=0)\r\n",
        "print(mean_ratings)\r\n",
        "mean_ratings.head()"
      ],
      "execution_count": 37,
      "outputs": [
        {
          "output_type": "stream",
          "text": [
            "Joke1      0.53005\n",
            "Joke2      0.59390\n",
            "Joke3      0.23765\n",
            "Joke4     -0.70100\n",
            "Joke5     -0.03790\n",
            "            ...   \n",
            "Joke96     0.41755\n",
            "Joke97     0.75500\n",
            "Joke98     0.09370\n",
            "Joke99     0.13500\n",
            "Joke100    0.52440\n",
            "Length: 100, dtype: float64\n"
          ],
          "name": "stdout"
        },
        {
          "output_type": "execute_result",
          "data": {
            "text/plain": [
              "Joke1    0.53005\n",
              "Joke2    0.59390\n",
              "Joke3    0.23765\n",
              "Joke4   -0.70100\n",
              "Joke5   -0.03790\n",
              "dtype: float64"
            ]
          },
          "metadata": {
            "tags": []
          },
          "execution_count": 37
        }
      ]
    },
    {
      "cell_type": "markdown",
      "metadata": {
        "id": "rGF8KBZ_fQiQ"
      },
      "source": [
        "### Q5. List most popular 10 jokes"
      ]
    },
    {
      "cell_type": "code",
      "metadata": {
        "id": "MjQiJAfJflHF",
        "colab": {
          "base_uri": "https://localhost:8080/"
        },
        "outputId": "b435ff4c-92c7-41c3-9b1f-e11695c7ac96"
      },
      "source": [
        "mean_ratings.sort_values(axis=0, ascending = False).head(10)"
      ],
      "execution_count": 40,
      "outputs": [
        {
          "output_type": "execute_result",
          "data": {
            "text/plain": [
              "Joke50    4.05540\n",
              "Joke36    3.61150\n",
              "Joke53    3.57150\n",
              "Joke35    3.22315\n",
              "Joke29    3.18995\n",
              "Joke27    3.05240\n",
              "Joke62    2.86185\n",
              "Joke49    2.85000\n",
              "Joke32    2.77955\n",
              "Joke31    2.65710\n",
              "dtype: float64"
            ]
          },
          "metadata": {
            "tags": []
          },
          "execution_count": 40
        }
      ]
    },
    {
      "cell_type": "markdown",
      "metadata": {
        "id": "3GQ7F8wTfwiR"
      },
      "source": [
        "#2. Collaborative Filtering based Recommendation System"
      ]
    },
    {
      "cell_type": "markdown",
      "metadata": {
        "id": "iiThH0G6gEzy"
      },
      "source": [
        "## About the Dataset\n",
        "\n",
        "This dataset has been compiled by Cai-Nicolas Ziegler in 2004, and it comprises of three tables for users, books and ratings. Explicit ratings are expressed on a scale from 1-10 (higher values denoting higher appreciation) and implicit rating is expressed by 0.\n",
        "\n",
        "Reference: http://www2.informatik.uni-freiburg.de/~cziegler/BX/"
      ]
    },
    {
      "cell_type": "markdown",
      "metadata": {
        "id": "69LQ5MYBgmL-"
      },
      "source": [
        "#### Execute below cells to read the datasets"
      ]
    },
    {
      "cell_type": "code",
      "metadata": {
        "id": "RYlXngM9grZ0",
        "colab": {
          "base_uri": "https://localhost:8080/"
        },
        "outputId": "ccd3d884-f55f-4d45-a32a-d4ece2069c7c"
      },
      "source": [
        "books = pd.read_csv(\"/content/drive/MyDrive/ML/Recommendation System_Internal_Lab_Question (2)/Recommendation System_Internal_Lab_Question/books.csv\", sep=\";\", error_bad_lines=False, encoding=\"latin-1\")\n",
        "books.columns = ['ISBN', 'bookTitle', 'bookAuthor', 'yearOfPublication', 'publisher', 'imageUrlS', 'imageUrlM', 'imageUrlL']\n",
        "\n",
        "\n",
        "users = pd.read_csv('/content/drive/MyDrive/ML/Recommendation System_Internal_Lab_Question (2)/Recommendation System_Internal_Lab_Question/users.csv', sep=';', error_bad_lines=False, encoding=\"latin-1\")\n",
        "users.columns = ['userID', 'Location', 'Age']\n",
        "\n",
        "ratings = pd.read_csv('/content/drive/MyDrive/ML/Recommendation System_Internal_Lab_Question (2)/Recommendation System_Internal_Lab_Question/ratings.csv', sep=';', error_bad_lines=False, encoding=\"latin-1\")\n",
        "ratings.columns = ['userID', 'ISBN', 'bookRating']"
      ],
      "execution_count": 61,
      "outputs": [
        {
          "output_type": "stream",
          "text": [
            "b'Skipping line 6452: expected 8 fields, saw 9\\nSkipping line 43667: expected 8 fields, saw 10\\nSkipping line 51751: expected 8 fields, saw 9\\n'\n",
            "b'Skipping line 92038: expected 8 fields, saw 9\\nSkipping line 104319: expected 8 fields, saw 9\\nSkipping line 121768: expected 8 fields, saw 9\\n'\n",
            "b'Skipping line 144058: expected 8 fields, saw 9\\nSkipping line 150789: expected 8 fields, saw 9\\nSkipping line 157128: expected 8 fields, saw 9\\nSkipping line 180189: expected 8 fields, saw 9\\nSkipping line 185738: expected 8 fields, saw 9\\n'\n",
            "b'Skipping line 209388: expected 8 fields, saw 9\\nSkipping line 220626: expected 8 fields, saw 9\\nSkipping line 227933: expected 8 fields, saw 11\\nSkipping line 228957: expected 8 fields, saw 10\\nSkipping line 245933: expected 8 fields, saw 9\\nSkipping line 251296: expected 8 fields, saw 9\\nSkipping line 259941: expected 8 fields, saw 9\\nSkipping line 261529: expected 8 fields, saw 9\\n'\n",
            "/usr/local/lib/python3.6/dist-packages/IPython/core/interactiveshell.py:2718: DtypeWarning: Columns (3) have mixed types.Specify dtype option on import or set low_memory=False.\n",
            "  interactivity=interactivity, compiler=compiler, result=result)\n"
          ],
          "name": "stderr"
        }
      ]
    },
    {
      "cell_type": "markdown",
      "metadata": {
        "id": "Ip_SwM7Yg0kC"
      },
      "source": [
        "# Q1. Explore the Dataset\n",
        "\n",
        "1.   Check shape of all the datasets\n",
        "2.   Print Columns in all the datasets\n",
        "3.   Remove last 3 columns of `books` ('imageUrlS', 'imageUrlM', 'imageUrlL')and verify\n",
        "\n"
      ]
    },
    {
      "cell_type": "code",
      "metadata": {
        "id": "zvs5CVRRhsBz",
        "colab": {
          "base_uri": "https://localhost:8080/"
        },
        "outputId": "b27193ff-a99d-4592-aa48-fc31b8932346"
      },
      "source": [
        "print(\"books counts = \" + str(books.shape))\r\n",
        "print(\"users counts = \" + str(users.shape))\r\n",
        "print(\"ratings counts = \" + str(ratings.shape))\r\n",
        "print(\"books columns = \" + str(books.columns))\r\n",
        "print(\"user columns = \" + str(users.columns))\r\n",
        "print(\"ratings columns = \" + str(ratings.columns))"
      ],
      "execution_count": 58,
      "outputs": [
        {
          "output_type": "stream",
          "text": [
            "books counts = (271360, 5)\n",
            "users counts = (278858, 3)\n",
            "ratings counts = (1149780, 3)\n",
            "books columns = Index(['ISBN', 'bookTitle', 'bookAuthor', 'yearOfPublication', 'publisher'], dtype='object')\n",
            "user columns = Index(['userID', 'Location', 'Age'], dtype='object')\n",
            "ratings columns = Index(['userID', 'ISBN', 'bookRating'], dtype='object')\n"
          ],
          "name": "stdout"
        }
      ]
    },
    {
      "cell_type": "code",
      "metadata": {
        "id": "tjFLg5eIgdMI"
      },
      "source": [
        "books.drop(columns=['imageUrlS', 'imageUrlM', 'imageUrlL'],inplace=True)"
      ],
      "execution_count": 62,
      "outputs": []
    },
    {
      "cell_type": "code",
      "metadata": {
        "colab": {
          "base_uri": "https://localhost:8080/",
          "height": 255
        },
        "id": "aGGm73EgicA2",
        "outputId": "6b089207-2336-4737-ce24-2d08359941b6"
      },
      "source": [
        "books.head()"
      ],
      "execution_count": 63,
      "outputs": [
        {
          "output_type": "execute_result",
          "data": {
            "text/html": [
              "<div>\n",
              "<style scoped>\n",
              "    .dataframe tbody tr th:only-of-type {\n",
              "        vertical-align: middle;\n",
              "    }\n",
              "\n",
              "    .dataframe tbody tr th {\n",
              "        vertical-align: top;\n",
              "    }\n",
              "\n",
              "    .dataframe thead th {\n",
              "        text-align: right;\n",
              "    }\n",
              "</style>\n",
              "<table border=\"1\" class=\"dataframe\">\n",
              "  <thead>\n",
              "    <tr style=\"text-align: right;\">\n",
              "      <th></th>\n",
              "      <th>ISBN</th>\n",
              "      <th>bookTitle</th>\n",
              "      <th>bookAuthor</th>\n",
              "      <th>yearOfPublication</th>\n",
              "      <th>publisher</th>\n",
              "    </tr>\n",
              "  </thead>\n",
              "  <tbody>\n",
              "    <tr>\n",
              "      <th>0</th>\n",
              "      <td>0195153448</td>\n",
              "      <td>Classical Mythology</td>\n",
              "      <td>Mark P. O. Morford</td>\n",
              "      <td>2002</td>\n",
              "      <td>Oxford University Press</td>\n",
              "    </tr>\n",
              "    <tr>\n",
              "      <th>1</th>\n",
              "      <td>0002005018</td>\n",
              "      <td>Clara Callan</td>\n",
              "      <td>Richard Bruce Wright</td>\n",
              "      <td>2001</td>\n",
              "      <td>HarperFlamingo Canada</td>\n",
              "    </tr>\n",
              "    <tr>\n",
              "      <th>2</th>\n",
              "      <td>0060973129</td>\n",
              "      <td>Decision in Normandy</td>\n",
              "      <td>Carlo D'Este</td>\n",
              "      <td>1991</td>\n",
              "      <td>HarperPerennial</td>\n",
              "    </tr>\n",
              "    <tr>\n",
              "      <th>3</th>\n",
              "      <td>0374157065</td>\n",
              "      <td>Flu: The Story of the Great Influenza Pandemic...</td>\n",
              "      <td>Gina Bari Kolata</td>\n",
              "      <td>1999</td>\n",
              "      <td>Farrar Straus Giroux</td>\n",
              "    </tr>\n",
              "    <tr>\n",
              "      <th>4</th>\n",
              "      <td>0393045218</td>\n",
              "      <td>The Mummies of Urumchi</td>\n",
              "      <td>E. J. W. Barber</td>\n",
              "      <td>1999</td>\n",
              "      <td>W. W. Norton &amp;amp; Company</td>\n",
              "    </tr>\n",
              "  </tbody>\n",
              "</table>\n",
              "</div>"
            ],
            "text/plain": [
              "         ISBN  ...                   publisher\n",
              "0  0195153448  ...     Oxford University Press\n",
              "1  0002005018  ...       HarperFlamingo Canada\n",
              "2  0060973129  ...             HarperPerennial\n",
              "3  0374157065  ...        Farrar Straus Giroux\n",
              "4  0393045218  ...  W. W. Norton &amp; Company\n",
              "\n",
              "[5 rows x 5 columns]"
            ]
          },
          "metadata": {
            "tags": []
          },
          "execution_count": 63
        }
      ]
    },
    {
      "cell_type": "code",
      "metadata": {
        "colab": {
          "base_uri": "https://localhost:8080/"
        },
        "id": "Tx_lUJhLiiSe",
        "outputId": "e3b0a814-f99a-4f49-ba25-1b784dccd999"
      },
      "source": [
        "books.columns"
      ],
      "execution_count": 64,
      "outputs": [
        {
          "output_type": "execute_result",
          "data": {
            "text/plain": [
              "Index(['ISBN', 'bookTitle', 'bookAuthor', 'yearOfPublication', 'publisher'], dtype='object')"
            ]
          },
          "metadata": {
            "tags": []
          },
          "execution_count": 64
        }
      ]
    },
    {
      "cell_type": "markdown",
      "metadata": {
        "id": "o64XqiBCiBWJ"
      },
      "source": [
        "# Q2. Data Preprocessing\n",
        "\n",
        "### Create new DataFrame `ratings_new` with:\n",
        "1.   Books from `ratings` Dataset, which exists in `books` Dataset (Intersect on ISBN)\n",
        "2.   Ratings from `ratings` Dataset, which exists in `users` Dataset (Intersect on userID)\n"
      ]
    },
    {
      "cell_type": "code",
      "metadata": {
        "colab": {
          "base_uri": "https://localhost:8080/",
          "height": 204
        },
        "id": "5upG1jxfmnhL",
        "outputId": "9042387f-4767-4db1-a5bf-446928a56066"
      },
      "source": [
        "ratings.head()"
      ],
      "execution_count": 66,
      "outputs": [
        {
          "output_type": "execute_result",
          "data": {
            "text/html": [
              "<div>\n",
              "<style scoped>\n",
              "    .dataframe tbody tr th:only-of-type {\n",
              "        vertical-align: middle;\n",
              "    }\n",
              "\n",
              "    .dataframe tbody tr th {\n",
              "        vertical-align: top;\n",
              "    }\n",
              "\n",
              "    .dataframe thead th {\n",
              "        text-align: right;\n",
              "    }\n",
              "</style>\n",
              "<table border=\"1\" class=\"dataframe\">\n",
              "  <thead>\n",
              "    <tr style=\"text-align: right;\">\n",
              "      <th></th>\n",
              "      <th>userID</th>\n",
              "      <th>ISBN</th>\n",
              "      <th>bookRating</th>\n",
              "    </tr>\n",
              "  </thead>\n",
              "  <tbody>\n",
              "    <tr>\n",
              "      <th>0</th>\n",
              "      <td>276725</td>\n",
              "      <td>034545104X</td>\n",
              "      <td>0</td>\n",
              "    </tr>\n",
              "    <tr>\n",
              "      <th>1</th>\n",
              "      <td>276726</td>\n",
              "      <td>0155061224</td>\n",
              "      <td>5</td>\n",
              "    </tr>\n",
              "    <tr>\n",
              "      <th>2</th>\n",
              "      <td>276727</td>\n",
              "      <td>0446520802</td>\n",
              "      <td>0</td>\n",
              "    </tr>\n",
              "    <tr>\n",
              "      <th>3</th>\n",
              "      <td>276729</td>\n",
              "      <td>052165615X</td>\n",
              "      <td>3</td>\n",
              "    </tr>\n",
              "    <tr>\n",
              "      <th>4</th>\n",
              "      <td>276729</td>\n",
              "      <td>0521795028</td>\n",
              "      <td>6</td>\n",
              "    </tr>\n",
              "  </tbody>\n",
              "</table>\n",
              "</div>"
            ],
            "text/plain": [
              "   userID        ISBN  bookRating\n",
              "0  276725  034545104X           0\n",
              "1  276726  0155061224           5\n",
              "2  276727  0446520802           0\n",
              "3  276729  052165615X           3\n",
              "4  276729  0521795028           6"
            ]
          },
          "metadata": {
            "tags": []
          },
          "execution_count": 66
        }
      ]
    },
    {
      "cell_type": "markdown",
      "metadata": {
        "id": "QoOnmvaImyvr"
      },
      "source": [
        ""
      ]
    },
    {
      "cell_type": "code",
      "metadata": {
        "colab": {
          "base_uri": "https://localhost:8080/",
          "height": 204
        },
        "id": "BZ03YkDJmrdp",
        "outputId": "e1efcf1b-5ea2-47b5-894f-eff7caea6102"
      },
      "source": [
        "users.head()"
      ],
      "execution_count": 67,
      "outputs": [
        {
          "output_type": "execute_result",
          "data": {
            "text/html": [
              "<div>\n",
              "<style scoped>\n",
              "    .dataframe tbody tr th:only-of-type {\n",
              "        vertical-align: middle;\n",
              "    }\n",
              "\n",
              "    .dataframe tbody tr th {\n",
              "        vertical-align: top;\n",
              "    }\n",
              "\n",
              "    .dataframe thead th {\n",
              "        text-align: right;\n",
              "    }\n",
              "</style>\n",
              "<table border=\"1\" class=\"dataframe\">\n",
              "  <thead>\n",
              "    <tr style=\"text-align: right;\">\n",
              "      <th></th>\n",
              "      <th>userID</th>\n",
              "      <th>Location</th>\n",
              "      <th>Age</th>\n",
              "    </tr>\n",
              "  </thead>\n",
              "  <tbody>\n",
              "    <tr>\n",
              "      <th>0</th>\n",
              "      <td>1</td>\n",
              "      <td>nyc, new york, usa</td>\n",
              "      <td>NaN</td>\n",
              "    </tr>\n",
              "    <tr>\n",
              "      <th>1</th>\n",
              "      <td>2</td>\n",
              "      <td>stockton, california, usa</td>\n",
              "      <td>18.0</td>\n",
              "    </tr>\n",
              "    <tr>\n",
              "      <th>2</th>\n",
              "      <td>3</td>\n",
              "      <td>moscow, yukon territory, russia</td>\n",
              "      <td>NaN</td>\n",
              "    </tr>\n",
              "    <tr>\n",
              "      <th>3</th>\n",
              "      <td>4</td>\n",
              "      <td>porto, v.n.gaia, portugal</td>\n",
              "      <td>17.0</td>\n",
              "    </tr>\n",
              "    <tr>\n",
              "      <th>4</th>\n",
              "      <td>5</td>\n",
              "      <td>farnborough, hants, united kingdom</td>\n",
              "      <td>NaN</td>\n",
              "    </tr>\n",
              "  </tbody>\n",
              "</table>\n",
              "</div>"
            ],
            "text/plain": [
              "   userID                            Location   Age\n",
              "0       1                  nyc, new york, usa   NaN\n",
              "1       2           stockton, california, usa  18.0\n",
              "2       3     moscow, yukon territory, russia   NaN\n",
              "3       4           porto, v.n.gaia, portugal  17.0\n",
              "4       5  farnborough, hants, united kingdom   NaN"
            ]
          },
          "metadata": {
            "tags": []
          },
          "execution_count": 67
        }
      ]
    },
    {
      "cell_type": "code",
      "metadata": {
        "id": "81Cnk5YWlCyN"
      },
      "source": [
        "ratings_new = ratings[ratings.ISBN.isin(books.ISBN)]"
      ],
      "execution_count": 69,
      "outputs": []
    },
    {
      "cell_type": "code",
      "metadata": {
        "colab": {
          "base_uri": "https://localhost:8080/"
        },
        "id": "7smI46X0n2bc",
        "outputId": "9b61e34f-97cd-4a3e-8e2b-767f026e6a8c"
      },
      "source": [
        "ratings_new = ratings_new[ratings.userID.isin(users.userID)]"
      ],
      "execution_count": 71,
      "outputs": [
        {
          "output_type": "stream",
          "text": [
            "/usr/local/lib/python3.6/dist-packages/ipykernel_launcher.py:1: UserWarning: Boolean Series key will be reindexed to match DataFrame index.\n",
            "  \"\"\"Entry point for launching an IPython kernel.\n"
          ],
          "name": "stderr"
        }
      ]
    },
    {
      "cell_type": "code",
      "metadata": {
        "colab": {
          "base_uri": "https://localhost:8080/",
          "height": 204
        },
        "id": "05qnlp8Un2dv",
        "outputId": "403f13ea-0de9-441b-d5b4-aa024c3b9bfc"
      },
      "source": [
        "ratings_new.head()"
      ],
      "execution_count": 72,
      "outputs": [
        {
          "output_type": "execute_result",
          "data": {
            "text/html": [
              "<div>\n",
              "<style scoped>\n",
              "    .dataframe tbody tr th:only-of-type {\n",
              "        vertical-align: middle;\n",
              "    }\n",
              "\n",
              "    .dataframe tbody tr th {\n",
              "        vertical-align: top;\n",
              "    }\n",
              "\n",
              "    .dataframe thead th {\n",
              "        text-align: right;\n",
              "    }\n",
              "</style>\n",
              "<table border=\"1\" class=\"dataframe\">\n",
              "  <thead>\n",
              "    <tr style=\"text-align: right;\">\n",
              "      <th></th>\n",
              "      <th>userID</th>\n",
              "      <th>ISBN</th>\n",
              "      <th>bookRating</th>\n",
              "    </tr>\n",
              "  </thead>\n",
              "  <tbody>\n",
              "    <tr>\n",
              "      <th>0</th>\n",
              "      <td>276725</td>\n",
              "      <td>034545104X</td>\n",
              "      <td>0</td>\n",
              "    </tr>\n",
              "    <tr>\n",
              "      <th>1</th>\n",
              "      <td>276726</td>\n",
              "      <td>0155061224</td>\n",
              "      <td>5</td>\n",
              "    </tr>\n",
              "    <tr>\n",
              "      <th>2</th>\n",
              "      <td>276727</td>\n",
              "      <td>0446520802</td>\n",
              "      <td>0</td>\n",
              "    </tr>\n",
              "    <tr>\n",
              "      <th>3</th>\n",
              "      <td>276729</td>\n",
              "      <td>052165615X</td>\n",
              "      <td>3</td>\n",
              "    </tr>\n",
              "    <tr>\n",
              "      <th>4</th>\n",
              "      <td>276729</td>\n",
              "      <td>0521795028</td>\n",
              "      <td>6</td>\n",
              "    </tr>\n",
              "  </tbody>\n",
              "</table>\n",
              "</div>"
            ],
            "text/plain": [
              "   userID        ISBN  bookRating\n",
              "0  276725  034545104X           0\n",
              "1  276726  0155061224           5\n",
              "2  276727  0446520802           0\n",
              "3  276729  052165615X           3\n",
              "4  276729  0521795028           6"
            ]
          },
          "metadata": {
            "tags": []
          },
          "execution_count": 72
        }
      ]
    },
    {
      "cell_type": "code",
      "metadata": {
        "colab": {
          "base_uri": "https://localhost:8080/"
        },
        "id": "cY3NpaMCn2hC",
        "outputId": "f5ecbf0b-81b3-4bc1-b1e1-1c69b6a09890"
      },
      "source": [
        "ratings_new.shape"
      ],
      "execution_count": 73,
      "outputs": [
        {
          "output_type": "execute_result",
          "data": {
            "text/plain": [
              "(1031136, 3)"
            ]
          },
          "metadata": {
            "tags": []
          },
          "execution_count": 73
        }
      ]
    },
    {
      "cell_type": "markdown",
      "metadata": {
        "id": "bmmPfSH-nT7t"
      },
      "source": [
        "# Q3. Data Preprocessing\n",
        "\n",
        "### In new Dataframe, drop rows with 0 `bookRating`, since 0 is mentioned as 'Implicit Rating'.\n",
        "#### (Check shape of new Dataframe before and after dropping 0s)\n"
      ]
    },
    {
      "cell_type": "code",
      "metadata": {
        "colab": {
          "base_uri": "https://localhost:8080/"
        },
        "id": "C2o-vgQin13J",
        "outputId": "9ae74eb0-7f62-46c6-c51b-29226f747e34"
      },
      "source": [
        "ratings_new[\"bookRating\"].unique()"
      ],
      "execution_count": 78,
      "outputs": [
        {
          "output_type": "execute_result",
          "data": {
            "text/plain": [
              "array([ 0,  5,  3,  6,  7,  9,  8, 10,  1,  4,  2])"
            ]
          },
          "metadata": {
            "tags": []
          },
          "execution_count": 78
        }
      ]
    },
    {
      "cell_type": "code",
      "metadata": {
        "id": "QHnFbxh9n6XT"
      },
      "source": [
        ""
      ],
      "execution_count": null,
      "outputs": []
    },
    {
      "cell_type": "markdown",
      "metadata": {
        "id": "zHfr8zlSoLzW"
      },
      "source": [
        "# Q4. Check rating's distribution\n",
        "### Plot a visual to identify highest occuring rating "
      ]
    },
    {
      "cell_type": "code",
      "metadata": {
        "id": "10PFwecTpMyZ"
      },
      "source": [
        ""
      ],
      "execution_count": null,
      "outputs": []
    },
    {
      "cell_type": "markdown",
      "metadata": {
        "id": "TVFbUn6MpOWQ"
      },
      "source": [
        "# Q5. Build a User-Based Collaborative Filtering model\n",
        "\n",
        "\n",
        "\n",
        "1.   Consider users who have rated atleast 100 books\n",
        "2.   Transform data to surprise format\n",
        "3.   Assure that only user, book and rating columns are present in the new dataset in surprise format\n",
        "\n"
      ]
    },
    {
      "cell_type": "code",
      "metadata": {
        "id": "eegJk3kfqcHx"
      },
      "source": [
        ""
      ],
      "execution_count": null,
      "outputs": []
    },
    {
      "cell_type": "code",
      "metadata": {
        "id": "15UyHGWYqdR3",
        "colab": {
          "base_uri": "https://localhost:8080/",
          "height": 368
        },
        "outputId": "e631d4d0-6865-4022-ab27-64848c782714"
      },
      "source": [
        "#2 Transform data to surprise format\n",
        "from surprise import Dataset,Reader\n",
        "from surprise.model_selection import cross_validate\n",
        "from surprise import NormalPredictor\n",
        "\n",
        "\n",
        "reader = Reader(rating_scale=(1, 10))"
      ],
      "execution_count": 65,
      "outputs": [
        {
          "output_type": "error",
          "ename": "ModuleNotFoundError",
          "evalue": "ignored",
          "traceback": [
            "\u001b[0;31m---------------------------------------------------------------------------\u001b[0m",
            "\u001b[0;31mModuleNotFoundError\u001b[0m                       Traceback (most recent call last)",
            "\u001b[0;32m<ipython-input-65-82c33a505713>\u001b[0m in \u001b[0;36m<module>\u001b[0;34m()\u001b[0m\n\u001b[1;32m      1\u001b[0m \u001b[0;31m#2 Transform data to surprise format\u001b[0m\u001b[0;34m\u001b[0m\u001b[0;34m\u001b[0m\u001b[0;34m\u001b[0m\u001b[0m\n\u001b[0;32m----> 2\u001b[0;31m \u001b[0;32mfrom\u001b[0m \u001b[0msurprise\u001b[0m \u001b[0;32mimport\u001b[0m \u001b[0mDataset\u001b[0m\u001b[0;34m,\u001b[0m\u001b[0mReader\u001b[0m\u001b[0;34m\u001b[0m\u001b[0;34m\u001b[0m\u001b[0m\n\u001b[0m\u001b[1;32m      3\u001b[0m \u001b[0;32mfrom\u001b[0m \u001b[0msurprise\u001b[0m\u001b[0;34m.\u001b[0m\u001b[0mmodel_selection\u001b[0m \u001b[0;32mimport\u001b[0m \u001b[0mcross_validate\u001b[0m\u001b[0;34m\u001b[0m\u001b[0;34m\u001b[0m\u001b[0m\n\u001b[1;32m      4\u001b[0m \u001b[0;32mfrom\u001b[0m \u001b[0msurprise\u001b[0m \u001b[0;32mimport\u001b[0m \u001b[0mNormalPredictor\u001b[0m\u001b[0;34m\u001b[0m\u001b[0;34m\u001b[0m\u001b[0m\n\u001b[1;32m      5\u001b[0m \u001b[0;34m\u001b[0m\u001b[0m\n",
            "\u001b[0;31mModuleNotFoundError\u001b[0m: No module named 'surprise'",
            "",
            "\u001b[0;31m---------------------------------------------------------------------------\u001b[0;32m\nNOTE: If your import is failing due to a missing package, you can\nmanually install dependencies using either !pip or !apt.\n\nTo view examples of installing some common dependencies, click the\n\"Open Examples\" button below.\n\u001b[0;31m---------------------------------------------------------------------------\u001b[0m\n"
          ]
        }
      ]
    },
    {
      "cell_type": "code",
      "metadata": {
        "id": "F-41r8Y_qkSO"
      },
      "source": [
        ""
      ],
      "execution_count": null,
      "outputs": []
    },
    {
      "cell_type": "code",
      "metadata": {
        "id": "I3Mm2lzYqjlh"
      },
      "source": [
        ""
      ],
      "execution_count": null,
      "outputs": []
    },
    {
      "cell_type": "markdown",
      "metadata": {
        "id": "HvA-Zc_AsRv0"
      },
      "source": [
        "# Q6. Apply SVD for user based filtering\n",
        "\n",
        "\n",
        "1.   Split the data into train and test\n",
        "2.   Train model on SVD\n",
        "3.   Test Accuracy of the model\n",
        "\n",
        "\n"
      ]
    },
    {
      "cell_type": "code",
      "metadata": {
        "id": "QbOzx2Vysbhu"
      },
      "source": [
        ""
      ],
      "execution_count": null,
      "outputs": []
    },
    {
      "cell_type": "markdown",
      "metadata": {
        "id": "suLvEjzVuIvR"
      },
      "source": [
        "# Q7. Create a function to generate `n` recommendations for user `x`. (n, x should be parameterized)"
      ]
    },
    {
      "cell_type": "code",
      "metadata": {
        "id": "KTPyah6QuyS8"
      },
      "source": [
        ""
      ],
      "execution_count": null,
      "outputs": []
    }
  ]
}