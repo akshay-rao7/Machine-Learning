{
 "cells": [
  {
   "cell_type": "code",
   "execution_count": 1,
   "metadata": {
    "execution": {
     "iopub.execute_input": "2021-01-19T22:20:59.659819Z",
     "iopub.status.busy": "2021-01-19T22:20:59.658882Z",
     "iopub.status.idle": "2021-01-19T22:21:00.696989Z",
     "shell.execute_reply": "2021-01-19T22:21:00.696078Z"
    },
    "papermill": {
     "duration": 1.066731,
     "end_time": "2021-01-19T22:21:00.697131",
     "exception": false,
     "start_time": "2021-01-19T22:20:59.630400",
     "status": "completed"
    },
    "tags": []
   },
   "outputs": [],
   "source": [
    "import numpy as np\n",
    "import pandas as pd\n",
    "import matplotlib.pyplot as plt\n",
    "import seaborn as sb\n"
   ]
  },
  {
   "cell_type": "code",
   "execution_count": 2,
   "metadata": {
    "execution": {
     "iopub.execute_input": "2021-01-19T22:21:00.753870Z",
     "iopub.status.busy": "2021-01-19T22:21:00.753164Z",
     "iopub.status.idle": "2021-01-19T22:21:01.294355Z",
     "shell.execute_reply": "2021-01-19T22:21:01.293759Z"
    },
    "papermill": {
     "duration": 0.574643,
     "end_time": "2021-01-19T22:21:01.294486",
     "exception": false,
     "start_time": "2021-01-19T22:21:00.719843",
     "status": "completed"
    },
    "tags": []
   },
   "outputs": [
    {
     "name": "stderr",
     "output_type": "stream",
     "text": [
      "C:\\Users\\Akshay Rao\\anaconda3\\lib\\site-packages\\IPython\\core\\interactiveshell.py:3146: DtypeWarning: Columns (3,4,5,6,12) have mixed types.Specify dtype option on import or set low_memory=False.\n",
      "  has_raised = await self.run_ast_nodes(code_ast.body, cell_name,\n"
     ]
    }
   ],
   "source": [
    "df=pd.read_csv('Salaries.csv')"
   ]
  },
  {
   "cell_type": "code",
   "execution_count": 3,
   "metadata": {
    "execution": {
     "iopub.execute_input": "2021-01-19T22:21:01.359829Z",
     "iopub.status.busy": "2021-01-19T22:21:01.347986Z",
     "iopub.status.idle": "2021-01-19T22:21:01.376372Z",
     "shell.execute_reply": "2021-01-19T22:21:01.376908Z"
    },
    "papermill": {
     "duration": 0.06001,
     "end_time": "2021-01-19T22:21:01.377054",
     "exception": false,
     "start_time": "2021-01-19T22:21:01.317044",
     "status": "completed"
    },
    "tags": []
   },
   "outputs": [
    {
     "data": {
      "text/html": [
       "<div>\n",
       "<style scoped>\n",
       "    .dataframe tbody tr th:only-of-type {\n",
       "        vertical-align: middle;\n",
       "    }\n",
       "\n",
       "    .dataframe tbody tr th {\n",
       "        vertical-align: top;\n",
       "    }\n",
       "\n",
       "    .dataframe thead th {\n",
       "        text-align: right;\n",
       "    }\n",
       "</style>\n",
       "<table border=\"1\" class=\"dataframe\">\n",
       "  <thead>\n",
       "    <tr style=\"text-align: right;\">\n",
       "      <th></th>\n",
       "      <th>Id</th>\n",
       "      <th>EmployeeName</th>\n",
       "      <th>JobTitle</th>\n",
       "      <th>BasePay</th>\n",
       "      <th>OvertimePay</th>\n",
       "      <th>OtherPay</th>\n",
       "      <th>Benefits</th>\n",
       "      <th>TotalPay</th>\n",
       "      <th>TotalPayBenefits</th>\n",
       "      <th>Year</th>\n",
       "      <th>Notes</th>\n",
       "      <th>Agency</th>\n",
       "      <th>Status</th>\n",
       "    </tr>\n",
       "  </thead>\n",
       "  <tbody>\n",
       "    <tr>\n",
       "      <th>0</th>\n",
       "      <td>1</td>\n",
       "      <td>NATHANIEL FORD</td>\n",
       "      <td>GENERAL MANAGER-METROPOLITAN TRANSIT AUTHORITY</td>\n",
       "      <td>167411</td>\n",
       "      <td>0</td>\n",
       "      <td>400184</td>\n",
       "      <td>NaN</td>\n",
       "      <td>567595.43</td>\n",
       "      <td>567595.43</td>\n",
       "      <td>2011</td>\n",
       "      <td>NaN</td>\n",
       "      <td>San Francisco</td>\n",
       "      <td>NaN</td>\n",
       "    </tr>\n",
       "    <tr>\n",
       "      <th>1</th>\n",
       "      <td>2</td>\n",
       "      <td>GARY JIMENEZ</td>\n",
       "      <td>CAPTAIN III (POLICE DEPARTMENT)</td>\n",
       "      <td>155966</td>\n",
       "      <td>245132</td>\n",
       "      <td>137811</td>\n",
       "      <td>NaN</td>\n",
       "      <td>538909.28</td>\n",
       "      <td>538909.28</td>\n",
       "      <td>2011</td>\n",
       "      <td>NaN</td>\n",
       "      <td>San Francisco</td>\n",
       "      <td>NaN</td>\n",
       "    </tr>\n",
       "    <tr>\n",
       "      <th>2</th>\n",
       "      <td>3</td>\n",
       "      <td>ALBERT PARDINI</td>\n",
       "      <td>CAPTAIN III (POLICE DEPARTMENT)</td>\n",
       "      <td>212739</td>\n",
       "      <td>106088</td>\n",
       "      <td>16452.6</td>\n",
       "      <td>NaN</td>\n",
       "      <td>335279.91</td>\n",
       "      <td>335279.91</td>\n",
       "      <td>2011</td>\n",
       "      <td>NaN</td>\n",
       "      <td>San Francisco</td>\n",
       "      <td>NaN</td>\n",
       "    </tr>\n",
       "    <tr>\n",
       "      <th>3</th>\n",
       "      <td>4</td>\n",
       "      <td>CHRISTOPHER CHONG</td>\n",
       "      <td>WIRE ROPE CABLE MAINTENANCE MECHANIC</td>\n",
       "      <td>77916</td>\n",
       "      <td>56120.7</td>\n",
       "      <td>198307</td>\n",
       "      <td>NaN</td>\n",
       "      <td>332343.61</td>\n",
       "      <td>332343.61</td>\n",
       "      <td>2011</td>\n",
       "      <td>NaN</td>\n",
       "      <td>San Francisco</td>\n",
       "      <td>NaN</td>\n",
       "    </tr>\n",
       "    <tr>\n",
       "      <th>4</th>\n",
       "      <td>5</td>\n",
       "      <td>PATRICK GARDNER</td>\n",
       "      <td>DEPUTY CHIEF OF DEPARTMENT,(FIRE DEPARTMENT)</td>\n",
       "      <td>134402</td>\n",
       "      <td>9737</td>\n",
       "      <td>182235</td>\n",
       "      <td>NaN</td>\n",
       "      <td>326373.19</td>\n",
       "      <td>326373.19</td>\n",
       "      <td>2011</td>\n",
       "      <td>NaN</td>\n",
       "      <td>San Francisco</td>\n",
       "      <td>NaN</td>\n",
       "    </tr>\n",
       "  </tbody>\n",
       "</table>\n",
       "</div>"
      ],
      "text/plain": [
       "   Id       EmployeeName                                        JobTitle  \\\n",
       "0   1     NATHANIEL FORD  GENERAL MANAGER-METROPOLITAN TRANSIT AUTHORITY   \n",
       "1   2       GARY JIMENEZ                 CAPTAIN III (POLICE DEPARTMENT)   \n",
       "2   3     ALBERT PARDINI                 CAPTAIN III (POLICE DEPARTMENT)   \n",
       "3   4  CHRISTOPHER CHONG            WIRE ROPE CABLE MAINTENANCE MECHANIC   \n",
       "4   5    PATRICK GARDNER    DEPUTY CHIEF OF DEPARTMENT,(FIRE DEPARTMENT)   \n",
       "\n",
       "  BasePay OvertimePay OtherPay Benefits   TotalPay  TotalPayBenefits  Year  \\\n",
       "0  167411           0   400184      NaN  567595.43         567595.43  2011   \n",
       "1  155966      245132   137811      NaN  538909.28         538909.28  2011   \n",
       "2  212739      106088  16452.6      NaN  335279.91         335279.91  2011   \n",
       "3   77916     56120.7   198307      NaN  332343.61         332343.61  2011   \n",
       "4  134402        9737   182235      NaN  326373.19         326373.19  2011   \n",
       "\n",
       "   Notes         Agency Status  \n",
       "0    NaN  San Francisco    NaN  \n",
       "1    NaN  San Francisco    NaN  \n",
       "2    NaN  San Francisco    NaN  \n",
       "3    NaN  San Francisco    NaN  \n",
       "4    NaN  San Francisco    NaN  "
      ]
     },
     "execution_count": 3,
     "metadata": {},
     "output_type": "execute_result"
    }
   ],
   "source": [
    "df.head()"
   ]
  },
  {
   "cell_type": "code",
   "execution_count": 4,
   "metadata": {
    "execution": {
     "iopub.execute_input": "2021-01-19T22:21:01.437333Z",
     "iopub.status.busy": "2021-01-19T22:21:01.436355Z",
     "iopub.status.idle": "2021-01-19T22:21:01.502313Z",
     "shell.execute_reply": "2021-01-19T22:21:01.502830Z"
    },
    "papermill": {
     "duration": 0.101231,
     "end_time": "2021-01-19T22:21:01.502994",
     "exception": false,
     "start_time": "2021-01-19T22:21:01.401763",
     "status": "completed"
    },
    "tags": []
   },
   "outputs": [
    {
     "name": "stdout",
     "output_type": "stream",
     "text": [
      "<class 'pandas.core.frame.DataFrame'>\n",
      "RangeIndex: 148654 entries, 0 to 148653\n",
      "Data columns (total 13 columns):\n",
      " #   Column            Non-Null Count   Dtype  \n",
      "---  ------            --------------   -----  \n",
      " 0   Id                148654 non-null  int64  \n",
      " 1   EmployeeName      148654 non-null  object \n",
      " 2   JobTitle          148654 non-null  object \n",
      " 3   BasePay           148049 non-null  object \n",
      " 4   OvertimePay       148654 non-null  object \n",
      " 5   OtherPay          148654 non-null  object \n",
      " 6   Benefits          112495 non-null  object \n",
      " 7   TotalPay          148654 non-null  float64\n",
      " 8   TotalPayBenefits  148654 non-null  float64\n",
      " 9   Year              148654 non-null  int64  \n",
      " 10  Notes             0 non-null       float64\n",
      " 11  Agency            148654 non-null  object \n",
      " 12  Status            38119 non-null   object \n",
      "dtypes: float64(3), int64(2), object(8)\n",
      "memory usage: 14.7+ MB\n"
     ]
    }
   ],
   "source": [
    "df.info()"
   ]
  },
  {
   "cell_type": "code",
   "execution_count": 5,
   "metadata": {
    "execution": {
     "iopub.execute_input": "2021-01-19T22:21:01.567539Z",
     "iopub.status.busy": "2021-01-19T22:21:01.556545Z",
     "iopub.status.idle": "2021-01-19T22:21:01.570832Z",
     "shell.execute_reply": "2021-01-19T22:21:01.570059Z"
    },
    "papermill": {
     "duration": 0.044293,
     "end_time": "2021-01-19T22:21:01.570949",
     "exception": false,
     "start_time": "2021-01-19T22:21:01.526656",
     "status": "completed"
    },
    "tags": []
   },
   "outputs": [],
   "source": [
    "df.drop('Notes' ,axis=1 ,inplace=True)\n"
   ]
  },
  {
   "cell_type": "code",
   "execution_count": 6,
   "metadata": {
    "execution": {
     "iopub.execute_input": "2021-01-19T22:21:01.636346Z",
     "iopub.status.busy": "2021-01-19T22:21:01.635329Z",
     "iopub.status.idle": "2021-01-19T22:21:01.638674Z",
     "shell.execute_reply": "2021-01-19T22:21:01.638058Z"
    },
    "papermill": {
     "duration": 0.044435,
     "end_time": "2021-01-19T22:21:01.638782",
     "exception": false,
     "start_time": "2021-01-19T22:21:01.594347",
     "status": "completed"
    },
    "tags": []
   },
   "outputs": [],
   "source": [
    "df.drop('Status',axis=1,inplace=True)"
   ]
  },
  {
   "cell_type": "code",
   "execution_count": 7,
   "metadata": {
    "execution": {
     "iopub.execute_input": "2021-01-19T22:21:01.704004Z",
     "iopub.status.busy": "2021-01-19T22:21:01.703096Z",
     "iopub.status.idle": "2021-01-19T22:21:01.707658Z",
     "shell.execute_reply": "2021-01-19T22:21:01.708211Z"
    },
    "papermill": {
     "duration": 0.045482,
     "end_time": "2021-01-19T22:21:01.708354",
     "exception": false,
     "start_time": "2021-01-19T22:21:01.662872",
     "status": "completed"
    },
    "tags": []
   },
   "outputs": [
    {
     "data": {
      "text/html": [
       "<div>\n",
       "<style scoped>\n",
       "    .dataframe tbody tr th:only-of-type {\n",
       "        vertical-align: middle;\n",
       "    }\n",
       "\n",
       "    .dataframe tbody tr th {\n",
       "        vertical-align: top;\n",
       "    }\n",
       "\n",
       "    .dataframe thead th {\n",
       "        text-align: right;\n",
       "    }\n",
       "</style>\n",
       "<table border=\"1\" class=\"dataframe\">\n",
       "  <thead>\n",
       "    <tr style=\"text-align: right;\">\n",
       "      <th></th>\n",
       "      <th>Id</th>\n",
       "      <th>EmployeeName</th>\n",
       "      <th>JobTitle</th>\n",
       "      <th>BasePay</th>\n",
       "      <th>OvertimePay</th>\n",
       "      <th>OtherPay</th>\n",
       "      <th>Benefits</th>\n",
       "      <th>TotalPay</th>\n",
       "      <th>TotalPayBenefits</th>\n",
       "      <th>Year</th>\n",
       "      <th>Agency</th>\n",
       "    </tr>\n",
       "  </thead>\n",
       "  <tbody>\n",
       "    <tr>\n",
       "      <th>0</th>\n",
       "      <td>1</td>\n",
       "      <td>NATHANIEL FORD</td>\n",
       "      <td>GENERAL MANAGER-METROPOLITAN TRANSIT AUTHORITY</td>\n",
       "      <td>167411</td>\n",
       "      <td>0</td>\n",
       "      <td>400184</td>\n",
       "      <td>NaN</td>\n",
       "      <td>567595.43</td>\n",
       "      <td>567595.43</td>\n",
       "      <td>2011</td>\n",
       "      <td>San Francisco</td>\n",
       "    </tr>\n",
       "    <tr>\n",
       "      <th>1</th>\n",
       "      <td>2</td>\n",
       "      <td>GARY JIMENEZ</td>\n",
       "      <td>CAPTAIN III (POLICE DEPARTMENT)</td>\n",
       "      <td>155966</td>\n",
       "      <td>245132</td>\n",
       "      <td>137811</td>\n",
       "      <td>NaN</td>\n",
       "      <td>538909.28</td>\n",
       "      <td>538909.28</td>\n",
       "      <td>2011</td>\n",
       "      <td>San Francisco</td>\n",
       "    </tr>\n",
       "    <tr>\n",
       "      <th>2</th>\n",
       "      <td>3</td>\n",
       "      <td>ALBERT PARDINI</td>\n",
       "      <td>CAPTAIN III (POLICE DEPARTMENT)</td>\n",
       "      <td>212739</td>\n",
       "      <td>106088</td>\n",
       "      <td>16452.6</td>\n",
       "      <td>NaN</td>\n",
       "      <td>335279.91</td>\n",
       "      <td>335279.91</td>\n",
       "      <td>2011</td>\n",
       "      <td>San Francisco</td>\n",
       "    </tr>\n",
       "    <tr>\n",
       "      <th>3</th>\n",
       "      <td>4</td>\n",
       "      <td>CHRISTOPHER CHONG</td>\n",
       "      <td>WIRE ROPE CABLE MAINTENANCE MECHANIC</td>\n",
       "      <td>77916</td>\n",
       "      <td>56120.7</td>\n",
       "      <td>198307</td>\n",
       "      <td>NaN</td>\n",
       "      <td>332343.61</td>\n",
       "      <td>332343.61</td>\n",
       "      <td>2011</td>\n",
       "      <td>San Francisco</td>\n",
       "    </tr>\n",
       "    <tr>\n",
       "      <th>4</th>\n",
       "      <td>5</td>\n",
       "      <td>PATRICK GARDNER</td>\n",
       "      <td>DEPUTY CHIEF OF DEPARTMENT,(FIRE DEPARTMENT)</td>\n",
       "      <td>134402</td>\n",
       "      <td>9737</td>\n",
       "      <td>182235</td>\n",
       "      <td>NaN</td>\n",
       "      <td>326373.19</td>\n",
       "      <td>326373.19</td>\n",
       "      <td>2011</td>\n",
       "      <td>San Francisco</td>\n",
       "    </tr>\n",
       "  </tbody>\n",
       "</table>\n",
       "</div>"
      ],
      "text/plain": [
       "   Id       EmployeeName                                        JobTitle  \\\n",
       "0   1     NATHANIEL FORD  GENERAL MANAGER-METROPOLITAN TRANSIT AUTHORITY   \n",
       "1   2       GARY JIMENEZ                 CAPTAIN III (POLICE DEPARTMENT)   \n",
       "2   3     ALBERT PARDINI                 CAPTAIN III (POLICE DEPARTMENT)   \n",
       "3   4  CHRISTOPHER CHONG            WIRE ROPE CABLE MAINTENANCE MECHANIC   \n",
       "4   5    PATRICK GARDNER    DEPUTY CHIEF OF DEPARTMENT,(FIRE DEPARTMENT)   \n",
       "\n",
       "  BasePay OvertimePay OtherPay Benefits   TotalPay  TotalPayBenefits  Year  \\\n",
       "0  167411           0   400184      NaN  567595.43         567595.43  2011   \n",
       "1  155966      245132   137811      NaN  538909.28         538909.28  2011   \n",
       "2  212739      106088  16452.6      NaN  335279.91         335279.91  2011   \n",
       "3   77916     56120.7   198307      NaN  332343.61         332343.61  2011   \n",
       "4  134402        9737   182235      NaN  326373.19         326373.19  2011   \n",
       "\n",
       "          Agency  \n",
       "0  San Francisco  \n",
       "1  San Francisco  \n",
       "2  San Francisco  \n",
       "3  San Francisco  \n",
       "4  San Francisco  "
      ]
     },
     "execution_count": 7,
     "metadata": {},
     "output_type": "execute_result"
    }
   ],
   "source": [
    "df.head()\n"
   ]
  },
  {
   "cell_type": "code",
   "execution_count": 8,
   "metadata": {
    "execution": {
     "iopub.execute_input": "2021-01-19T22:21:01.763081Z",
     "iopub.status.busy": "2021-01-19T22:21:01.762124Z",
     "iopub.status.idle": "2021-01-19T22:21:01.766597Z",
     "shell.execute_reply": "2021-01-19T22:21:01.767155Z"
    },
    "papermill": {
     "duration": 0.034514,
     "end_time": "2021-01-19T22:21:01.767296",
     "exception": false,
     "start_time": "2021-01-19T22:21:01.732782",
     "status": "completed"
    },
    "tags": []
   },
   "outputs": [],
   "source": [
    "years=df['Year'].unique()"
   ]
  },
  {
   "cell_type": "code",
   "execution_count": 9,
   "metadata": {
    "execution": {
     "iopub.execute_input": "2021-01-19T22:21:01.823553Z",
     "iopub.status.busy": "2021-01-19T22:21:01.822666Z",
     "iopub.status.idle": "2021-01-19T22:21:01.826422Z",
     "shell.execute_reply": "2021-01-19T22:21:01.825766Z"
    },
    "papermill": {
     "duration": 0.034128,
     "end_time": "2021-01-19T22:21:01.826536",
     "exception": false,
     "start_time": "2021-01-19T22:21:01.792408",
     "status": "completed"
    },
    "tags": []
   },
   "outputs": [],
   "source": [
    "Basepay=np.array(df['BasePay'].head(4))"
   ]
  },
  {
   "cell_type": "code",
   "execution_count": 10,
   "metadata": {
    "execution": {
     "iopub.execute_input": "2021-01-19T22:21:01.881552Z",
     "iopub.status.busy": "2021-01-19T22:21:01.880910Z",
     "iopub.status.idle": "2021-01-19T22:21:01.883574Z",
     "shell.execute_reply": "2021-01-19T22:21:01.884128Z"
    },
    "papermill": {
     "duration": 0.033039,
     "end_time": "2021-01-19T22:21:01.884268",
     "exception": false,
     "start_time": "2021-01-19T22:21:01.851229",
     "status": "completed"
    },
    "tags": []
   },
   "outputs": [
    {
     "data": {
      "text/plain": [
       "array([167411.18, 155966.02, 212739.13, 77916.0], dtype=object)"
      ]
     },
     "execution_count": 10,
     "metadata": {},
     "output_type": "execute_result"
    }
   ],
   "source": [
    "Basepay"
   ]
  },
  {
   "cell_type": "code",
   "execution_count": 11,
   "metadata": {
    "execution": {
     "iopub.execute_input": "2021-01-19T22:21:01.938317Z",
     "iopub.status.busy": "2021-01-19T22:21:01.937596Z",
     "iopub.status.idle": "2021-01-19T22:21:02.062336Z",
     "shell.execute_reply": "2021-01-19T22:21:02.062840Z"
    },
    "papermill": {
     "duration": 0.153474,
     "end_time": "2021-01-19T22:21:02.062990",
     "exception": false,
     "start_time": "2021-01-19T22:21:01.909516",
     "status": "completed"
    },
    "tags": []
   },
   "outputs": [
    {
     "data": {
      "image/png": "[encoded data removed]",
      "text/plain": [
       "<Figure size 432x288 with 1 Axes>"
      ]
     },
     "metadata": {},
     "output_type": "display_data"
    }
   ],
   "source": [
    "plt.pie(Basepay,labels=years)\n",
    "plt.show()"
   ]
  },
  {
   "cell_type": "code",
   "execution_count": 12,
   "metadata": {
    "execution": {
     "iopub.execute_input": "2021-01-19T22:21:02.122950Z",
     "iopub.status.busy": "2021-01-19T22:21:02.122235Z",
     "iopub.status.idle": "2021-01-19T22:21:02.125463Z",
     "shell.execute_reply": "2021-01-19T22:21:02.124874Z"
    },
    "papermill": {
     "duration": 0.036426,
     "end_time": "2021-01-19T22:21:02.125589",
     "exception": false,
     "start_time": "2021-01-19T22:21:02.089163",
     "status": "completed"
    },
    "tags": []
   },
   "outputs": [],
   "source": [
    "totalpay=df['TotalPay'].head(50)"
   ]
  },
  {
   "cell_type": "code",
   "execution_count": 13,
   "metadata": {
    "execution": {
     "iopub.execute_input": "2021-01-19T22:21:02.182843Z",
     "iopub.status.busy": "2021-01-19T22:21:02.181876Z",
     "iopub.status.idle": "2021-01-19T22:21:02.193236Z",
     "shell.execute_reply": "2021-01-19T22:21:02.192495Z"
    },
    "papermill": {
     "duration": 0.04152,
     "end_time": "2021-01-19T22:21:02.193429",
     "exception": false,
     "start_time": "2021-01-19T22:21:02.151909",
     "status": "completed"
    },
    "tags": []
   },
   "outputs": [],
   "source": [
    "otherpay=df['OtherPay'].head(50)"
   ]
  },
  {
   "cell_type": "code",
   "execution_count": 14,
   "metadata": {
    "execution": {
     "iopub.execute_input": "2021-01-19T22:21:02.254553Z",
     "iopub.status.busy": "2021-01-19T22:21:02.253880Z",
     "iopub.status.idle": "2021-01-19T22:21:02.414171Z",
     "shell.execute_reply": "2021-01-19T22:21:02.414679Z"
    },
    "papermill": {
     "duration": 0.190826,
     "end_time": "2021-01-19T22:21:02.414839",
     "exception": false,
     "start_time": "2021-01-19T22:21:02.224013",
     "status": "completed"
    },
    "tags": []
   },
   "outputs": [
    {
     "data": {
      "image/png": "[encoded data removed]",
      "text/plain": [
       "<Figure size 432x288 with 1 Axes>"
      ]
     },
     "metadata": {
      "needs_background": "light"
     },
     "output_type": "display_data"
    }
   ],
   "source": [
    "plt.plot(totalpay,otherpay)\n",
    "plt.xlabel('totalpay')\n",
    "plt.ylabel('otherpay')\n",
    "\n",
    "plt.show()"
   ]
  },
  {
   "cell_type": "code",
   "execution_count": 15,
   "metadata": {
    "execution": {
     "iopub.execute_input": "2021-01-19T22:21:02.480974Z",
     "iopub.status.busy": "2021-01-19T22:21:02.480250Z",
     "iopub.status.idle": "2021-01-19T22:21:02.635659Z",
     "shell.execute_reply": "2021-01-19T22:21:02.636200Z"
    },
    "papermill": {
     "duration": 0.193971,
     "end_time": "2021-01-19T22:21:02.636340",
     "exception": false,
     "start_time": "2021-01-19T22:21:02.442369",
     "status": "completed"
    },
    "tags": []
   },
   "outputs": [
    {
     "data": {
      "image/png": "[encoded data removed]",
      "text/plain": [
       "<Figure size 432x288 with 1 Axes>"
      ]
     },
     "metadata": {
      "needs_background": "light"
     },
     "output_type": "display_data"
    }
   ],
   "source": [
    "plt.hist(Basepay)\n",
    "plt.show()"
   ]
  },
  {
   "cell_type": "code",
   "execution_count": 16,
   "metadata": {
    "execution": {
     "iopub.execute_input": "2021-01-19T22:21:02.697301Z",
     "iopub.status.busy": "2021-01-19T22:21:02.696624Z",
     "iopub.status.idle": "2021-01-19T22:21:02.701168Z",
     "shell.execute_reply": "2021-01-19T22:21:02.701678Z"
    },
    "papermill": {
     "duration": 0.036738,
     "end_time": "2021-01-19T22:21:02.701837",
     "exception": false,
     "start_time": "2021-01-19T22:21:02.665099",
     "status": "completed"
    },
    "tags": []
   },
   "outputs": [],
   "source": [
    "EmployeeName=df['EmployeeName'].head(5)"
   ]
  },
  {
   "cell_type": "code",
   "execution_count": 17,
   "metadata": {
    "execution": {
     "iopub.execute_input": "2021-01-19T22:21:02.762426Z",
     "iopub.status.busy": "2021-01-19T22:21:02.761820Z",
     "iopub.status.idle": "2021-01-19T22:21:02.767856Z",
     "shell.execute_reply": "2021-01-19T22:21:02.768545Z"
    },
    "papermill": {
     "duration": 0.038549,
     "end_time": "2021-01-19T22:21:02.768696",
     "exception": false,
     "start_time": "2021-01-19T22:21:02.730147",
     "status": "completed"
    },
    "tags": []
   },
   "outputs": [],
   "source": [
    "TotalPay=df['TotalPay'].head(5)"
   ]
  },
  {
   "cell_type": "code",
   "execution_count": 18,
   "metadata": {
    "execution": {
     "iopub.execute_input": "2021-01-19T22:21:02.830509Z",
     "iopub.status.busy": "2021-01-19T22:21:02.829888Z",
     "iopub.status.idle": "2021-01-19T22:21:02.835709Z",
     "shell.execute_reply": "2021-01-19T22:21:02.836335Z"
    },
    "papermill": {
     "duration": 0.03793,
     "end_time": "2021-01-19T22:21:02.836620",
     "exception": false,
     "start_time": "2021-01-19T22:21:02.798690",
     "status": "completed"
    },
    "tags": []
   },
   "outputs": [
    {
     "data": {
      "text/plain": [
       "0       NATHANIEL FORD\n",
       "1         GARY JIMENEZ\n",
       "2       ALBERT PARDINI\n",
       "3    CHRISTOPHER CHONG\n",
       "4      PATRICK GARDNER\n",
       "Name: EmployeeName, dtype: object"
      ]
     },
     "execution_count": 18,
     "metadata": {},
     "output_type": "execute_result"
    }
   ],
   "source": [
    "EmployeeName"
   ]
  },
  {
   "cell_type": "code",
   "execution_count": 19,
   "metadata": {
    "execution": {
     "iopub.execute_input": "2021-01-19T22:21:02.898948Z",
     "iopub.status.busy": "2021-01-19T22:21:02.898065Z",
     "iopub.status.idle": "2021-01-19T22:21:02.905258Z",
     "shell.execute_reply": "2021-01-19T22:21:02.905952Z"
    },
    "papermill": {
     "duration": 0.040179,
     "end_time": "2021-01-19T22:21:02.906100",
     "exception": false,
     "start_time": "2021-01-19T22:21:02.865921",
     "status": "completed"
    },
    "tags": []
   },
   "outputs": [
    {
     "data": {
      "text/plain": [
       "0    567595.43\n",
       "1    538909.28\n",
       "2    335279.91\n",
       "3    332343.61\n",
       "4    326373.19\n",
       "Name: TotalPay, dtype: float64"
      ]
     },
     "execution_count": 19,
     "metadata": {},
     "output_type": "execute_result"
    }
   ],
   "source": [
    "TotalPay"
   ]
  },
  {
   "cell_type": "code",
   "execution_count": 20,
   "metadata": {
    "execution": {
     "iopub.execute_input": "2021-01-19T22:21:02.977522Z",
     "iopub.status.busy": "2021-01-19T22:21:02.976718Z",
     "iopub.status.idle": "2021-01-19T22:21:03.029613Z",
     "shell.execute_reply": "2021-01-19T22:21:03.030132Z"
    },
    "papermill": {
     "duration": 0.093906,
     "end_time": "2021-01-19T22:21:03.030295",
     "exception": false,
     "start_time": "2021-01-19T22:21:02.936389",
     "status": "completed"
    },
    "tags": []
   },
   "outputs": [
    {
     "data": {
      "image/png": "[encoded data removed]",
      "text/plain": [
       "<Figure size 432x288 with 1 Axes>"
      ]
     },
     "metadata": {},
     "output_type": "display_data"
    }
   ],
   "source": [
    "plt.pie(TotalPay,labels=EmployeeName)\n",
    "\n",
    "plt.show()"
   ]
  },
  {
   "cell_type": "code",
   "execution_count": 21,
   "metadata": {
    "execution": {
     "iopub.execute_input": "2021-01-19T22:21:03.095283Z",
     "iopub.status.busy": "2021-01-19T22:21:03.094647Z",
     "iopub.status.idle": "2021-01-19T22:21:03.252192Z",
     "shell.execute_reply": "2021-01-19T22:21:03.252735Z"
    },
    "papermill": {
     "duration": 0.191473,
     "end_time": "2021-01-19T22:21:03.252904",
     "exception": false,
     "start_time": "2021-01-19T22:21:03.061431",
     "status": "completed"
    },
    "tags": []
   },
   "outputs": [
    {
     "data": {
      "image/png": "[encoded data removed]",
      "text/plain": [
       "<Figure size 432x288 with 1 Axes>"
      ]
     },
     "metadata": {
      "needs_background": "light"
     },
     "output_type": "display_data"
    }
   ],
   "source": [
    "plt.hist(TotalPay)\n",
    "plt.show()"
   ]
  },
  {
   "cell_type": "code",
   "execution_count": 22,
   "metadata": {
    "execution": {
     "iopub.execute_input": "2021-01-19T22:21:03.319831Z",
     "iopub.status.busy": "2021-01-19T22:21:03.319181Z",
     "iopub.status.idle": "2021-01-19T22:21:03.324309Z",
     "shell.execute_reply": "2021-01-19T22:21:03.323599Z"
    },
    "papermill": {
     "duration": 0.039948,
     "end_time": "2021-01-19T22:21:03.324501",
     "exception": false,
     "start_time": "2021-01-19T22:21:03.284553",
     "status": "completed"
    },
    "tags": []
   },
   "outputs": [],
   "source": [
    "basepay=df['BasePay'].head(5)"
   ]
  },
  {
   "cell_type": "code",
   "execution_count": 23,
   "metadata": {
    "execution": {
     "iopub.execute_input": "2021-01-19T22:21:03.397472Z",
     "iopub.status.busy": "2021-01-19T22:21:03.396788Z",
     "iopub.status.idle": "2021-01-19T22:21:03.399779Z",
     "shell.execute_reply": "2021-01-19T22:21:03.399287Z"
    },
    "papermill": {
     "duration": 0.040383,
     "end_time": "2021-01-19T22:21:03.399943",
     "exception": false,
     "start_time": "2021-01-19T22:21:03.359560",
     "status": "completed"
    },
    "tags": []
   },
   "outputs": [],
   "source": [
    "overtimepay=df['OvertimePay'].head(5)"
   ]
  },
  {
   "cell_type": "code",
   "execution_count": 24,
   "metadata": {
    "execution": {
     "iopub.execute_input": "2021-01-19T22:21:03.498069Z",
     "iopub.status.busy": "2021-01-19T22:21:03.497304Z",
     "iopub.status.idle": "2021-01-19T22:21:03.617372Z",
     "shell.execute_reply": "2021-01-19T22:21:03.616725Z"
    },
    "papermill": {
     "duration": 0.184858,
     "end_time": "2021-01-19T22:21:03.617499",
     "exception": false,
     "start_time": "2021-01-19T22:21:03.432641",
     "status": "completed"
    },
    "tags": []
   },
   "outputs": [
    {
     "data": {
      "image/png": "[encoded data removed]",
      "text/plain": [
       "<Figure size 432x288 with 1 Axes>"
      ]
     },
     "metadata": {
      "needs_background": "light"
     },
     "output_type": "display_data"
    }
   ],
   "source": [
    "plt.plot(TotalPay,basepay,ls='-',marker='+',mew=8)\n",
    "plt.plot(TotalPay,overtimepay,ls='--',lw=1)\n",
    "plt.show()"
   ]
  },
  {
   "cell_type": "code",
   "execution_count": 25,
   "metadata": {
    "execution": {
     "iopub.execute_input": "2021-01-19T22:21:03.786913Z",
     "iopub.status.busy": "2021-01-19T22:21:03.782221Z",
     "iopub.status.idle": "2021-01-19T22:21:04.023741Z",
     "shell.execute_reply": "2021-01-19T22:21:04.023197Z"
    },
    "papermill": {
     "duration": 0.373464,
     "end_time": "2021-01-19T22:21:04.023873",
     "exception": false,
     "start_time": "2021-01-19T22:21:03.650409",
     "status": "completed"
    },
    "tags": []
   },
   "outputs": [
    {
     "data": {
      "image/png": "[encoded data removed]",
      "text/plain": [
       "<Figure size 432x288 with 2 Axes>"
      ]
     },
     "metadata": {
      "needs_background": "light"
     },
     "output_type": "display_data"
    }
   ],
   "source": [
    "plt.subplot(1,2,1)\n",
    "plt.plot(TotalPay,overtimepay)\n",
    "plt.title('TotalPay vs overtimepay')\n",
    "\n",
    "\n",
    "plt.subplot(1,2,2)\n",
    "plt.plot(TotalPay,basepay)\n",
    "plt.title('TotalPay vs basepay')\n",
    "\n",
    "plt.show()"
   ]
  },
  {
   "cell_type": "code",
   "execution_count": 26,
   "metadata": {
    "execution": {
     "iopub.execute_input": "2021-01-19T22:21:04.098589Z",
     "iopub.status.busy": "2021-01-19T22:21:04.097695Z",
     "iopub.status.idle": "2021-01-19T22:21:04.101576Z",
     "shell.execute_reply": "2021-01-19T22:21:04.101020Z"
    },
    "papermill": {
     "duration": 0.044052,
     "end_time": "2021-01-19T22:21:04.101684",
     "exception": false,
     "start_time": "2021-01-19T22:21:04.057632",
     "status": "completed"
    },
    "tags": []
   },
   "outputs": [],
   "source": [
    "EmployeeName=df['EmployeeName'].head(5)"
   ]
  },
  {
   "cell_type": "code",
   "execution_count": 27,
   "metadata": {
    "execution": {
     "iopub.execute_input": "2021-01-19T22:21:04.177955Z",
     "iopub.status.busy": "2021-01-19T22:21:04.177234Z",
     "iopub.status.idle": "2021-01-19T22:21:04.181636Z",
     "shell.execute_reply": "2021-01-19T22:21:04.180982Z"
    },
    "papermill": {
     "duration": 0.044725,
     "end_time": "2021-01-19T22:21:04.181756",
     "exception": false,
     "start_time": "2021-01-19T22:21:04.137031",
     "status": "completed"
    },
    "tags": []
   },
   "outputs": [
    {
     "data": {
      "text/plain": [
       "0       NATHANIEL FORD\n",
       "1         GARY JIMENEZ\n",
       "2       ALBERT PARDINI\n",
       "3    CHRISTOPHER CHONG\n",
       "4      PATRICK GARDNER\n",
       "Name: EmployeeName, dtype: object"
      ]
     },
     "execution_count": 27,
     "metadata": {},
     "output_type": "execute_result"
    }
   ],
   "source": [
    "EmployeeName"
   ]
  },
  {
   "cell_type": "code",
   "execution_count": 28,
   "metadata": {
    "execution": {
     "iopub.execute_input": "2021-01-19T22:21:04.282672Z",
     "iopub.status.busy": "2021-01-19T22:21:04.281601Z",
     "iopub.status.idle": "2021-01-19T22:21:04.285568Z",
     "shell.execute_reply": "2021-01-19T22:21:04.286498Z"
    },
    "papermill": {
     "duration": 0.056534,
     "end_time": "2021-01-19T22:21:04.286718",
     "exception": false,
     "start_time": "2021-01-19T22:21:04.230184",
     "status": "completed"
    },
    "tags": []
   },
   "outputs": [],
   "source": [
    "Year=df['Year'].head(5)"
   ]
  },
  {
   "cell_type": "code",
   "execution_count": 29,
   "metadata": {
    "execution": {
     "iopub.execute_input": "2021-01-19T22:21:04.382981Z",
     "iopub.status.busy": "2021-01-19T22:21:04.381921Z",
     "iopub.status.idle": "2021-01-19T22:21:05.578097Z",
     "shell.execute_reply": "2021-01-19T22:21:05.577424Z"
    },
    "papermill": {
     "duration": 1.244605,
     "end_time": "2021-01-19T22:21:05.578212",
     "exception": false,
     "start_time": "2021-01-19T22:21:04.333607",
     "status": "completed"
    },
    "tags": []
   },
   "outputs": [
    {
     "data": {
      "image/png": "[encoded data removed]",
      "text/plain": [
       "<Figure size 432x288 with 1 Axes>"
      ]
     },
     "metadata": {
      "needs_background": "light"
     },
     "output_type": "display_data"
    }
   ],
   "source": [
    "sb.barplot(x='Year',y='TotalPay',data=df)\n",
    "plt.show()"
   ]
  },
  {
   "cell_type": "code",
   "execution_count": 30,
   "metadata": {
    "execution": {
     "iopub.execute_input": "2021-01-19T22:21:05.657219Z",
     "iopub.status.busy": "2021-01-19T22:21:05.656149Z",
     "iopub.status.idle": "2021-01-19T22:21:05.920057Z",
     "shell.execute_reply": "2021-01-19T22:21:05.920777Z"
    },
    "papermill": {
     "duration": 0.307491,
     "end_time": "2021-01-19T22:21:05.920941",
     "exception": false,
     "start_time": "2021-01-19T22:21:05.613450",
     "status": "completed"
    },
    "tags": []
   },
   "outputs": [
    {
     "name": "stderr",
     "output_type": "stream",
     "text": [
      "C:\\Users\\Akshay Rao\\anaconda3\\lib\\site-packages\\seaborn\\_decorators.py:36: FutureWarning: Pass the following variable as a keyword arg: x. From version 0.12, the only valid positional argument will be `data`, and passing other arguments without an explicit keyword will result in an error or misinterpretation.\n",
      "  warnings.warn(\n"
     ]
    },
    {
     "data": {
      "image/png": "[encoded data removed]",
      "text/plain": [
       "<Figure size 432x288 with 1 Axes>"
      ]
     },
     "metadata": {
      "needs_background": "light"
     },
     "output_type": "display_data"
    }
   ],
   "source": [
    "sb.countplot(overtimepay,data=df,hue='Year')\n",
    "plt.show()"
   ]
  },
  {
   "cell_type": "code",
   "execution_count": null,
   "metadata": {
    "execution": {
     "iopub.execute_input": "2021-01-19T22:21:06.002679Z",
     "iopub.status.busy": "2021-01-19T22:21:06.001037Z",
     "iopub.status.idle": "2021-01-19T22:22:14.585257Z",
     "shell.execute_reply": "2021-01-19T22:22:14.585834Z"
    },
    "papermill": {
     "duration": 68.627794,
     "end_time": "2021-01-19T22:22:14.586000",
     "exception": false,
     "start_time": "2021-01-19T22:21:05.958206",
     "status": "completed"
    },
    "tags": []
   },
   "outputs": [],
   "source": [
    "sb.pairplot(df,hue='Year',palette='hls',plot_kws={'s':80})\n",
    "plt.show()"
   ]
  },
  {
   "cell_type": "code",
   "execution_count": null,
   "metadata": {
    "execution": {
     "iopub.execute_input": "2021-01-19T22:22:14.704283Z",
     "iopub.status.busy": "2021-01-19T22:22:14.703529Z",
     "iopub.status.idle": "2021-01-19T22:22:14.707548Z",
     "shell.execute_reply": "2021-01-19T22:22:14.707020Z"
    },
    "papermill": {
     "duration": 0.065938,
     "end_time": "2021-01-19T22:22:14.707666",
     "exception": false,
     "start_time": "2021-01-19T22:22:14.641728",
     "status": "completed"
    },
    "tags": []
   },
   "outputs": [],
   "source": [
    "JobTitle=df['JobTitle'].head(5)"
   ]
  },
  {
   "cell_type": "code",
   "execution_count": null,
   "metadata": {
    "execution": {
     "iopub.execute_input": "2021-01-19T22:22:14.825335Z",
     "iopub.status.busy": "2021-01-19T22:22:14.824442Z",
     "iopub.status.idle": "2021-01-19T22:23:49.888669Z",
     "shell.execute_reply": "2021-01-19T22:23:49.889420Z"
    },
    "papermill": {
     "duration": 95.124397,
     "end_time": "2021-01-19T22:23:49.889613",
     "exception": false,
     "start_time": "2021-01-19T22:22:14.765216",
     "status": "completed"
    },
    "tags": []
   },
   "outputs": [],
   "source": [
    "sb.boxplot(x='JobTitle',y='TotalPay',data=df,hue='Year')\n",
    "plt.show()"
   ]
  },
  {
   "cell_type": "code",
   "execution_count": null,
   "metadata": {
    "execution": {
     "iopub.execute_input": "2021-01-19T22:23:50.019884Z",
     "iopub.status.busy": "2021-01-19T22:23:50.018170Z",
     "iopub.status.idle": "2021-01-19T22:23:51.152634Z",
     "shell.execute_reply": "2021-01-19T22:23:51.153284Z"
    },
    "papermill": {
     "duration": 1.205771,
     "end_time": "2021-01-19T22:23:51.153457",
     "exception": false,
     "start_time": "2021-01-19T22:23:49.947686",
     "status": "completed"
    },
    "tags": []
   },
   "outputs": [],
   "source": [
    "sb.jointplot(x='Year',y='TotalPay',data=df)\n",
    "plt.show()"
   ]
  }
 ],
 "metadata": {
  "kernelspec": {
   "display_name": "Python 3",
   "language": "python",
   "name": "python3"
  },
  "language_info": {
   "codemirror_mode": {
    "name": "ipython",
    "version": 3
   },
   "file_extension": ".py",
   "mimetype": "text/x-python",
   "name": "python",
   "nbconvert_exporter": "python",
   "pygments_lexer": "ipython3",
   "version": "3.8.5"
  },
  "papermill": {
   "duration": 176.755959,
   "end_time": "2021-01-19T22:23:51.436187",
   "environment_variables": {},
   "exception": null,
   "input_path": "__notebook__.ipynb",
   "output_path": "__notebook__.ipynb",
   "parameters": {},
   "start_time": "2021-01-19T22:20:54.680228",
   "version": "2.1.0"
  }
 },
 "nbformat": 4,
 "nbformat_minor": 4
}
