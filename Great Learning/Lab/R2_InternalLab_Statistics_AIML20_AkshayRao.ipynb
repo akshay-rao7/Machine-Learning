{
 "cells": [
  {
   "cell_type": "code",
   "execution_count": 5,
   "metadata": {
    "colab": {
     "base_uri": "https://localhost:8080/",
     "height": 71
    },
    "colab_type": "code",
    "id": "ea0ttzRzZwcp",
    "outputId": "7336f693-1fb2-478d-f377-916d245295c8"
   },
   "outputs": [
    {
     "name": "stderr",
     "output_type": "stream",
     "text": [
      "/usr/local/lib/python3.6/dist-packages/statsmodels/tools/_testing.py:19: FutureWarning: pandas.util.testing is deprecated. Use the functions in the public API at pandas.testing instead.\n",
      "  import pandas.util.testing as tm\n"
     ]
    }
   ],
   "source": [
    "import numpy       as np\n",
    "import pandas      as pd\n",
    "import scipy.stats as stats\n",
    "from scipy.stats             import ttest_1samp,ttest_ind, wilcoxon\n",
    "from statsmodels.stats.power import ttest_power\n",
    "import matplotlib.pyplot     as     plt"
   ]
  },
  {
   "cell_type": "markdown",
   "metadata": {
    "colab_type": "text",
    "id": "QYZr9yOCs4A-"
   },
   "source": [
    "## Q1- Q3 Description-  The data collected by an Advertisement agency has revealed that out of 2800 visitors, 56 visitors clicked on 1 Advertisement, 30 clicked on 2 advertisements and 14 clicked on 3 advertisements and the remaining did not click on any advertisement.\n",
    "\n",
    "Calculate\n",
    "\n",
    "### Q1 The probability that a visitor to the website will not click on any advertisement.\n"
   ]
  },
  {
   "cell_type": "markdown",
   "metadata": {
    "colab_type": "text",
    "id": "ZVJA_Uo6tAti"
   },
   "source": [
    "A) The probability that a visitor to the website will not click on any advertisement.\n",
    "\n",
    "Here 56 visitors click on 1 advertisement\n",
    "\n",
    "Here 30 visitors click on 2 advertisements\n",
    "\n",
    "Here 14 visitors click on 3 advertisements\n",
    "\n",
    "Hence, the total number of customers clicking on any advertisement is 100"
   ]
  },
  {
   "cell_type": "code",
   "execution_count": 9,
   "metadata": {
    "colab": {
     "base_uri": "https://localhost:8080/",
     "height": 34
    },
    "colab_type": "code",
    "id": "9F5PVG8otHe8",
    "outputId": "be759a75-f288-4850-f0db-7e996ca98d49"
   },
   "outputs": [
    {
     "name": "stdout",
     "output_type": "stream",
     "text": [
      "a. The probability that a visitor to the website will not click on any advertisement is 0.9643\n"
     ]
    }
   ],
   "source": [
    "FE1 = 2800 - 100\n",
    "TE  = 2800\n",
    "PE1 = round(FE1 / TE,4)\n",
    "print('a. The probability that a visitor to the website will not click on any advertisement is %1.4f' % PE1)"
   ]
  },
  {
   "cell_type": "markdown",
   "metadata": {
    "colab_type": "text",
    "id": "dDaMBGPnwLJA"
   },
   "source": [
    "### Q2 The probability that a visitor to the website will click on an advertisement."
   ]
  },
  {
   "cell_type": "code",
   "execution_count": 10,
   "metadata": {
    "colab": {
     "base_uri": "https://localhost:8080/",
     "height": 34
    },
    "colab_type": "code",
    "id": "YGflRROitMht",
    "outputId": "820a0cbe-3914-4899-a0e5-05abcddd7f9c"
   },
   "outputs": [
    {
     "name": "stdout",
     "output_type": "stream",
     "text": [
      "b. The probability that a visitor to the website will click on an advertisement is 0.0357\n"
     ]
    }
   ],
   "source": [
    "FE2 = 100 # 56 + 30 + 14\n",
    "TE  = 2800\n",
    "PE2 = round(FE2 / TE,4)\n",
    "print('b. The probability that a visitor to the website will click on an advertisement is %1.4f' % PE2)"
   ]
  },
  {
   "cell_type": "markdown",
   "metadata": {
    "colab_type": "text",
    "id": "x1A8GTBbwP-D"
   },
   "source": [
    "## Q3 The probability that a visitor to the website will click on more than one advertisement."
   ]
  },
  {
   "cell_type": "code",
   "execution_count": 11,
   "metadata": {
    "colab": {
     "base_uri": "https://localhost:8080/",
     "height": 34
    },
    "colab_type": "code",
    "id": "LZ0ItOL9tO0u",
    "outputId": "64795fac-39e6-41d6-c57a-e3e39a1fd2bf"
   },
   "outputs": [
    {
     "name": "stdout",
     "output_type": "stream",
     "text": [
      "c. The probability that a visitor to the website will click on more than one advertisement. is 0.0157\n"
     ]
    }
   ],
   "source": [
    "FE3 = 44 # = 30 + 14\n",
    "TE  = 2800\n",
    "PE3 = round(FE3 / TE,4) \n",
    "print('c. The probability that a visitor to the website will click on more than one advertisement. is %1.4f' % PE3)"
   ]
  },
  {
   "cell_type": "markdown",
   "metadata": {
    "colab_type": "text",
    "id": "Bn_1RzXcu-Q5"
   },
   "source": [
    "## Q4 -5 Description - At a popular company service center, a total of 100 complaints were received. 80 customers complained about late delivery of the items and 60 complained about poor product quality.\n",
    "\n",
    "## Q4 Calculate the probability that a customer complaint will be about both product quality and late delivery.\n"
   ]
  },
  {
   "cell_type": "code",
   "execution_count": 12,
   "metadata": {
    "colab": {
     "base_uri": "https://localhost:8080/",
     "height": 51
    },
    "colab_type": "code",
    "id": "P63DnuKvvEmD",
    "outputId": "6e709cc3-d026-473e-a0cd-4941e6bbb1bd"
   },
   "outputs": [
    {
     "name": "stdout",
     "output_type": "stream",
     "text": [
      "a.Probability that a customer complaint will\n",
      "       be about both product quality and late delivery. is 0.4000\n"
     ]
    }
   ],
   "source": [
    "FE4 = 40 # = (80 + 60) - 100 \n",
    "TE  = 100\n",
    "PE4 = round(FE4 / TE,4) \n",
    "print('a.Probability that a customer complaint will\\n\\\n",
    "       be about both product quality and late delivery. is %1.4f' % PE4)"
   ]
  },
  {
   "cell_type": "markdown",
   "metadata": {
    "colab_type": "text",
    "id": "O_XYI2Atwbuw"
   },
   "source": [
    "## Q5 - What is the probability that a complaint will be only about late delivery?"
   ]
  },
  {
   "cell_type": "code",
   "execution_count": 13,
   "metadata": {
    "colab": {
     "base_uri": "https://localhost:8080/",
     "height": 51
    },
    "colab_type": "code",
    "id": "KJJY1wL2vMAt",
    "outputId": "46c54fd2-eddc-4f23-ddd5-678dc78b4c69"
   },
   "outputs": [
    {
     "name": "stdout",
     "output_type": "stream",
     "text": [
      "b.probability that a complaint will be \n",
      "         only about late delivery. is 0.4000\n"
     ]
    }
   ],
   "source": [
    "# FE5 is the complaints about poor quality\n",
    "FE5 = 60\n",
    "TE  = 100\n",
    "PE5 = round(FE5 / TE,4) \n",
    "PE6 = 1 - PE5\n",
    "# So,1 - PE5 is the Probability that a customer complaint will be about\n",
    "#        both product quality and late delivery \n",
    "print('b.probability that a complaint will be \\n\\\n",
    "         only about late delivery. is %1.4f' % PE6)"
   ]
  },
  {
   "cell_type": "markdown",
   "metadata": {
    "colab_type": "text",
    "id": "Ufagdi4UpLGN"
   },
   "source": [
    "## Q6 You are given the daily sugar intake of 11 diabetic patients in the following Python code. Is there any evidence to the claim that the average daily sugar intake of the diabetic patients is 7600 mg.\n",
    "\n",
    "Hint: Use t test"
   ]
  },
  {
   "cell_type": "code",
   "execution_count": 0,
   "metadata": {
    "colab": {},
    "colab_type": "code",
    "id": "Ogl01v4GpKCt"
   },
   "outputs": [],
   "source": [
    "# daily intake of Sugar in milligrams for 11 diabetic patients\n",
    "import numpy as np\n",
    "daily_intake = np.array([5560, 5770, 7640, 5180, 5690, 6435, 6803, 7689, 6876, 8213, 8765])"
   ]
  },
  {
   "cell_type": "code",
   "execution_count": 6,
   "metadata": {
    "colab": {
     "base_uri": "https://localhost:8080/",
     "height": 34
    },
    "colab_type": "code",
    "id": "LyqVHok3p3LV",
    "outputId": "fc0f49ef-96f0-47ae-9541-aa244bffc091"
   },
   "outputs": [
    {
     "name": "stdout",
     "output_type": "stream",
     "text": [
      "Mean is 6783.7 Sd is 1180.9\n"
     ]
    }
   ],
   "source": [
    "print('Mean is %2.1f Sd is %2.1f' % (daily_intake.mean(),np.std(daily_intake,ddof = 1)))"
   ]
  },
  {
   "cell_type": "code",
   "execution_count": 0,
   "metadata": {
    "colab": {},
    "colab_type": "code",
    "id": "4tzrNd6wp5w7"
   },
   "outputs": [],
   "source": [
    "t_statistic, p_value = ttest_1samp(daily_intake, 7600)"
   ]
  },
  {
   "cell_type": "code",
   "execution_count": 8,
   "metadata": {
    "colab": {
     "base_uri": "https://localhost:8080/",
     "height": 34
    },
    "colab_type": "code",
    "id": "AzzoI_0Up9A3",
    "outputId": "307ad9dd-3014-4b5d-f62f-7f1f57f0eb5d"
   },
   "outputs": [
    {
     "name": "stdout",
     "output_type": "stream",
     "text": [
      "-2.2925841964555027 0.04481624562570511\n"
     ]
    }
   ],
   "source": [
    "print(t_statistic, p_value)"
   ]
  },
  {
   "cell_type": "markdown",
   "metadata": {
    "colab_type": "text",
    "id": "jItt9JBYqHFf"
   },
   "source": [
    "In this example, p value is 0.044 and it is less than 5% level of significance\n",
    "\n",
    "So the statistical decision is to reject the null hypothesis at 5% level of significance.\n",
    "\n",
    "So there is no sufficient evidence to prove that there is no evidence to the claim\n",
    "that the average daily sugar intake of the diabetic patients is 7600 mg."
   ]
  },
  {
   "cell_type": "markdown",
   "metadata": {
    "colab_type": "text",
    "id": "PzNPNv1lZwc7"
   },
   "source": [
    "## Q7-Q8 Description Write the null and alternative hypothesis from the following hypopthesis description:\n",
    "## Q7Average annual salary of Data Scientists is different for those having Ph.D in Statistics and those who do not.\n",
    "* Let $\\mu_{PhD}$ be the average annual salary of a Data scientist with Ph.D in Statistics.\n",
    "* Let $\\mu_{NoPhD}$ be the average annual salary of a Data scientist without Ph.D in Statistics."
   ]
  },
  {
   "cell_type": "markdown",
   "metadata": {
    "colab_type": "text",
    "id": "j7gy6cwfZwc8"
   },
   "source": [
    "## Answer - \n",
    "* Null hypothesis:        $H_0$: $\\mu_{PhD}$ =    $\\mu_{NoPhD}$ \n",
    "* Alternative hypothesis: $H_A$: $\\mu_{PhD}$ $\\neq$ $\\mu_{NoPhD}$ "
   ]
  },
  {
   "cell_type": "markdown",
   "metadata": {
    "colab_type": "text",
    "id": "sLP2X7UxZwc8"
   },
   "source": [
    "Since the rejection region is on either side of the distribution, it will be a **two-tailed** test."
   ]
  },
  {
   "cell_type": "markdown",
   "metadata": {
    "colab_type": "text",
    "id": "OIUIIEBEZwc9"
   },
   "source": [
    "## Q8 Average annual salary of Data Scientists is more for those having Ph.D in Statistics and those who do not."
   ]
  },
  {
   "cell_type": "markdown",
   "metadata": {
    "colab_type": "text",
    "id": "VheHxO0XZwc9"
   },
   "source": [
    "## Answer -\n",
    "* Null hypothesis:        $H_0$: $\\mu_{PhD}$ $\\leq$   $\\mu_{NoPhD}$ \n",
    "* Alternative hypothesis: $H_A$: $\\mu_{PhD}$ >        $\\mu_{NoPhD}$ "
   ]
  },
  {
   "cell_type": "markdown",
   "metadata": {
    "colab_type": "text",
    "id": "xA4nWQfUZwc-"
   },
   "source": [
    "Since the rejection region is on the right side of the distribution, it will be a one-tailed test."
   ]
  },
  {
   "cell_type": "markdown",
   "metadata": {
    "colab_type": "text",
    "id": "buanCghHvjfy"
   },
   "source": [
    "## Q9 - Compare the following two unrelated samples. Data was collected on the weight of women and men enrolled in a weight reduction program. At 𝛼 α = 0.05, test whether the weight of these two samples is different."
   ]
  },
  {
   "cell_type": "code",
   "execution_count": 0,
   "metadata": {
    "colab": {},
    "colab_type": "code",
    "id": "aR0aTl3Vvc1B"
   },
   "outputs": [],
   "source": [
    "Weight_Female       =  [ 53.8, 54.4, 51.2, 52.5, 61.0, 50.6, 51.6, 70.0]\n",
    "Weight_Male         =  [ 72.5, 80.3, 71.3, 67.7, 66.2, 73.4, 61.3, 76.8]"
   ]
  },
  {
   "cell_type": "markdown",
   "metadata": {
    "colab_type": "text",
    "id": "ELXhCM2Lvs0F"
   },
   "source": [
    "NULL HYPOTHSIS MALE AND FEMALE WEIGHT IS EQUAL.\n",
    "\n",
    "ALTERNATE HYPOTHESIS MALE AND FEMALE WEIGHT IS DIFFERENT.\n",
    "\n",
    "OUR CONDITION IS TO PROVE THAT WEIGHT OF THE MALE AND FEMALE ARE NOT EQUAL SO,WE REQUIRE ALTERNATE HYPOTHESIS."
   ]
  },
  {
   "cell_type": "code",
   "execution_count": 15,
   "metadata": {
    "colab": {
     "base_uri": "https://localhost:8080/",
     "height": 34
    },
    "colab_type": "code",
    "id": "D8aGT6BRvvEJ",
    "outputId": "4c7598ed-2e38-4211-ad5c-74ecabe5fb8a"
   },
   "outputs": [
    {
     "name": "stdout",
     "output_type": "stream",
     "text": [
      "P Value 0.000\n"
     ]
    }
   ],
   "source": [
    "t_statistic, p_value  =  stats.ttest_ind(Weight_Female,Weight_Male)\n",
    "print('P Value %1.3f' % p_value)  "
   ]
  },
  {
   "cell_type": "markdown",
   "metadata": {
    "colab_type": "text",
    "id": "xxSQgQjovyNX"
   },
   "source": [
    "In this example, p value is 0.000 and it is LESS than 5% level of significance\n",
    "\n",
    "So the statistical decision is to REJECT the null hypothesis at 5% level of significance.\n",
    "\n",
    "So there is sufficient evidence to reject the null hypothesis that the weight of these two samples is different."
   ]
  },
  {
   "cell_type": "markdown",
   "metadata": {
    "colab_type": "text",
    "id": "CR60_1hJwxKl"
   },
   "source": [
    "## Q10 - A Cable service provider company is interested in checking whether or not the customer churn depends on customer segment. Use 5% as level of significance\n",
    "\n"
   ]
  },
  {
   "cell_type": "markdown",
   "metadata": {
    "colab_type": "text",
    "id": "5jTapB-2rFZV"
   },
   "source": [
    "| Customer Segment | Churned | Retained |\n",
    "|  -------- | ----- | ---- |\n",
    "| S1 | 15 | 142 |\n",
    "| S2 | 24 | 400 |\n",
    "| S3 | 30 | 389 |\n"
   ]
  },
  {
   "cell_type": "code",
   "execution_count": 16,
   "metadata": {
    "colab": {
     "base_uri": "https://localhost:8080/",
     "height": 34
    },
    "colab_type": "code",
    "id": "WtWXyUJmxANe",
    "outputId": "d0dc4a73-7ebd-4261-83d2-2165adfc3342"
   },
   "outputs": [
    {
     "name": "stdout",
     "output_type": "stream",
     "text": [
      "Chi-square statistic 2.77998 P value 0.249078 Degrees of freedom 2\n"
     ]
    }
   ],
   "source": [
    "import numpy       as np\n",
    "import scipy.stats as stats\n",
    "\n",
    "churn_array = np.array([[15,142],[24, 400],[30, 389]])\n",
    "chi_sq_Stat, p_value, deg_freedom, exp_freq = stats.chi2_contingency(churn_array)\n",
    "\n",
    "print('Chi-square statistic %3.5f P value %1.6f Degrees of freedom %d' %(chi_sq_Stat, p_value,deg_freedom))"
   ]
  },
  {
   "cell_type": "markdown",
   "metadata": {
    "colab_type": "text",
    "id": "rDVHgH7dxE1O"
   },
   "source": [
    "In this example, p value is 0.249078 and > 0.05 so we wont reject the null hypothesis."
   ]
  },
  {
   "cell_type": "markdown",
   "metadata": {
    "colab_type": "text",
    "id": "7IsDxBgOZwfX"
   },
   "source": [
    "## End"
   ]
  }
 ],
 "metadata": {
  "colab": {
   "collapsed_sections": [
    "7IsDxBgOZwfX"
   ],
   "name": "R2- Lab-Statistical Learning.ipynb",
   "provenance": []
  },
  "kernelspec": {
   "display_name": "Python 3",
   "language": "python",
   "name": "python3"
  },
  "language_info": {
   "codemirror_mode": {
    "name": "ipython",
    "version": 3
   },
   "file_extension": ".py",
   "mimetype": "text/x-python",
   "name": "python",
   "nbconvert_exporter": "python",
   "pygments_lexer": "ipython3",
   "version": "3.8.3"
  }
 },
 "nbformat": 4,
 "nbformat_minor": 1
}
